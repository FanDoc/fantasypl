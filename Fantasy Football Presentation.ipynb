{
 "metadata": {
  "name": ""
 },
 "nbformat": 3,
 "nbformat_minor": 0,
 "worksheets": [
  {
   "cells": [
    {
     "cell_type": "markdown",
     "metadata": {
      "slideshow": {
       "slide_type": "slide"
      }
     },
     "source": [
      "<h1>Choosing a Fantasy Football Team</h1>\n",
      "\n",
      "<h2>co-starring: IPython Notebook, matplotlib, and lp_solve</h2>\n",
      "\n",
      "<center>\n",
      "\n",
      "<p class=\"gap05\"<p>\n",
      "<h3>Bill Mill</h3>\n",
      "<h4>[billmill.org](http://billmill.org)\n",
      "<br>[github.com/llimllib](http://github.com/llimllib)\n",
      "<br>[&#64;llimllib](http://twitter.com/llimllib)</h4>\n",
      "\n",
      "<p class=\"gap2\"><p>\n",
      "</center>"
     ]
    },
    {
     "cell_type": "markdown",
     "metadata": {
      "slideshow": {
       "slide_type": "notes"
      }
     },
     "source": [
      "Hello, and thanks for coming. My name's Bill Mill, and I'm here to talk to you about choosing a fantasy football team with IPython, matplotlib, and lp_solve.\n",
      "\n",
      "*Sam notes*: introduce myself more?"
     ]
    },
    {
     "cell_type": "markdown",
     "metadata": {
      "slideshow": {
       "slide_type": "slide"
      }
     },
     "source": [
      "<center>\n",
      "![](files/images/thisnotthis.png)\n",
      "</center>"
     ]
    },
    {
     "cell_type": "markdown",
     "metadata": {
      "slideshow": {
       "slide_type": "notes"
      }
     },
     "source": [
      "A few weeks ago, my friend suckered me into a fantasy football league - the kind with round balls, not oblong. I like watching soccer, but I didn't have any idea how the fantasy game worked.\n",
      "\n",
      "I *am* competitive though, so I wanted to do well enough not to embarrass myself.\n",
      "\n",
      "The first thing I had to do was to figure out how the game works."
     ]
    },
    {
     "cell_type": "markdown",
     "metadata": {
      "slideshow": {
       "slide_type": "slide"
      }
     },
     "source": [
      "<center>\n",
      "![](files/images/screen.png)\n",
      "</center>"
     ]
    },
    {
     "cell_type": "markdown",
     "metadata": {
      "slideshow": {
       "slide_type": "notes"
      }
     },
     "source": [
      "In Fantasy Football, you have a team of 15 British Premier League players; 2 goalkeepers, 5 defenders, 5 midfielders, and 3 forwards.\n",
      "\n",
      "Each week, you pick 11 starters and 4 subs. You score points based on how well your players do: goals, assists, saves and preventing the other team from scoring all gain you fantasy points."
     ]
    },
    {
     "cell_type": "markdown",
     "metadata": {
      "slideshow": {
       "slide_type": "slide"
      }
     },
     "source": [
      "# You have a limited budget\n",
      "<center>\n",
      "![](files/images/bank.jpg)\n",
      "</center>\n",
      "    \n",
      "# And each player costs a certain amount\n",
      "<center>\n",
      "![](files/images/prices.jpg)\n",
      "</center>"
     ]
    },
    {
     "cell_type": "markdown",
     "metadata": {
      "slideshow": {
       "slide_type": "notes"
      }
     },
     "source": [
      "As you assemble your team, you have one big constraint: each player costs a certain amount of money, and you have a limited bankroll. So, to assemble your team, you want to choose the 15 players that will score the most points *given* that they cost less than your bank account.\n",
      "\n",
      "The cost for each player ranges from about \u00a34 to 14, based on how many other people have bought the player, and is not fixed. If a player scores more fantasy points, his price will go up; fewer and his price goes down."
     ]
    },
    {
     "cell_type": "markdown",
     "metadata": {
      "slideshow": {
       "slide_type": "slide"
      }
     },
     "source": [
      "<center>\n",
      "<h1>That sounds like an optimization problem...</h1>\n",
      "\n",
      "<h2>I bet I could solve that with code</h2>\n",
      "</center>"
     ]
    },
    {
     "cell_type": "markdown",
     "metadata": {
      "slideshow": {
       "slide_type": "notes"
      }
     },
     "source": [
      "Once I'd picked up the rules, I started playing around with building up a team. I managed to build one manually, but it was a pain and I did so pretty poorly.\n",
      "\n",
      "Once or twice a season, you're allowed to play \"a wildcard\", which allows you to trade in your entire team for a new one.\n",
      "\n",
      "A few weeks into the season, I was getting the hang of things, and decided I could get my computer to pick a better team for me than the one I had picked myself."
     ]
    },
    {
     "cell_type": "markdown",
     "metadata": {
      "slideshow": {
       "slide_type": "slide"
      }
     },
     "source": [
      "<center>\n",
      "![](files/images/api.png)\n",
      "</center>"
     ]
    },
    {
     "cell_type": "markdown",
     "metadata": {
      "slideshow": {
       "slide_type": "notes"
      }
     },
     "source": [
      "Once I'd decided I was going to use my computer, the first thing I needed to do is gather data for all the players in the Premier League. There's no official API, so I opened up my trusty Chrome inspector and did some digging.\n",
      "\n",
      "After a brief search, I found an endpoint called /web/api, which looked like it output JSON. Awesome!"
     ]
    },
    {
     "cell_type": "code",
     "collapsed": false,
     "input": [
      "import requests, cPickle, shutil, time\n",
      "\n",
      "all = {}\n",
      "errorout = open(\"errors.log\", \"w\")\n",
      "\n",
      "for i in range(600):\n",
      "    playerurl = \"http://fantasy.premierleague.com/web/api/elements/%s/\"\n",
      "    r = requests.get(playerurl % i)\n",
      "\n",
      "    # skip non-existent players\n",
      "    if r.status_code != 200: continue\n",
      "\n",
      "    all[i] = r.json()\n",
      "\n",
      "cPickle.dump(all, outfile)"
     ],
     "language": "python",
     "metadata": {
      "slideshow": {
       "slide_type": "slide"
      }
     },
     "outputs": []
    },
    {
     "cell_type": "markdown",
     "metadata": {
      "slideshow": {
       "slide_type": "notes"
      }
     },
     "source": [
      "After I played with it a bit, I discovered that each player has an ID between 0 and 600, though some IDs are not taken. The endpoint is indeed JSON, so it's super simple to download and parse.\n",
      "\n",
      "I wrote this little script to download every players' data, stick it in a dictionary, and save it to a file.\n",
      "\n",
      "As you can see, it's very simple; it was a good thing I dug around and found that API so I didn't have to resort to screen scraping."
     ]
    },
    {
     "cell_type": "markdown",
     "metadata": {
      "slideshow": {
       "slide_type": "slide"
      }
     },
     "source": [
      "<center>![](files/images/nowwhat.gif)</center>"
     ]
    },
    {
     "cell_type": "markdown",
     "metadata": {
      "slideshow": {
       "slide_type": "notes"
      }
     },
     "source": [
      "After that turned out to be unexpectedly easy, I faced my next problem: I had the data on my computer, but no idea what to do with it."
     ]
    },
    {
     "cell_type": "code",
     "collapsed": false,
     "input": [
      "website(\"http://ipython.org/notebook.html\")"
     ],
     "language": "python",
     "metadata": {
      "slideshow": {
       "slide_type": "slide"
      }
     },
     "outputs": [
      {
       "html": [
        "<iframe src=\"http://ipython.org/notebook.html\"  width=\"800\" height=\"450\"></iframe>"
       ],
       "metadata": {},
       "output_type": "pyout",
       "prompt_number": 63,
       "text": [
        "<IPython.core.display.HTML at 0x1072c3450>"
       ]
      }
     ],
     "prompt_number": 63
    },
    {
     "cell_type": "markdown",
     "metadata": {
      "slideshow": {
       "slide_type": "notes"
      }
     },
     "source": [
      "Enter: ipython notebook. Although it's reasonably new, ipython notebook has rapidly become my go-to tool for exploring data, generating graphs, and running experiments.\n",
      "\n",
      "This talk, itself, is an ipython notebook presentation converted into a slideshow.\n",
      "\n",
      "If you're not familiar with the funny little \"In\" and \"Out\" notations on the left side, they indicate an ipython notebook cell. You write code in the \"In\" field, and see your output (no surprise here) in the \"Out\"."
     ]
    },
    {
     "cell_type": "code",
     "collapsed": false,
     "input": [
      "import cPickle\n",
      "players = cPickle.load(open(\"players.data.pickle\"))\n",
      "players[1]"
     ],
     "language": "python",
     "metadata": {
      "slideshow": {
       "slide_type": "slide"
      }
     },
     "outputs": [
      {
       "metadata": {},
       "output_type": "pyout",
       "prompt_number": 12,
       "text": [
        "{u'added': u'2013-07-15T13:21:12 UTC+0000',\n",
        " u'code': 37096,\n",
        " u'current_fixture': u'Crystal Palace (H)',\n",
        " u'element_type_id': 1,\n",
        " u'event_cost': 42,\n",
        " u'event_explain': [[u'Minutes played', 0, 0]],\n",
        " u'event_points': 0,\n",
        " u'event_total': 0,\n",
        " u'first_name': u'Lukasz',\n",
        " u'fixture_history': {u'all': [[u'17 Aug 15:00',\n",
        "    1,\n",
        "    u'AVL(H) 1-3',\n",
        "    0,\n",
        "    0,\n",
        "    0,\n",
        "    0,\n",
        "    0,\n",
        "    0,\n",
        "    0,\n",
        "    0,\n",
        "    0,\n",
        "    0,\n",
        "    0,\n",
        "    0,\n",
        "    0,\n",
        "    0,\n",
        "    0,\n",
        "    45,\n",
        "    0],\n",
        "   [u'24 Aug 12:45',\n",
        "    2,\n",
        "    u'FUL(A) 3-1',\n",
        "    0,\n",
        "    0,\n",
        "    0,\n",
        "    0,\n",
        "    0,\n",
        "    0,\n",
        "    0,\n",
        "    0,\n",
        "    0,\n",
        "    0,\n",
        "    0,\n",
        "    0,\n",
        "    0,\n",
        "    0,\n",
        "    -1322,\n",
        "    45,\n",
        "    0],\n",
        "   [u'01 Sep 16:00',\n",
        "    3,\n",
        "    u'TOT(H) 1-0',\n",
        "    0,\n",
        "    0,\n",
        "    0,\n",
        "    0,\n",
        "    0,\n",
        "    0,\n",
        "    0,\n",
        "    0,\n",
        "    0,\n",
        "    0,\n",
        "    0,\n",
        "    0,\n",
        "    0,\n",
        "    0,\n",
        "    -1350,\n",
        "    45,\n",
        "    0],\n",
        "   [u'14 Sep 15:00',\n",
        "    4,\n",
        "    u'SUN(A) 3-1',\n",
        "    0,\n",
        "    0,\n",
        "    0,\n",
        "    0,\n",
        "    0,\n",
        "    0,\n",
        "    0,\n",
        "    0,\n",
        "    0,\n",
        "    0,\n",
        "    0,\n",
        "    0,\n",
        "    0,\n",
        "    0,\n",
        "    -1259,\n",
        "    44,\n",
        "    0],\n",
        "   [u'22 Sep 13:30',\n",
        "    5,\n",
        "    u'STK(H) 3-1',\n",
        "    0,\n",
        "    0,\n",
        "    0,\n",
        "    0,\n",
        "    0,\n",
        "    0,\n",
        "    0,\n",
        "    0,\n",
        "    0,\n",
        "    0,\n",
        "    0,\n",
        "    0,\n",
        "    0,\n",
        "    0,\n",
        "    -1091,\n",
        "    44,\n",
        "    0],\n",
        "   [u'28 Sep 17:30',\n",
        "    6,\n",
        "    u'SWA(A) 2-1',\n",
        "    0,\n",
        "    0,\n",
        "    0,\n",
        "    0,\n",
        "    0,\n",
        "    0,\n",
        "    0,\n",
        "    0,\n",
        "    0,\n",
        "    0,\n",
        "    0,\n",
        "    0,\n",
        "    0,\n",
        "    0,\n",
        "    -852,\n",
        "    44,\n",
        "    0],\n",
        "   [u'06 Oct 16:00',\n",
        "    7,\n",
        "    u'WBA(A) 1-1',\n",
        "    0,\n",
        "    0,\n",
        "    0,\n",
        "    0,\n",
        "    0,\n",
        "    0,\n",
        "    0,\n",
        "    0,\n",
        "    0,\n",
        "    0,\n",
        "    0,\n",
        "    0,\n",
        "    0,\n",
        "    0,\n",
        "    -712,\n",
        "    44,\n",
        "    0],\n",
        "   [u'19 Oct 15:00',\n",
        "    8,\n",
        "    u'NOR(H) 4-1',\n",
        "    0,\n",
        "    0,\n",
        "    0,\n",
        "    0,\n",
        "    0,\n",
        "    0,\n",
        "    0,\n",
        "    0,\n",
        "    0,\n",
        "    0,\n",
        "    0,\n",
        "    0,\n",
        "    0,\n",
        "    0,\n",
        "    -388,\n",
        "    44,\n",
        "    0],\n",
        "   [u'26 Oct 12:45',\n",
        "    9,\n",
        "    u'CRY(A) 2-0',\n",
        "    0,\n",
        "    0,\n",
        "    0,\n",
        "    0,\n",
        "    0,\n",
        "    0,\n",
        "    0,\n",
        "    0,\n",
        "    0,\n",
        "    0,\n",
        "    0,\n",
        "    0,\n",
        "    0,\n",
        "    0,\n",
        "    -343,\n",
        "    43,\n",
        "    0],\n",
        "   [u'02 Nov 17:30',\n",
        "    10,\n",
        "    u'LIV(H) 2-0',\n",
        "    0,\n",
        "    0,\n",
        "    0,\n",
        "    0,\n",
        "    0,\n",
        "    0,\n",
        "    0,\n",
        "    0,\n",
        "    0,\n",
        "    0,\n",
        "    0,\n",
        "    0,\n",
        "    0,\n",
        "    0,\n",
        "    -218,\n",
        "    43,\n",
        "    0],\n",
        "   [u'10 Nov 16:10',\n",
        "    11,\n",
        "    u'MUN(A) 0-1',\n",
        "    0,\n",
        "    0,\n",
        "    0,\n",
        "    0,\n",
        "    0,\n",
        "    0,\n",
        "    0,\n",
        "    0,\n",
        "    0,\n",
        "    0,\n",
        "    0,\n",
        "    0,\n",
        "    0,\n",
        "    0,\n",
        "    -247,\n",
        "    43,\n",
        "    0],\n",
        "   [u'23 Nov 15:00',\n",
        "    12,\n",
        "    u'SOU(H) 2-0',\n",
        "    0,\n",
        "    0,\n",
        "    0,\n",
        "    0,\n",
        "    0,\n",
        "    0,\n",
        "    0,\n",
        "    0,\n",
        "    0,\n",
        "    0,\n",
        "    0,\n",
        "    0,\n",
        "    0,\n",
        "    0,\n",
        "    -221,\n",
        "    43,\n",
        "    0],\n",
        "   [u'30 Nov 15:00',\n",
        "    13,\n",
        "    u'CAR(A) 3-0',\n",
        "    0,\n",
        "    0,\n",
        "    0,\n",
        "    0,\n",
        "    0,\n",
        "    0,\n",
        "    0,\n",
        "    0,\n",
        "    0,\n",
        "    0,\n",
        "    0,\n",
        "    0,\n",
        "    0,\n",
        "    0,\n",
        "    -257,\n",
        "    43,\n",
        "    0],\n",
        "   [u'04 Dec 19:45',\n",
        "    14,\n",
        "    u'HUL(H) 2-0',\n",
        "    0,\n",
        "    0,\n",
        "    0,\n",
        "    0,\n",
        "    0,\n",
        "    0,\n",
        "    0,\n",
        "    0,\n",
        "    0,\n",
        "    0,\n",
        "    0,\n",
        "    0,\n",
        "    0,\n",
        "    0,\n",
        "    -283,\n",
        "    43,\n",
        "    0],\n",
        "   [u'08 Dec 16:00',\n",
        "    15,\n",
        "    u'EVE(H) 1-1',\n",
        "    0,\n",
        "    0,\n",
        "    0,\n",
        "    0,\n",
        "    0,\n",
        "    0,\n",
        "    0,\n",
        "    0,\n",
        "    0,\n",
        "    0,\n",
        "    0,\n",
        "    0,\n",
        "    0,\n",
        "    0,\n",
        "    -251,\n",
        "    43,\n",
        "    0],\n",
        "   [u'14 Dec 12:45',\n",
        "    16,\n",
        "    u'MCI(A) 3-6',\n",
        "    0,\n",
        "    0,\n",
        "    0,\n",
        "    0,\n",
        "    0,\n",
        "    0,\n",
        "    0,\n",
        "    0,\n",
        "    0,\n",
        "    0,\n",
        "    0,\n",
        "    0,\n",
        "    0,\n",
        "    0,\n",
        "    -213,\n",
        "    42,\n",
        "    0],\n",
        "   [u'23 Dec 20:00',\n",
        "    17,\n",
        "    u'CHE(H) 0-0',\n",
        "    0,\n",
        "    0,\n",
        "    0,\n",
        "    0,\n",
        "    0,\n",
        "    0,\n",
        "    0,\n",
        "    0,\n",
        "    0,\n",
        "    0,\n",
        "    0,\n",
        "    0,\n",
        "    0,\n",
        "    0,\n",
        "    -123,\n",
        "    42,\n",
        "    0],\n",
        "   [u'26 Dec 15:00',\n",
        "    18,\n",
        "    u'WHU(A) 3-1',\n",
        "    0,\n",
        "    0,\n",
        "    0,\n",
        "    0,\n",
        "    0,\n",
        "    0,\n",
        "    0,\n",
        "    0,\n",
        "    0,\n",
        "    0,\n",
        "    0,\n",
        "    0,\n",
        "    0,\n",
        "    0,\n",
        "    -105,\n",
        "    42,\n",
        "    0],\n",
        "   [u'29 Dec 13:30',\n",
        "    19,\n",
        "    u'NEW(A) 1-0',\n",
        "    0,\n",
        "    0,\n",
        "    0,\n",
        "    0,\n",
        "    0,\n",
        "    0,\n",
        "    0,\n",
        "    0,\n",
        "    0,\n",
        "    0,\n",
        "    0,\n",
        "    0,\n",
        "    0,\n",
        "    0,\n",
        "    -103,\n",
        "    42,\n",
        "    0],\n",
        "   [u'01 Jan 15:00',\n",
        "    20,\n",
        "    u'CAR(H) 2-0',\n",
        "    0,\n",
        "    0,\n",
        "    0,\n",
        "    0,\n",
        "    0,\n",
        "    0,\n",
        "    0,\n",
        "    0,\n",
        "    0,\n",
        "    0,\n",
        "    0,\n",
        "    0,\n",
        "    0,\n",
        "    0,\n",
        "    -83,\n",
        "    42,\n",
        "    0],\n",
        "   [u'13 Jan 20:00',\n",
        "    21,\n",
        "    u'AVL(A) 2-1',\n",
        "    0,\n",
        "    0,\n",
        "    0,\n",
        "    0,\n",
        "    0,\n",
        "    0,\n",
        "    0,\n",
        "    0,\n",
        "    0,\n",
        "    0,\n",
        "    0,\n",
        "    0,\n",
        "    0,\n",
        "    0,\n",
        "    -17,\n",
        "    42,\n",
        "    0],\n",
        "   [u'18 Jan 15:00',\n",
        "    22,\n",
        "    u'FUL(H) 2-0',\n",
        "    0,\n",
        "    0,\n",
        "    0,\n",
        "    0,\n",
        "    0,\n",
        "    0,\n",
        "    0,\n",
        "    0,\n",
        "    0,\n",
        "    0,\n",
        "    0,\n",
        "    0,\n",
        "    0,\n",
        "    0,\n",
        "    -32,\n",
        "    42,\n",
        "    0],\n",
        "   [u'28 Jan 19:45',\n",
        "    23,\n",
        "    u'SOU(A) 2-2',\n",
        "    0,\n",
        "    0,\n",
        "    0,\n",
        "    0,\n",
        "    0,\n",
        "    0,\n",
        "    0,\n",
        "    0,\n",
        "    0,\n",
        "    0,\n",
        "    0,\n",
        "    0,\n",
        "    0,\n",
        "    0,\n",
        "    -35,\n",
        "    42,\n",
        "    0],\n",
        "   [u'02 Feb 16:00',\n",
        "    24,\n",
        "    u'CRY(H) 2-0',\n",
        "    0,\n",
        "    0,\n",
        "    0,\n",
        "    0,\n",
        "    0,\n",
        "    0,\n",
        "    0,\n",
        "    0,\n",
        "    0,\n",
        "    0,\n",
        "    0,\n",
        "    0,\n",
        "    0,\n",
        "    0,\n",
        "    -6,\n",
        "    42,\n",
        "    0]],\n",
        "  u'summary': [[22, u'FUL (H)', 0], [23, u'SOU (A)', 0], [24, u'CRY (H)', 0]]},\n",
        " u'fixtures': {u'all': [[u'08 Feb 12:45', u'Gameweek 25', u'Liverpool (A)'],\n",
        "   [u'12 Feb 19:45', u'Gameweek 26', u'Man Utd (H)'],\n",
        "   [u'22 Feb 15:00', u'Gameweek 27', u'Sunderland (H)'],\n",
        "   [u'01 Mar 15:00', u'Gameweek 28', u'Stoke City (A)'],\n",
        "   [u'08 Mar 15:00', u'Gameweek 29', u'Swansea (H)'],\n",
        "   [u'16 Mar 16:00', u'Gameweek 30', u'Tottenham (A)'],\n",
        "   [u'22 Mar 12:45', u'Gameweek 31', u'Chelsea (A)'],\n",
        "   [u'29 Mar 17:30', u'Gameweek 32', u'Man City (H)'],\n",
        "   [u'05 Apr 15:00', u'Gameweek 33', u'Everton (A)'],\n",
        "   [u'12 Apr 15:00', u'Gameweek 34', u'West Ham (H)'],\n",
        "   [u'19 Apr 15:00', u'Gameweek 35', u'Hull City (A)'],\n",
        "   [u'26 Apr 15:00', u'Gameweek 36', u'Newcastle (H)'],\n",
        "   [u'03 May 15:00', u'Gameweek 37', u'West Brom (H)'],\n",
        "   [u'11 May 15:00', u'Gameweek 38', u'Norwich (A)']],\n",
        "  u'summary': [[25, u'LIV (A)', u'08 Feb 12:45'],\n",
        "   [26, u'MUN (H)', u'12 Feb 19:45'],\n",
        "   [27, u'SUN (H)', u'22 Feb 15:00']]},\n",
        " u'form': 0.0,\n",
        " u'id': 1,\n",
        " u'in_dreamteam': False,\n",
        " u'last_season_points': 0,\n",
        " u'max_cost': 45,\n",
        " u'min_cost': 42,\n",
        " u'news': u'',\n",
        " u'news_added': None,\n",
        " u'news_return': None,\n",
        " u'news_updated': None,\n",
        " u'next_fixture': u'Liverpool (A)',\n",
        " u'now_cost': 42,\n",
        " u'original_cost': 45,\n",
        " u'photo_mobile_url': u'http://cdn.ismfg.net/static/plfpl/img/shirts/photos/37096.jpg',\n",
        " u'points_per_game': 0.0,\n",
        " u'season_history': [[u'2007/08',\n",
        "   248,\n",
        "   0,\n",
        "   0,\n",
        "   0,\n",
        "   2,\n",
        "   0,\n",
        "   0,\n",
        "   0,\n",
        "   0,\n",
        "   0,\n",
        "   8,\n",
        "   0,\n",
        "   0,\n",
        "   0,\n",
        "   46,\n",
        "   15],\n",
        "  [u'2008/09', 463, 0, 0, 0, 10, 0, 0, 0, 0, 0, 18, 0, 0, 0, 46, 20],\n",
        "  [u'2009/10', 360, 0, 0, 0, 5, 0, 0, 0, 1, 0, 11, 0, 0, 0, 49, 15],\n",
        "  [u'2010/11', 1260, 0, 1, 5, 14, 0, 0, 0, 0, 0, 33, 2, 0, 0, 45, 55],\n",
        "  [u'2011/12', 0, 0, 0, 0, 0, 0, 0, 0, 0, 0, 0, 0, 0, 0, 53, 0],\n",
        "  [u'2012/13', 360, 0, 0, 1, 3, 0, 0, 0, 0, 0, 7, 0, 57, 0, 42, 13]],\n",
        " u'second_name': u'Fabianski',\n",
        " u'selected': 17295,\n",
        " u'selected_by': u'0.5',\n",
        " u'shirt_image_url': u'http://cdn.ismfg.net/static/plfpl/img/shirts/shirt_1_1.png',\n",
        " u'shirt_mobile_image_url': u'http://cdn.ismfg.net/static/plfpl/img/shirts/mobile/shirt_1_1.png',\n",
        " u'squad_number': None,\n",
        " u'status': u'a',\n",
        " u'team_code': 37096,\n",
        " u'team_id': 1,\n",
        " u'team_name': u'Arsenal',\n",
        " u'total_points': 0,\n",
        " u'transfers_in': 4112,\n",
        " u'transfers_in_event': 31,\n",
        " u'transfers_out': 13666,\n",
        " u'transfers_out_event': 74,\n",
        " u'type_name': u'Goalkeeper',\n",
        " u'web_name': u'Fabianski'}"
       ]
      }
     ],
     "prompt_number": 12
    },
    {
     "cell_type": "markdown",
     "metadata": {
      "slideshow": {
       "slide_type": "notes"
      }
     },
     "source": [
      "This is another ipython cell; this time it's loading the player data and showing the JSON object the web api returned for the player with id 1.\n",
      "\n",
      "It looks like the object contains all the player information we need, primarily in a big `fixture_history` array that contains big, unlabelled, arrays, so let's begin playing around with it.\n",
      "\n",
      "When you execute a cell in Ipython notebook, the variables you create are available for your use later on. Here, we've loaded the pickle file into a variable `players`, which we'll continue to use throughout the spreadsheet."
     ]
    },
    {
     "cell_type": "code",
     "collapsed": false,
     "input": [
      "%matplotlib inline\n",
      "matplotlib.rc('font', size=18)\n",
      "figsize(12, 4)\n",
      "import numpy as np\n",
      "import re\n",
      "import StringIO\n",
      "#import prettyplotlib as ppl\n",
      "#dir(ppl)"
     ],
     "language": "python",
     "metadata": {
      "slideshow": {
       "slide_type": "skip"
      }
     },
     "outputs": [],
     "prompt_number": 24
    },
    {
     "cell_type": "code",
     "collapsed": false,
     "input": [
      "points = {}\n",
      "for p in players.itervalues():\n",
      "    for game in p['fixture_history']['all']:\n",
      "        if game[3] > 0:\n",
      "            points.setdefault(p['type_name'], []).append(game[19])\n",
      "\n",
      "def poshist(axis, position):\n",
      "    axis.hist(points[position])\n",
      "    axis.set_title(position)\n",
      "    return axis\n",
      "\n",
      "fig, (ax0, ax1, ax2, ax3) = plt.subplots(ncols=4, sharey=True, figsize=(18,4))\n",
      "poshist(ax0, \"Forward\")\n",
      "poshist(ax1, \"Midfielder\")\n",
      "poshist(ax2, \"Defender\")\n",
      "poshist(ax3, \"Goalkeeper\")\n",
      "fig.show()"
     ],
     "language": "python",
     "metadata": {
      "slideshow": {
       "slide_type": "slide"
      }
     },
     "outputs": [
      {
       "metadata": {},
       "output_type": "display_data",
       "png": "[encoded data removed]",
       "text": [
        "<matplotlib.figure.Figure at 0x10d170050>"
       ]
      }
     ],
     "prompt_number": 23
    },
    {
     "cell_type": "markdown",
     "metadata": {
      "slideshow": {
       "slide_type": "notes"
      }
     },
     "source": [
      "The first experiment I did asked: how many points are scored by players in each position?\n",
      "\n",
      "So I wrote this code to iterates through all players, discard the games in which they didn't play, and store how many points they scored in a dictionary keyed on their position.\n",
      "\n",
      "Then I used matplotlib to turn that dictionary into a series of four graphs.\n",
      "\n",
      "This graph isn't that helpful, so don't bother squinting at it to find out what it says.\n",
      "\n",
      "The point is that, with a very small amount of code, I was able to run an experiment, make graphs, and draw conclusions about my data.\n",
      "\n",
      "Ipython makes this all very easy by allowing you to rapidly iterate on your code, and showing you graphical output right next to your textual input. If you mess up, just fix the text in the cell, and run it again."
     ]
    },
    {
     "cell_type": "code",
     "collapsed": false,
     "input": [
      "opponents = {}\n",
      "for player in players.itervalues():\n",
      "    for game in player[\"fixture_history\"][\"all\"]:\n",
      "        #skip games where the player played 0 minutes\n",
      "        if game[3] == 0: continue\n",
      "        opp = game[2][:3]\n",
      "        pts = game[19]\n",
      "        opponents.setdefault(opp, [0,0])[0] += pts\n",
      "        opponents[opp][1] += 1\n",
      "\n",
      "from collections import OrderedDict\n",
      "avgs = {}\n",
      "for opponent, (score, n) in opponents.iteritems():\n",
      "    avgs[opponent] = score/float(n)\n",
      "\n",
      "sorted_avgs = OrderedDict(sorted(avgs.items(), key=lambda t: t[1]))\n",
      "avg_opponent = sum(avgs.values())/float(len(avgs))\n",
      "\n",
      "fig, ax = plt.subplots(figsize=(18,4))\n",
      "x_pos = np.arange(0, len(sorted_avgs.keys()))\n",
      "ax.set_xticks(x_pos)\n",
      "ax.set_xticklabels(sorted_avgs.keys(), rotation=45)\n",
      "ax.plot(x_pos, sorted_avgs.values(), linewidth=3)\n",
      "fig.show()"
     ],
     "language": "python",
     "metadata": {
      "slideshow": {
       "slide_type": "slide"
      }
     },
     "outputs": [
      {
       "metadata": {},
       "output_type": "display_data",
       "png": "[encoded data removed]",
       "text": [
        "<matplotlib.figure.Figure at 0x10ea2ad10>"
       ]
      }
     ],
     "prompt_number": 22
    },
    {
     "cell_type": "markdown",
     "metadata": {
      "slideshow": {
       "slide_type": "notes"
      }
     },
     "source": [
      "Next I asked another question: How many points does each team allow their opponents, on average?\n",
      "\n",
      "So, again I iterated through all the player data. This time I saved the amount of points each player scored to a dictionary keyed by their opponent. Again, I made a graph of the result.\n",
      "\n",
      "This time, I was impressed by the size of the effect: Liverpool, the stingiest team, gave up less than 2.2 fantasy points, on average, to their opponents. Fulham, the most generous, gave up nearly 4.\n",
      "\n",
      "A game against the weakest team is worth nearly *double*, on average, to a game against the strongest!"
     ]
    },
    {
     "cell_type": "code",
     "collapsed": false,
     "input": [
      "class Game(object):\n",
      "    def __init__(self, game_json):\n",
      "        self.opp = game_json[2][:3]\n",
      "        self.loc = game_json[2][4] # \"A\" for away, \"H\" for home\n",
      "        self.points = game_json[19]\n",
      "        self.minutes = game_json[3]\n",
      "    \n",
      "    def __repr__(self):\n",
      "        return \"Game vs. %s %s: %s pts\" % (self.opp, self.loc, self.points)\n",
      "\n",
      "team_abbreviations = {\n",
      "    'Norwich': 'NOR',\n",
      "    'Cardiff City': 'CAR',\n",
      "    'Man City': 'MCI',\n",
      "    'Newcastle': 'NEW',\n",
      "    'West Brom': 'WBA',\n",
      "    'West Ham': 'WHU',\n",
      "    'Southampton': 'SOU',\n",
      "    'Sunderland': 'SUN',\n",
      "    'Stoke City': 'STK',\n",
      "    'Crystal Palace': 'CRY',\n",
      "    'Arsenal': 'ARS',\n",
      "    'Swansea': 'SWA',\n",
      "    'Liverpool': 'LIV',\n",
      "    'Hull City': 'HUL',\n",
      "    'Man Utd': 'MUN',\n",
      "    'Everton': 'EVE',\n",
      "    'Fulham': 'FUL',\n",
      "    'Tottenham': 'TOT',\n",
      "    'Aston Villa': 'AVL',\n",
      "    'Chelsea': 'CHE',\n",
      "}\n",
      "    \n",
      "class Player(object):\n",
      "    def __init__(self, player_json):\n",
      "        self.raw = player_json\n",
      "        self.games = [Game(g) for g in player_json[\"fixture_history\"][\"all\"]]\n",
      "        self.name = u\"{first_name} {second_name}\".format(**player_json)\n",
      "        self.cost = player_json[\"event_cost\"]\n",
      "        self.position = player_json[\"type_name\"]\n",
      "        self.team = team_abbreviations[player_json[\"team_name\"]]\n",
      "        self.idn = player_json[\"id\"]\n",
      "        self.news = player_json[\"news\"]\n",
      "        self.news_return = player_json[\"news_return\"]\n",
      "        self.pos = self.shortname(self.position)\n",
      "        self.upcoming = self.get_upcoming_fixtures(player_json[\"fixtures\"][\"all\"])\n",
      "    \n",
      "    def get_upcoming_fixtures(self, fixtures):\n",
      "        upcoming = []\n",
      "        for _, gameweek, opponent in fixtures:\n",
      "            week = int(gameweek.split()[-1])\n",
      "            if opponent == \"-\":\n",
      "                continue\n",
      "            opp, loc = opponent.split('(')\n",
      "            opp = team_abbreviations[opp.strip()]\n",
      "            loc = loc[0]\n",
      "            upcoming.append((week, opp, loc))\n",
      "        return upcoming\n",
      "    \n",
      "    def shortname(self, position):\n",
      "        pos_abbreviations = {\n",
      "            \"Goalkeeper\": \"gk\",\n",
      "            \"Defender\": \"d\",\n",
      "            \"Midfielder\": \"m\",\n",
      "            \"Forward\": \"f\"\n",
      "        }\n",
      "        \n",
      "        return pos_abbreviations[position]\n",
      "    \n",
      "    def __repr__(self):\n",
      "        return \"#%s %s %s \u00a3%s %s\" % (self.idn, self.team, self.name.encode(\"ascii\", \"ignore\"), self.cost, self.pos)\n",
      "\n",
      "    def __unicode__(self):\n",
      "        return \"#%s %s \u00a3%s %s\" % (self.idn, self.name, self.cost, self.pos)\n",
      "\n",
      "player_objs = [Player(p) for p in players.itervalues()]\n",
      "\n",
      "def find_player(needle):\n",
      "    return [p for p in player_objs if needle.lower() in p.name.lower()]"
     ],
     "language": "python",
     "metadata": {
      "slideshow": {
       "slide_type": "slide"
      }
     },
     "outputs": [],
     "prompt_number": 26
    },
    {
     "cell_type": "markdown",
     "metadata": {
      "slideshow": {
       "slide_type": "notes"
      }
     },
     "source": [
      "Now I had the data loaded, and was able to quickly ask and answer questions, but I had all kinds of magic numbers in the code. \n",
      "\n",
      "I needed to remember that a player's opponent is the 2nd field in a game array, his minutes is the 3rd, and his points is the 19th. It would be a lot nicer if I could wrap the player data in an object with convenient names for those fields.\n",
      "\n",
      "So I went ahead and wrote a wrapper object that takes the JSON output from the Fantasy league API and turns it into a handy python object.\n",
      "\n",
      "I don't want to go through this big hunk of code in detail, so instead I'll just tell you that the super nice thing about IPython Notebook is that you can code iteratively. When I actually created this code, it started as a very small and simple player class, with just his name, value, and points. As I needed more of the raw data, I went back to this cell in the notebook, edited the code, and re-ran it.\n",
      "\n",
      "You don't have to get it right the first time, so it's very low stress."
     ]
    },
    {
     "cell_type": "code",
     "collapsed": false,
     "input": [
      "p = find_player('Van Persie')[0]\n",
      "print p.name\n",
      "print p.position\n",
      "print p.cost\n",
      "print p.idn\n",
      "print p.upcoming[:3]  # upcoming games\n",
      "print p.games[:3]     # games he's already played\n",
      "print p.news\n",
      "print p"
     ],
     "language": "python",
     "metadata": {
      "slideshow": {
       "slide_type": "slide"
      }
     },
     "outputs": [
      {
       "output_type": "stream",
       "stream": "stdout",
       "text": [
        "Robin van Persie\n",
        "Forward\n",
        "136\n",
        "264\n",
        "[(25, 'FUL', u'H'), (26, 'ARS', u'A'), (27, 'CRY', u'A')]\n",
        "[Game vs. SWA A: 12 pts, Game vs. CHE H: 2 pts, Game vs. LIV A: 1 pts]"
       ]
      },
      {
       "output_type": "stream",
       "stream": "stdout",
       "text": [
        "\n",
        "\n",
        "#264 MUN Robin van Persie \u00a3136 f\n"
       ]
      }
     ],
     "prompt_number": 147
    },
    {
     "cell_type": "markdown",
     "metadata": {
      "slideshow": {
       "slide_type": "notes"
      }
     },
     "source": [
      "Here I'm just playing around a bit with the player object I showed you in the previous slide. Ipython auto-completes fields for me, so I can easily run quick sanity checks to make sure that I get the data I expect from the player object.\n",
      "\n",
      "Each player now has attributes for his name, position, and cost, an array of past and upcoming games, and other important information. It's a big step up from the raw array we were using before."
     ]
    },
    {
     "cell_type": "code",
     "collapsed": false,
     "input": [
      "homeaway = {\"A\": 0, \"H\": 0}\n",
      "n = 0.\n",
      "for player in player_objs:\n",
      "    #only consider full games to eliminate minute bias\n",
      "    for game in [p for p in player.games if p.minutes == 90]:\n",
      "        homeaway[game.loc] += game.points\n",
      "        n += 1\n",
      "\n",
      "homeaway[\"A\"] /= n\n",
      "homeaway[\"H\"] /= n\n",
      "\n",
      "homefield = homeaway[\"H\"] - homeaway[\"A\"]\n",
      "\n",
      "print homefield, homeaway\n",
      "\n",
      "fig, ax = plt.subplots(figsize=(2,4))\n",
      "x_pos = np.arange(0, len(homeaway.keys()))\n",
      "ax.set_xticks(x_pos+.4)\n",
      "ax.set_xticklabels([\"Away\", \"Home\"], rotation=45)\n",
      "ax.bar(x_pos, homeaway.values())\n",
      "fig.show()"
     ],
     "language": "python",
     "metadata": {
      "slideshow": {
       "slide_type": "slide"
      }
     },
     "outputs": [
      {
       "output_type": "stream",
       "stream": "stdout",
       "text": [
        "0.32794340576 {'A': 1.6139464375947448, 'H': 1.9418898433552298}\n"
       ]
      },
      {
       "metadata": {},
       "output_type": "display_data",
       "png": "[encoded data removed]",
       "text": [
        "<matplotlib.figure.Figure at 0x10a998690>"
       ]
      }
     ],
     "prompt_number": 27
    },
    {
     "cell_type": "markdown",
     "metadata": {
      "slideshow": {
       "slide_type": "notes"
      }
     },
     "source": [
      "Now it was even easier to run a third experiment: how valuable is homefiled advantage?\n",
      "\n",
      "So I wrote code to once again iterate through the players (using the objects this time), store their points in a dictionary keyed on whether the game was home or away, and display the results.\n",
      "\n",
      "The result was that homefield advantage looks like it's worth about .3 fantasy points. Less important than who you play (which was worth almost 2 points, remember), but still worth thinking about."
     ]
    },
    {
     "cell_type": "markdown",
     "metadata": {
      "slideshow": {
       "slide_type": "slide"
      }
     },
     "source": [
      "<center>\n",
      "![](files/images/timhoward.png)\n",
      "</center>"
     ]
    },
    {
     "cell_type": "markdown",
     "metadata": {
      "slideshow": {
       "slide_type": "notes"
      }
     },
     "source": [
      "At this point, I stopped playing around in ipython to think a bit. Now that I had my players where I could get at them in a handy data structure, and the ability to run experiments on them, I needed to figure out a way to model a player's future predicted points.\n",
      "\n",
      "Once I had that, I'd be 90% of the way home; I'd just need to solve for a team that maximizes predicted points while costing less than the amount of money you have to spend.\n",
      "\n",
      "I knew I already had enough data to include three important factors in my player performance model: what team they played against, whether the game was home and away, and how they had performed up to this point in the season.\n",
      "\n",
      "I thought about continuing to generate factors, running regressions to see which of them were actually important in predicting performance, and playing with machine learning techniques to generate a team.\n",
      "\n",
      "Ultimately, though, I decided that you could save all that for another day's experiments. After all, I had a team to run and a league to win. So I thought, maybe I could get away with a dirt-simple model?"
     ]
    },
    {
     "cell_type": "markdown",
     "metadata": {
      "slideshow": {
       "slide_type": "slide"
      }
     },
     "source": [
      "<h2 class=\"eq\">\n",
      "$ ev = \\sum_{i=0}^5 opp_i + home_i + adj\\_avg $\n",
      "</h2>"
     ]
    },
    {
     "cell_type": "markdown",
     "metadata": {
      "slideshow": {
       "slide_type": "notes"
      }
     },
     "source": [
      "So I took a guess at a simple model: Each player's expected value will be the sum of three factors. \n",
      "\n",
      "The first is a factor to compensate for their opponent; they gain points is their opponent is generous and lose them if they're stingy.\n",
      "\n",
      "The second is a factor for homefield advantage; they gain points for being at home and lose them for being away.\n",
      "\n",
      "The third is simply their past average score, adjusted for those opponent and homefield advantage factors."
     ]
    },
    {
     "cell_type": "code",
     "collapsed": false,
     "input": [
      "def adjusted_score(game):\n",
      "    pts = game.points\n",
      "    pts += homefield/2 if game.loc == \"A\" else -homefield/2\n",
      "    pts += avg_opponent - avgs[game.opp]\n",
      "    return pts\n",
      "    \n",
      "def adjusted_average(player):\n",
      "    return sum(adjusted_score(g) for g in player.games) / len(player.games)\n",
      "\n",
      "def game_value(game):\n",
      "    adj = 0\n",
      "    adj += homefield/2 if game[2] == \"H\" else -homefield/2\n",
      "    adj += avgs[game[1]] - avg_opponent\n",
      "    return adj\n",
      "    \n",
      "def expected_points(player, n=5):\n",
      "    \"\"\"return the number of expected points in the next n games\"\"\"\n",
      "    av = adjusted_average(player)\n",
      "    ev = 0.\n",
      "    for game in player.upcoming[:n]:\n",
      "        ev += av + game_value(game)\n",
      "    return ev/n\n",
      "\n",
      "Player.expected_points = expected_points\n",
      "\n",
      "print expected_points(find_player(u\"\u00d6zil\")[0])\n",
      "print expected_points(find_player(u\"Su\u00e1rez\")[0])\n",
      "print expected_points(find_player(u\"Yaya Tour\u00e9\")[0])\n",
      "print find_player(\"Rooney\")[0].expected_points()"
     ],
     "language": "python",
     "metadata": {
      "slideshow": {
       "slide_type": "slide"
      }
     },
     "outputs": [
      {
       "output_type": "stream",
       "stream": "stdout",
       "text": [
        "5.00089370373\n",
        "8.14701669057\n",
        "6.40384359526\n",
        "4.93353309248\n"
       ]
      }
     ],
     "prompt_number": 36
    },
    {
     "cell_type": "code",
     "collapsed": false,
     "input": [
      "# re-create our player objects, this time with our monkey-patched expected points function.\n",
      "# In Real Life\u2122, I would have just gone back to the player object and put it there, but that\n",
      "# wouldn't make sense in this presentation, since I don't introduce the model until later.\n",
      "player_objs = [Player(p) for p in players.itervalues()]\n",
      "player_objs[1].expected_points()"
     ],
     "language": "python",
     "metadata": {
      "slideshow": {
       "slide_type": "skip"
      }
     },
     "outputs": [
      {
       "metadata": {},
       "output_type": "pyout",
       "prompt_number": 38,
       "text": [
        "4.3687475700409664"
       ]
      }
     ],
     "prompt_number": 38
    },
    {
     "cell_type": "markdown",
     "metadata": {
      "slideshow": {
       "slide_type": "notes"
      }
     },
     "source": [
      "This code implements the model we just presented. It's easiest to read from the bottom up; let's start with `expected_points`.\n",
      "\n",
      "This function takes a player, gets their adjusted average fantasy points for the season so far, then returns the average expected points of their next 5 games, adjusted for opponent and homefield advantage.\n",
      "\n",
      "To do that adjustment, we have a pair of functions, `adjusted_score` and `game_value`, each of which simply takes a game and returns its adjusted value.\n",
      "\n",
      "We run the `expected_points` function a couple of times at the end just to make sure it's sensible.\n",
      "\n",
      "In this case, you see that Mesut \u00d6zil is expected to score about 5 points per game over the next 5 games, Luis Su\u00e1rez 8, and Yaya Tour\u00e9 about 6 and a half. I went and looked at the scores those players have been posting, and who their upcoming opponents are, and those results seem reasonable given that information."
     ]
    },
    {
     "cell_type": "markdown",
     "metadata": {
      "slideshow": {
       "slide_type": "slide"
      }
     },
     "source": [
      "Given the constraints:\n",
      "\n",
      "* Total player cost < 100\n",
      "* 2 goalkeepers\n",
      "* 5 defenders\n",
      "* 5 midfielders\n",
      "* 3 forwards\n",
      "\n",
      "**Maximize expected team value**"
     ]
    },
    {
     "cell_type": "markdown",
     "metadata": {
      "slideshow": {
       "slide_type": "notes"
      }
     },
     "source": [
      "Now, finally, I had all the data and a player model, so it was time to construct a team.\n",
      "\n",
      "Remember from before that we're after the answer to an optimization problem: I needed to pick a team of 15 players which costs less than \u00a3100 and fills up all the required player positions. Given those constraints, I wanted to pick the team that maximizes my expected fantasy point total."
     ]
    },
    {
     "cell_type": "markdown",
     "metadata": {
      "slideshow": {
       "slide_type": "slide"
      }
     },
     "source": [
      "Given this simple optimization problem:\n",
      "\n",
      "<pre>\n",
      "x1 >= 1\n",
      "x2 >= 1\n",
      "x1 + x2 >= 2\n",
      "minimize x1 + x2 where x1 is an integer\n",
      "</pre>\n",
      "\n",
      "<br>lp_solve takes a file that looks like:\n",
      "\n",
      "<pre>\n",
      "min: x1 + x2;\n",
      "x1 >= 1;\n",
      "x2 >= 1;\n",
      "x1 + x2 >= 2;\n",
      "int x1;\n",
      "</pre>\n",
      "\n",
      "<br>Which, when run, results in:\n",
      "\n",
      "<pre>\n",
      "$ lp_solve /tmp/simple_example\n",
      "Value of objective function: 2.00000000\n",
      "Actual values of the variables:\n",
      "x1                              1\n",
      "x2                              1\n",
      "</pre>"
     ]
    },
    {
     "cell_type": "markdown",
     "metadata": {
      "slideshow": {
       "slide_type": "notes"
      }
     },
     "source": [
      "Unfortunately, scipy doesn't have any handy functions to solve this type of problem, so I had to look elsewhere. When I did, I discovered a pretty simple program called lp_solve.\n",
      "\n",
      "lp_solve is pretty simple: it allows you to phrase an optimization problem in a simple file format, which you then pass to lp_solve to get an answer.\n",
      "\n",
      "For a simple demonstration of how it works, we give it three constraints:\n",
      "\n",
      "* x1 >= 1\n",
      "* x2 >= 1\n",
      "* x1 + x2 >= 2\n",
      "\n",
      "and ask it to minimize the sum of x1 + x2 given those constraints.\n",
      "\n",
      "It tells us, of course, that x1 == x2 == 1\n",
      "\n",
      "*notes*: Give them time to read that? Have more explanation? Even simpler example?"
     ]
    },
    {
     "cell_type": "markdown",
     "metadata": {
      "slideshow": {
       "slide_type": "slide"
      }
     },
     "source": [
      "<pre>\n",
      "max: 5.6 gk1 + 4.3 mf2 + 3.8 d3 ...;  /* maximize expected points */\n",
      "3.7 gk1 + 9.3 mf2 + 4.6 d3 ... < 100; /* team must cost <100\u00a3     */\n",
      "gk1 + gk12 + gk36 + ... = 2;          /* limit to 2 goalkeepers   */\n",
      "d3 + d4 + d8 + ... = 5;               /* limit to 5 defenders     */\n",
      "...                                   /* repeat for all positions */\n",
      "bin gk1, mf2, d3, f4, d5, ....;       /* all variables are binary */\n",
      "</pre>"
     ]
    },
    {
     "cell_type": "markdown",
     "metadata": {
      "slideshow": {
       "slide_type": "notes"
      }
     },
     "source": [
      "The file I ended up passing to lp_solve isn't a whole lot different from that simple example; I just translated the fantasy football problem into a maximization problem using the values we already discussed.\n",
      "\n",
      "lp_solve supports binary variables, so I made a variable to represent each player in the data set, consisting of their position and id number. For example, if player 2 is a midfielder, he'll be represented by mf2, as above.\n",
      "\n",
      "The value we want to maximize is the expected point total of the players we choose.\n",
      "\n",
      "The first constraint is our cost constraint; we want to make sure we can afford to buy the team the program picks.\n",
      "\n",
      "Then there are four constraints, one for each position; we limit lp_solve to choosing 2 goalkeepers, 5 defenders, 5 midfielders, and 3 forwards."
     ]
    },
    {
     "cell_type": "code",
     "collapsed": false,
     "input": [
      "#create a buffer to hold all the constraints\n",
      "buf = StringIO.StringIO()"
     ],
     "language": "python",
     "metadata": {
      "slideshow": {
       "slide_type": "skip"
      }
     },
     "outputs": [],
     "prompt_number": 33
    },
    {
     "cell_type": "code",
     "collapsed": false,
     "input": [
      "def objective_function():\n",
      "    m = \" + \".join(\"{p.expected_points()} {p.pos}{p.idn}\".format(p=p)\n",
      "                              for p in player_objs)\n",
      "    \n",
      "    return \"max: \" + m + \";\\n\""
     ],
     "language": "python",
     "metadata": {
      "slideshow": {
       "slide_type": "slide"
      }
     },
     "outputs": [],
     "prompt_number": 50
    },
    {
     "cell_type": "code",
     "collapsed": false,
     "input": [
      "buf.write(objective_function())"
     ],
     "language": "python",
     "metadata": {
      "slideshow": {
       "slide_type": "skip"
      }
     },
     "outputs": [
      {
       "ename": "AttributeError",
       "evalue": "'Player' object has no attribute 'expected_points()'",
       "output_type": "pyerr",
       "traceback": [
        "\u001b[0;31m---------------------------------------------------------------------------\u001b[0m\n\u001b[0;31mAttributeError\u001b[0m                            Traceback (most recent call last)",
        "\u001b[0;32m<ipython-input-51-717572a9b384>\u001b[0m in \u001b[0;36m<module>\u001b[0;34m()\u001b[0m\n\u001b[0;32m----> 1\u001b[0;31m \u001b[0mbuf\u001b[0m\u001b[0;34m.\u001b[0m\u001b[0mwrite\u001b[0m\u001b[0;34m(\u001b[0m\u001b[0mobjective_function\u001b[0m\u001b[0;34m(\u001b[0m\u001b[0;34m)\u001b[0m\u001b[0;34m)\u001b[0m\u001b[0;34m\u001b[0m\u001b[0m\n\u001b[0m",
        "\u001b[0;32m<ipython-input-50-e1ae09f37316>\u001b[0m in \u001b[0;36mobjective_function\u001b[0;34m()\u001b[0m\n\u001b[1;32m      1\u001b[0m \u001b[0;32mdef\u001b[0m \u001b[0mobjective_function\u001b[0m\u001b[0;34m(\u001b[0m\u001b[0;34m)\u001b[0m\u001b[0;34m:\u001b[0m\u001b[0;34m\u001b[0m\u001b[0m\n\u001b[1;32m      2\u001b[0m     m = \" + \".join(\"{p.expected_points()} {p.pos}{p.idn}\".format(p=p)\n\u001b[0;32m----> 3\u001b[0;31m                               for p in player_objs)\n\u001b[0m\u001b[1;32m      4\u001b[0m \u001b[0;34m\u001b[0m\u001b[0m\n\u001b[1;32m      5\u001b[0m     \u001b[0;32mreturn\u001b[0m \u001b[0;34m\"max: \"\u001b[0m \u001b[0;34m+\u001b[0m \u001b[0mm\u001b[0m \u001b[0;34m+\u001b[0m \u001b[0;34m\";\\n\"\u001b[0m\u001b[0;34m\u001b[0m\u001b[0m\n",
        "\u001b[0;32m<ipython-input-50-e1ae09f37316>\u001b[0m in \u001b[0;36m<genexpr>\u001b[0;34m((p,))\u001b[0m\n\u001b[1;32m      1\u001b[0m \u001b[0;32mdef\u001b[0m \u001b[0mobjective_function\u001b[0m\u001b[0;34m(\u001b[0m\u001b[0;34m)\u001b[0m\u001b[0;34m:\u001b[0m\u001b[0;34m\u001b[0m\u001b[0m\n\u001b[1;32m      2\u001b[0m     m = \" + \".join(\"{p.expected_points()} {p.pos}{p.idn}\".format(p=p)\n\u001b[0;32m----> 3\u001b[0;31m                               for p in player_objs)\n\u001b[0m\u001b[1;32m      4\u001b[0m \u001b[0;34m\u001b[0m\u001b[0m\n\u001b[1;32m      5\u001b[0m     \u001b[0;32mreturn\u001b[0m \u001b[0;34m\"max: \"\u001b[0m \u001b[0;34m+\u001b[0m \u001b[0mm\u001b[0m \u001b[0;34m+\u001b[0m \u001b[0;34m\";\\n\"\u001b[0m\u001b[0;34m\u001b[0m\u001b[0m\n",
        "\u001b[0;31mAttributeError\u001b[0m: 'Player' object has no attribute 'expected_points()'"
       ]
      }
     ],
     "prompt_number": 51
    },
    {
     "cell_type": "markdown",
     "metadata": {
      "slideshow": {
       "slide_type": "notes"
      }
     },
     "source": [
      "First, I wrote a function to output a maximization criteria. All it does is iterate through all players and join each player together, weighted by their expected point value.\n",
      "\n",
      "This creates the expression lp_solve will be trying to maximize."
     ]
    },
    {
     "cell_type": "code",
     "collapsed": false,
     "input": [
      "def cost_constraint(max_price):\n",
      "    c = \" + \".join(\"{p.cost} {p.pos}{p.idn}\".format(p=p)\n",
      "                            for p in player_objs)\n",
      "    \n",
      "    return \"cost_constraint: \" + c + \" <= %s;\\n\" % max_price"
     ],
     "language": "python",
     "metadata": {
      "slideshow": {
       "slide_type": "slide"
      }
     },
     "outputs": [],
     "prompt_number": 44
    },
    {
     "cell_type": "code",
     "collapsed": false,
     "input": [
      "buf.write(cost_constraint(100))"
     ],
     "language": "python",
     "metadata": {
      "slideshow": {
       "slide_type": "skip"
      }
     },
     "outputs": [],
     "prompt_number": 42
    },
    {
     "cell_type": "markdown",
     "metadata": {
      "slideshow": {
       "slide_type": "notes"
      }
     },
     "source": [
      "Next, I wrote a very similar function to add a cost constraint. Again it loops through all players, but this time it weights them by their cost."
     ]
    },
    {
     "cell_type": "code",
     "collapsed": false,
     "input": [
      "def position_constraints():\n",
      "    constraints = StringIO.StringIO()\n",
      "\n",
      "    gks = [p for p in player_objs if p.position == \"Goalkeeper\"]\n",
      "    gk_list = \" + \".join((\"gk{p.idn}\".format(**locals()) for p in gks))\n",
      "    constraints.write(\"gk_limit: \" + gk_list + \" = 2;\\n\")\n",
      "    \n",
      "    ds = [p for p in player_objs if p.position == \"Defender\"]\n",
      "    d_list = \" + \".join((\"d{p.idn}\".format(**locals()) for p in ds))\n",
      "    constraints.write(\"d_limit: \" + d_list + \" = 5;\\n\")\n",
      "    \n",
      "    ms = [p for p in player_objs if p.position == \"Midfielder\"]\n",
      "    m_list = \" + \".join((\"m{p.idn}\".format(**locals()) for p in ms))\n",
      "    constraints.write(\"m_limit: \" + m_list + \" = 5;\\n\")\n",
      "    \n",
      "    fs = [p for p in player_objs if p.position == \"Forward\"]\n",
      "    f_list = \" + \".join((\"f{p.idn}\".format(**locals()) for p in fs))\n",
      "    constraints.write(\"f_limit: \" + f_list + \" = 3;\\n\")\n",
      "    \n",
      "    return constraints.getvalue()"
     ],
     "language": "python",
     "metadata": {
      "slideshow": {
       "slide_type": "slide"
      }
     },
     "outputs": [],
     "prompt_number": 45
    },
    {
     "cell_type": "code",
     "collapsed": false,
     "input": [
      "buf.write(position_constraints())"
     ],
     "language": "python",
     "metadata": {},
     "outputs": [],
     "prompt_number": 47
    },
    {
     "cell_type": "markdown",
     "metadata": {
      "slideshow": {
       "slide_type": "notes"
      }
     },
     "source": [
      "Finally, we add a constraint for each position.  This code writes four constraints, which together limit the solver to choosing 2 goalkeepers, 5 defenders, 5 midfielders, and 3 forwards.\n",
      "\n",
      "It does so by building  a list of each player at each position, and limiting the sum of that position to the appropriate number.\n",
      "\n",
      "Each player variable is a binary value; 1 if they're on the team or 0 if they're not, so the ability to add them up to limit the number of players comes in handy."
     ]
    },
    {
     "cell_type": "code",
     "collapsed": false,
     "input": [
      "# I've skipped this... is that reasonable?\n",
      "def all_player_variables():\n",
      "    variables = \", \".join(\"{p.pos}{p.idn}\".format(**locals()) for p in player_objs)\n",
      "    return \"bin %s;\\n\" % variables\n",
      "\n",
      "out.write(all_player_variables())"
     ],
     "language": "python",
     "metadata": {
      "slideshow": {
       "slide_type": "skip"
      }
     },
     "outputs": [],
     "prompt_number": 48
    },
    {
     "cell_type": "code",
     "collapsed": false,
     "input": [
      "import subprocess, re\n",
      "\n",
      "def get_id(idn):\n",
      "    \"\"\"given an id, return a player\"\"\"\n",
      "    for p in player_objs:\n",
      "        if p.idn == idn: return p\n",
      "    raise ValueError(\"Unable to find player\")\n",
      "    \n",
      "def return_team(lp):\n",
      "    \"\"\"run lp_solve on the file lp. return a list of player objects\"\"\"\n",
      "    val = subprocess.check_output(\"echo '%s' | lp_solve\" % lp, shell=True).split('\\n')\n",
      "    team_ids = [int(re.search(\"^\\w+?(\\d+)\", l).group(1)) for l in val if re.search(r\" 1$\", l)]\n",
      "    return map(lambda x: get_id(int(x)), team_ids)\n",
      "\n",
      "return_team(buf.getvalue())"
     ],
     "language": "python",
     "metadata": {
      "slideshow": {
       "slide_type": "slide"
      }
     },
     "outputs": [
      {
       "ename": "CalledProcessError",
       "evalue": "Command 'echo 'max: <bound method Player.expected_points of #1 ARS Lukasz Fabianski \u00a342 gk> gk1 + <bound method Player.expected_points of #2 ARS Wojciech Szczesny \u00a360 gk> gk2 + <bound method Player.expected_points of #3 ARS Laurent Koscielny \u00a357 d> d3 + <bound method Player.expected_points of #4 ARS Thomas Vermaelen \u00a354 d> d4 + <bound method Player.expected_points of #5 ARS Bacary Sagna \u00a357 d> d5 + <bound method Player.expected_points of #6 ARS Kieran Gibbs \u00a354 d> d6 + <bound method Player.expected_points of #7 ARS Carl Jenkinson \u00a341 d> d7 + <bound method Player.expected_points of #8 ARS Per Mertesacker \u00a366 d> d8 + <bound method Player.expected_points of #9 ARS Clarindo Andre Santos \u00a350 d> d9 + <bound method Player.expected_points of #10 ARS Nacho Monreal \u00a351 d> d10 + <bound method Player.expected_points of #11 ARS Jack Wilshere \u00a363 m> m11 + <bound method Player.expected_points of #12 ARS Theo Walcott \u00a392 m> m12 + <bound method Player.expected_points of #13 ARS Aaron Ramsey \u00a371 m> m13 + <bound method Player.expected_points of #14 ARS Tomas Rosicky \u00a355 m> m14 + <bound method Player.expected_points of #15 ARS Mikel Arteta \u00a368 m> m15 + <bound method Player.expected_points of #16 ARS Alex Oxlade-Chamberlain \u00a367 m> m16 + <bound method Player.expected_points of #17 ARS Yao Gervinho \u00a365 m> m17 + <bound method Player.expected_points of #18 ARS Santiago Cazorla \u00a396 m> m18 + <bound method Player.expected_points of #19 ARS Vassiriki Diaby \u00a360 m> m19 + <bound method Player.expected_points of #20 ARS Emmanuel Frimpong \u00a342 m> m20 + <bound method Player.expected_points of #21 ARS Lukas Podolski \u00a378 f> f21 + <bound method Player.expected_points of #22 ARS Olivier Giroud \u00a389 f> f22 + <bound method Player.expected_points of #23 CRY Marouane Chamakh \u00a348 f> f23 + <bound method Player.expected_points of #24 ARS Yaya Sanogo \u00a348 f> f24 + <bound method Player.expected_points of #25 AVL Shay Given \u00a339 gk> gk25 + <bound method Player.expected_points of #26 AVL Bradley Guzan \u00a351 gk> gk26 + <bound method Player.expected_points of #27 AVL Nathan Baker \u00a339 d> d27 + <bound method Player.expected_points of #28 AVL Ciaran Clark \u00a345 d> d28 + <bound method Player.expected_points of #29 AVL Enda Stevens \u00a340 d> d29 + <bound method Player.expected_points of #30 AVL Matthew Lowton \u00a344 d> d30 + <bound method Player.expected_points of #31 AVL Ron Vlaar \u00a343 d> d31 + <bound method Player.expected_points of #32 AVL Joe Bennett \u00a342 d> d32 + <bound method Player.expected_points of #33 AVL Jores Okore \u00a341 d> d33 + <bound method Player.expected_points of #34 AVL Antonio Luna \u00a344 d> d34 + <bound method Player.expected_points of #35 CRY Barry Bannan \u00a344 m> m35 + <bound method Player.expected_points of #36 AVL Chris Herd \u00a343 m> m36 + <bound method Player.expected_points of #37 AVL Fabian Delph \u00a343 m> m37 + <bound method Player.expected_points of #38 AVL Marc Albrighton \u00a345 m> m38 + <bound method Player.expected_points of #39 STK Stephen Ireland \u00a345 m> m39 + <bound method Player.expected_points of #40 AVL Charles N'Zogbia \u00a360 m> m40 + <bound method Player.expected_points of #41 AVL Gary Gardner \u00a343 m> m41 + <bound method Player.expected_points of #42 AVL Brett Holman \u00a346 m> m42 + <bound method Player.expected_points of #43 AVL Karim El Ahmadi \u00a342 m> m43 + <bound method Player.expected_points of #44 AVL Ashley Westwood \u00a349 m> m44 + <bound method Player.expected_points of #45 AVL Yacouba Sylla \u00a342 m> m45 + <bound method Player.expected_points of #46 AVL Leandro Bacuna \u00a344 m> m46 + <bound method Player.expected_points of #47 AVL Aleksandar Tonev \u00a342 m> m47 + <bound method Player.expected_points of #48 FUL Darren Bent \u00a360 f> f48 + <bound method Player.expected_points of #49 AVL Nathan Delfouneso \u00a343 f> f49 + <bound method Player.expected_points of #50 AVL Gabriel Agbonlahor \u00a367 f> f50 + <bound method Player.expected_points of #51 AVL Andreas Weimann \u00a358 f> f51 + <bound method Player.expected_points of #52 AVL Jordan Bowery \u00a343 f> f52 + <bound method Player.expected_points of #53 AVL Christian Benteke \u00a387 f> f53 + <bound method Player.expected_points of #54 AVL Nicklas Helenius \u00a348 f> f54 + <bound method Player.expected_points of #55 CAR David Marshall \u00a347 gk> gk55 + <bound method Player.expected_points of #56 CAR Joe Lewis \u00a340 gk> gk56 + <bound method Player.expected_points of #57 CAR Kevin McNaughton \u00a338 d> d57 + <bound method Player.expected_points of #58 CAR Andrew Taylor \u00a345 d> d58 + <bound method Player.expected_points of #59 CAR Mark Hudson \u00a339 d> d59 + <bound method Player.expected_points of #60 CAR Ben Turner \u00a342 d> d60 + <bound method Player.expected_points of #61 CAR Matthew Connolly \u00a339 d> d61 + <bound method Player.expected_points of #62 CAR Ben Nugent \u00a340 d> d62 + <bound method Player.expected_points of #63 CAR Pete Whittingham \u00a353 m> m63 + <bound method Player.expected_points of #64 CAR Don Cowie \u00a342 m> m64 + <bound method Player.expected_points of #65 CAR Craig Conway \u00a342 m> m65 + <bound method Player.expected_points of #66 CAR Bo-Kyung Kim \u00a342 m> m66 + <bound method Player.expected_points of #67 CAR Craig Noone \u00a343 m> m67 + <bound method Player.expected_points of #68 CAR Aron Gunnarsson \u00a347 m> m68 + <bound method Player.expected_points of #69 CAR Jordan Mutch \u00a346 m> m69 + <bound method Player.expected_points of #70 CAR Craig Bellamy \u00a346 m> m70 + <bound method Player.expected_points of #71 CAR Tommy Smith \u00a342 f> f71 + <bound method Player.expected_points of #72 CAR Rudy Gestede \u00a343 f> f72 + <bound method Player.expected_points of #73 CAR Joe Mason \u00a342 f> f73 + <bound method Player.expected_points of #74 CAR Nicky Maynard \u00a344 f> f74 + <bound method Player.expected_points of #75 CAR Fraizer Campbell \u00a352 f> f75 + <bound method Player.expected_points of #76 CAR Andreas Cornelius \u00a353 f> f76 + <bound method Player.expected_points of #77 CHE Petr Cech \u00a361 gk> gk77 + <bound method Player.expected_points of #78 CHE Mark Schwarzer \u00a346 gk> gk78 + <bound method Player.expected_points of #79 CHE Gary Cahill \u00a358 d> d79 + <bound method Player.expected_points of #80 CHE David Luiz Moreira Marinho \u00a360 d> d80 + <bound method Player.expected_points of #81 AVL Ryan Bertrand \u00a344 d> d81 + <bound method Player.expected_points of #82 CHE John Terry \u00a367 d> d82 + <bound method Player.expected_points of #83 CHE Branislav Ivanovic \u00a360 d> d83 + <bound method Player.expected_points of #84 CHE Ashley Cole \u00a360 d> d84 + <bound method Player.expected_points of #85 CHE Cesar Azpilicueta \u00a353 d> d85 + <bound method Player.expected_points of #86 CHE Nathan Ak \u00a342 d> d86 + <bound method Player.expected_points of #87 CHE Josh McEachran \u00a346 m> m87 + <bound method Player.expected_points of #88 CHE Nascimento Ramires \u00a364 m> m88 + <bound method Player.expected_points of #89 CHE Frank Lampard \u00a374 m> m89 + <bound method Player.expected_points of #90 CHE Michael Essien \u00a348 m> m90 + <bound method Player.expected_points of #91 CHE  Mikel \u00a343 m> m91 + <bound method Player.expected_points of #92 MUN Juan Mata \u00a397 m> m92 + <bound method Player.expected_points of #93 CHE Lucas Piazon \u00a342 m> m93 + <bound method Player.expected_points of #94 CHE Eden Hazard \u00a3106 m> m94 + <bound method Player.expected_points of #95 LIV Victor Moses \u00a352 m> m95 + <bound method Player.expected_points of #96 CHE Emboaba Oscar \u00a389 m> m96 + <bound method Player.expected_points of #97 CHE Andre Schrrle \u00a370 m> m97 + <bound method Player.expected_points of #98 CHE Marco van Ginkel \u00a353 m> m98 + <bound method Player.expected_points of #99 CHE Fernando Torres \u00a382 f> f99 + <bound method Player.expected_points of #100 CHE Demba Ba \u00a375 f> f100 + <bound method Player.expected_points of #101 EVE Romelu Lukaku \u00a384 f> f101 + <bound method Player.expected_points of #102 CRY Julian Speroni \u00a345 gk> gk102 + <bound method Player.expected_points of #103 CRY Lewis Price \u00a339 gk> gk103 + <bound method Player.expected_points of #104 CRY Joel Ward \u00a342 d> d104 + <bound method Player.expected_points of #105 CRY Darcy Blake \u00a338 d> d105 + <bound method Player.expected_points of #106 CRY Dean Moxey \u00a340 d> d106 + <bound method Player.expected_points of #107 CRY Damien Delaney \u00a344 d> d107 + <bound method Player.expected_points of #108 CRY Peter Ramage \u00a338 d> d108 + <bound method Player.expected_points of #109 CRY Danny Gabbidon \u00a344 d> d109 + <bound method Player.expected_points of #110 CRY Jonathan Parr \u00a339 d> d110 + <bound method Player.expected_points of #111 CRY Yannick Bolasie \u00a349 m> m111 + <bound method Player.expected_points of #112 CRY Kagisho Dikgacoi \u00a342 m> m112 + <bound method Player.expected_points of #113 CRY Owen Garvan \u00a347 m> m113 + <bound method Player.expected_points of #114 CRY Mile Jedinak \u00a343 m> m114 + <bound method Player.expected_points of #115 CRY Jonathan Williams \u00a343 m> m115 + <bound method Player.expected_points of #116 CRY Andre Moritz \u00a345 m> m116 + <bound method Player.expected_points of #117 CRY Jerome Thomas \u00a341 m> m117 + <bound method Player.expected_points of #118 CRY Glenn Murray \u00a352 f> f118 + <bound method Player.expected_points of #119 CRY Aaron Wilbraham \u00a343 f> f119 + <bound method Player.expected_points of #120 CRY Dwight Gayle \u00a349 f> f120 + <bound method Player.expected_points of #121 EVE Tim Howard \u00a359 gk> gk121 + <bound method Player.expected_points of #122 EVE Mason Springthorpe \u00a339 gk> gk122 + <bound method Player.expected_points of #123 EVE Joel Robles \u00a342 gk> gk123 + <bound method Player.expected_points of #124 FUL Johnny Heitinga \u00a346 d> d124 + <bound method Player.expected_points of #125 EVE Phil Jagielka \u00a359 d> d125 + <bound method Player.expected_points of #126 EVE Tony Hibbert \u00a344 d> d126 + <bound method Player.expected_points of #127 EVE Leighton Baines \u00a374 d> d127 + <bound method Player.expected_points of #128 EVE Sylvain Distin \u00a352 d> d128 + <bound method Player.expected_points of #129 EVE Shane Duffy \u00a338 d> d129 + <bound method Player.expected_points of #130 EVE Seamus Coleman \u00a366 d> d130 + <bound method Player.expected_points of #131 EVE Antolin Alcaraz \u00a343 d> d131 + <bound method Player.expected_points of #132 EVE Leon Osman \u00a362 m> m132 + <bound method Player.expected_points of #133 MUN Marouane Fellaini \u00a377 m> m133 + <bound method Player.expected_points of #134 EVE Darron Gibson \u00a347 m> m134 + <bound method Player.expected_points of #135 EVE Ross Barkley \u00a351 m> m135 + <bound method Player.expected_points of #136 EVE Steven Pienaar \u00a365 m> m136 + <bound method Player.expected_points of #137 EVE Bryan Oviedo \u00a341 m> m137 + <bound method Player.expected_points of #138 EVE Kevin Mirallas \u00a373 m> m138 + <bound method Player.expected_points of #139 EVE Apostolos Vellios \u00a343 f> f139 + <bound method Player.expected_points of #140 EVE Magaye Gueye \u00a343 f> f140 + <bound method Player.expected_points of #141 WBA Victor Anichebe \u00a351 f> f141 + <bound method Player.expected_points of #142 HUL Nikica Jelavic \u00a369 f> f142 + <bound method Player.expected_points of #143 EVE Steven Naismith \u00a346 f> f143 + <bound method Player.expected_points of #144 EVE Arouna Kon \u00a362 f> f144 + <bound method Player.expected_points of #145 EVE Gerard Deulofeu \u00a354 f> f145 + <bound method Player.expected_points of #146 FUL David Stockdale \u00a343 gk> gk146 + <bound method Player.expected_points of #147 FUL Neil Etheridge \u00a340 gk> gk147 + <bound method Player.expected_points of #148 FUL Maarten Stekelenburg \u00a348 gk> gk148 + <bound method Player.expected_points of #149 FUL Matthew Briggs \u00a338 d> d149 + <bound method Player.expected_points of #150 FUL Philippe Senderos \u00a343 d> d150 + <bound method Player.expected_points of #151 FUL Aaron Hughes \u00a342 d> d151 + <bound method Player.expected_points of #152 FUL Brede Hangeland \u00a348 d> d152 + <bound method Player.expected_points of #153 FUL John Arne Riise \u00a345 d> d153 + <bound method Player.expected_points of #154 FUL Sascha Riether \u00a350 d> d154 + <bound method Player.expected_points of #155 FUL Stanislav Manolev \u00a340 d> d155 + <bound method Player.expected_points of #156 FUL Fernando Amorebieta \u00a341 d> d156 + <bound method Player.expected_points of #157 FUL Steve Sidwell \u00a352 m> m157 + <bound method Player.expected_points of #158 FUL Damien Duff \u00a356 m> m158 + <bound method Player.expected_points of #159 FUL Pajtim Kasami \u00a343 m> m159 + <bound method Player.expected_points of #160 FUL Kerim Frei \u00a344 m> m160 + <bound method Player.expected_points of #161 FUL Alex Kacaniklic \u00a346 m> m161 + <bound method Player.expected_points of #162 FUL Kieran Richardson \u00a348 m> m162 + <bound method Player.expected_points of #163 FUL Ashkan Dejagah \u00a351 m> m163 + <bound method Player.expected_points of #164 FUL Eyong Enoh \u00a345 m> m164 + <bound method Player.expected_points of #165 FUL Derek Boateng \u00a342 m> m165 + <bound method Player.expected_points of #166 FUL Bryan Ruiz \u00a354 f> f166 + <bound method Player.expected_points of #167 FUL Hugo Rodallega \u00a350 f> f167 + <bound method Player.expected_points of #168 FUL Dimitar Berbatov \u00a370 f> f168 + <bound method Player.expected_points of #169 HUL Eldin Jakupovic \u00a339 gk> gk169 + <bound method Player.expected_points of #170 HUL Allan McGregor \u00a345 gk> gk170 + <bound method Player.expected_points of #171 HUL Liam Rosenior \u00a340 d> d171 + <bound method Player.expected_points of #172 HUL James Chester \u00a339 d> d172 + <bound method Player.expected_points of #173 HUL Jack Hobbs \u00a338 d> d173 + <bound method Player.expected_points of #174 HUL Paul McShane \u00a339 d> d174 + <bound method Player.expected_points of #175 HUL Joe Dudgeon \u00a339 d> d175 + <bound method Player.expected_points of #176 HUL Abdoulaye Faye \u00a338 d> d176 + <bound method Player.expected_points of #177 HUL Alex Bruce \u00a339 d> d177 + <bound method Player.expected_points of #178 HUL Maynor Figueroa \u00a344 d> d178 + <bound method Player.expected_points of #179 HUL Curtis Davies \u00a346 d> d179 + <bound method Player.expected_points of #180 HUL Corry Evans \u00a345 m> m180 + <bound method Player.expected_points of #181 HUL Robert Koren \u00a345 m> m181 + <bound method Player.expected_points of #182 HUL Stephen Quinn \u00a342 m> m182 + <bound method Player.expected_points of #183 HUL Robbie Brady \u00a347 m> m183 + <bound method Player.expected_points of #184 HUL David Meyler \u00a343 m> m184 + <bound method Player.expected_points of #185 HUL Ahmed Elmohamady \u00a349 m> m185 + <bound method Player.expected_points of #186 HUL George Boyd \u00a349 m> m186 + <bound method Player.expected_points of #187 HUL Sone Aluko \u00a345 f> f187 + <bound method Player.expected_points of #188 HUL Nick Proschwitz \u00a343 f> f188 + <bound method Player.expected_points of #189 HUL Matty Fryatt \u00a343 f> f189 + <bound method Player.expected_points of #190 LIV Jose Reina \u00a354 gk> gk190 + <bound method Player.expected_points of #191 LIV Brad Jones \u00a343 gk> gk191 + <bound method Player.expected_points of #192 LIV Simon Mignolet \u00a355 gk> gk192 + <bound method Player.expected_points of #193 LIV Martin Kelly \u00a341 d> d193 + <bound method Player.expected_points of #194 LIV Glen Johnson \u00a358 d> d194 + <bound method Player.expected_points of #195 LIV Martin Skrtel \u00a355 d> d195 + <bound method Player.expected_points of #196 LIV Daniel Agger \u00a357 d> d196 + <bound method Player.expected_points of #197 LIV Jos Enrique Sanchez Diaz \u00a356 d> d197 + <bound method Player.expected_points of #198 LIV Sebastian Coates \u00a343 d> d198 + <bound method Player.expected_points of #199 LIV Andre Wisdom \u00a339 d> d199 + <bound method Player.expected_points of #200 LIV Conor Coady \u00a340 d> d200 + <bound method Player.expected_points of #201 LIV Kolo Tour \u00a345 d> d201 + <bound method Player.expected_points of #202 WHU Stewart Downing \u00a358 m> m202 + <bound method Player.expected_points of #203 LIV Steven Gerrard \u00a389 m> m203 + <bound method Player.expected_points of #204 LIV Leiva Lucas \u00a342 m> m204 + <bound method Player.expected_points of #205 LIV Jordan Henderson \u00a365 m> m205 + <bound method Player.expected_points of #206 LIV Raheem Sterling \u00a353 m> m206 + <bound method Player.expected_points of #207 LIV Joe Allen \u00a345 m> m207 + <bound method Player.expected_points of #208 STK Oussama Assaidi \u00a347 m> m208 + <bound method Player.expected_points of #209 LIV Phillippe Coutinho \u00a385 m> m209 + <bound method Player.expected_points of #210 LIV Jordon Ibe \u00a341 m> m210 + <bound method Player.expected_points of #211 LIV Jesus Fernandez Saez \u00a350 m> m211 + <bound method Player.expected_points of #212 LIV Luis Alberto Romero Alconchel \u00a350 m> m212 + <bound method Player.expected_points of #213 LIV Daniel Sturridge \u00a396 f> f213 + <bound method Player.expected_points of #214 LIV Luis Surez \u00a3134 f> f214 + <bound method Player.expected_points of #215 SUN Fabio Borini \u00a362 f> f215 + <bound method Player.expected_points of #216 LIV Iago Aspas \u00a362 f> f216 + <bound method Player.expected_points of #217 MCI Joe Hart \u00a360 gk> gk217 + <bound method Player.expected_points of #218 MCI Costel Pantilimon \u00a342 gk> gk218 + <bound method Player.expected_points of #219 MCI Richard Wright \u00a344 gk> gk219 + <bound method Player.expected_points of #220 MCI Aleksandar Kolarov \u00a355 d> d220 + <bound method Player.expected_points of #221 MCI Micah Richards \u00a352 d> d221 + <bound method Player.expected_points of #222 MCI Pablo Zabaleta \u00a360 d> d222 + <bound method Player.expected_points of #223 MCI Joleon Lescott \u00a348 d> d223 + <bound method Player.expected_points of #224 MCI Vincent Kompany \u00a363 d> d224 + <bound method Player.expected_points of #225 MCI Gael Clichy \u00a359 d> d225 + <bound method Player.expected_points of #226 MCI Karim Rekik \u00a340 d> d226 + <bound method Player.expected_points of #227 MCI Sisenando Maicon \u00a350 d> d227 + <bound method Player.expected_points of #228 MCI Matija Nastasic \u00a349 d> d228 + <bound method Player.expected_points of #229 MCI Jack Rodwell \u00a350 m> m229 + <bound method Player.expected_points of #230 MCI Samir Nasri \u00a381 m> m230 + <bound method Player.expected_points of #231 MCI David Silva \u00a393 m> m231 + <bound method Player.expected_points of #232 MCI Gnegneri Yaya Tour \u00a3101 m> m232 + <bound method Player.expected_points of #233 EVE Gareth Barry \u00a353 m> m233 + <bound method Player.expected_points of #234 MCI James Milner \u00a354 m> m234 + <bound method Player.expected_points of #235 WHU Abdul Razak \u00a343 m> m235 + <bound method Player.expected_points of #236 WBA Scott Sinclair \u00a357 m> m236 + <bound method Player.expected_points of #237 MCI Francisco Javier Garca Fernndez \u00a347 m> m237 + <bound method Player.expected_points of #238 MCI Jess Navas \u00a383 m> m238 + <bound method Player.expected_points of #239 MCI Fernando Luiz Rosa \u00a374 m> m239 + <bound method Player.expected_points of #240 MCI Edin Dzeko \u00a369 f> f240 + <bound method Player.expected_points of #241 MCI Sergio Agero \u00a3123 f> f241 + <bound method Player.expected_points of #242 MUN David De Gea \u00a358 gk> gk242 + <bound method Player.expected_points of #243 MUN Anders Lindegaard \u00a347 gk> gk243 + <bound method Player.expected_points of #244 MUN Chris Smalling \u00a351 d> d244 + <bound method Player.expected_points of #245 MUN Phil Jones \u00a358 d> d245 + <bound method Player.expected_points of #246 MUN Rafael Da Silva \u00a359 d> d246 + <bound method Player.expected_points of #247 MUN Nemanja Vidic \u00a358 d> d247 + <bound method Player.expected_points of #248 MUN Rio Ferdinand \u00a349 d> d248 + <bound method Player.expected_points of #249 MUN Patrice Evra \u00a364 d> d249 + <bound method Player.expected_points of #250 MUN Jonny Evans \u00a350 d> d250 + <bound method Player.expected_points of #251 MUN Alexander Bttner \u00a345 d> d251 + <bound method Player.expected_points of #252 MUN Guillermo Varela \u00a340 d> d252 + <bound method Player.expected_points of #253 MUN Antonio Valencia \u00a371 m> m253 + <bound method Player.expected_points of #254 MUN Luis Nani \u00a369 m> m254 + <bound method Player.expected_points of #255 MUN Oliveira Anderson \u00a344 m> m255 + <bound method Player.expected_points of #256 MUN Ryan Giggs \u00a350 m> m256 + <bound method Player.expected_points of #257 MUN Michael Carrick \u00a355 m> m257 + <bound method Player.expected_points of #258 MUN Darren Fletcher \u00a349 m> m258 + <bound method Player.expected_points of #259 MUN Tom Cleverley \u00a356 m> m259 + <bound method Player.expected_points of #260 MUN Ashley Young \u00a371 m> m260 + <bound method Player.expected_points of #261 MUN Nick Powell \u00a350 m> m261 + <bound method Player.expected_points of #262 MUN Shinji Kagawa \u00a371 m> m262 + <bound method Player.expected_points of #263 CAR Wilfried Zaha \u00a354 m> m263 + <bound method Player.expected_points of #264 MUN Robin van Persie \u00a3136 f> f264 + <bound method Player.expected_points of #265 MUN Javier Hernndez \u00a371 f> f265 + <bound method Player.expected_points of #266 MUN Wayne Rooney \u00a3113 f> f266 + <bound method Player.expected_points of #267 MUN Danny Welbeck \u00a371 f> f267 + <bound method Player.expected_points of #268 NEW Tim Krul \u00a353 gk> gk268 + <bound method Player.expected_points of #269 NEW Rob Elliot \u00a343 gk> gk269 + <bound method Player.expected_points of #270 NEW Jak Alnwick \u00a340 gk> gk270 + <bound method Player.expected_points of #271 NEW Mike Williamson \u00a345 d> d271 + <bound method Player.expected_points of #272 NEW Steven Taylor \u00a342 d> d272 + <bound method Player.expected_points of #273 NEW Fabricio Coloccini \u00a349 d> d273 + <bound method Player.expected_points of #274 NEW Ryan Taylor \u00a350 d> d274 + <bound method Player.expected_points of #275 NEW Davide Santon \u00a350 d> d275 + <bound method Player.expected_points of #276 NEW James Tavernier \u00a339 d> d276 + <bound method Player.expected_points of #277 NEW Mathieu Debuchy \u00a350 d> d277 + <bound method Player.expected_points of #278 NEW Mapou Yanga-Mbiwa \u00a344 d> d278 + <bound method Player.expected_points of #279 NEW Massadio Haidara \u00a342 d> d279 + <bound method Player.expected_points of #280 NEW Gabriel Obertan \u00a342 m> m280 + <bound method Player.expected_points of #281 NEW Cheick Tiote \u00a343 m> m281 + <bound method Player.expected_points of #282 NEW Hatem Ben Arfa \u00a365 m> m282 + <bound method Player.expected_points of #283 NEW Shane Ferguson \u00a345 m> m283 + <bound method Player.expected_points of #284 NEW Dan Gosling \u00a343 m> m284 + <bound method Player.expected_points of #285 NEW Mehdi Abeid \u00a345 m> m285 + <bound method Player.expected_points of #286 NOR Jons Gutirrez \u00a352 m> m286 + <bound method Player.expected_points of #287 NEW Yohan Cabaye \u00a372 m> m287 + <bound method Player.expected_points of #288 NEW Sylvain Marveaux \u00a343 m> m288 + <bound method Player.expected_points of #289 NEW Gael Bigirimana \u00a343 m> m289 + <bound method Player.expected_points of #290 NEW Vurnon Anita \u00a343 m> m290 + <bound method Player.expected_points of #291 NEW Moussa Sissoko \u00a356 m> m291 + <bound method Player.expected_points of #292 NEW Shola Ameobi \u00a348 f> f292 + <bound method Player.expected_points of #293 NEW Sammy Ameobi \u00a343 f> f293 + <bound method Player.expected_points of #294 NEW Papiss Demba Ciss \u00a380 f> f294 + <bound method Player.expected_points of #295 NEW Adam Campbell \u00a344 f> f295 + <bound method Player.expected_points of #296 NEW Yoan Gouffran \u00a364 f> f296 + <bound method Player.expected_points of #297 NOR John Ruddy \u00a349 gk> gk297 + <bound method Player.expected_points of #298 NOR Declan Rudd \u00a340 gk> gk298 + <bound method Player.expected_points of #299 NOR Mark Bunn \u00a343 gk> gk299 + <bound method Player.expected_points of #300 NOR Russell Martin \u00a347 d> d300 + <bound method Player.expected_points of #301 NOR Leon Barnett \u00a340 d> d301 + <bound method Player.expected_points of #302 NOR Daniel Ayala \u00a338 d> d302 + <bound method Player.expected_points of #303 NOR Ryan Bennett \u00a340 d> d303 + <bound method Player.expected_points of #304 NOR Steven Whittaker \u00a339 d> d304 + <bound method Player.expected_points of #305 NOR Michael Turner \u00a342 d> d305 + <bound method Player.expected_points of #306 NOR Javier Garrido \u00a340 d> d306 + <bound method Player.expected_points of #307 NOR Sebastien Bassong \u00a347 d> d307 + <bound method Player.expected_points of #308 NOR Martin Olsson \u00a342 d> d308 + <bound method Player.expected_points of #309 NOR Andrew Surman \u00a345 m> m309 + <bound method Player.expected_points of #310 NOR Wes Hoolahan \u00a348 m> m310 + <bound method Player.expected_points of #311 NOR David Fox \u00a343 m> m311 + <bound method Player.expected_points of #312 NOR Bradley Johnson \u00a344 m> m312 + <bound method Player.expected_points of #313 NOR Anthony Pilkington \u00a352 m> m313 + <bound method Player.expected_points of #314 NOR Elliott Bennett \u00a343 m> m314 + <bound method Player.expected_points of #315 NOR Jonathan Howson \u00a349 m> m315 + <bound method Player.expected_points of #316 NOR Robert Snodgrass \u00a359 m> m316 + <bound method Player.expected_points of #317 NOR Alexander Tettey \u00a342 m> m317 + <bound method Player.expected_points of #318 NOR Nathan Redmond \u00a346 m> m318 + <bound method Player.expected_points of #319 NOR Luciano Becchio \u00a344 f> f319 + <bound method Player.expected_points of #320 NOR Ricky van Wolfswinkel \u00a364 f> f320 + <bound method Player.expected_points of #321 SOU Kelvin Davis \u00a339 gk> gk321 + <bound method Player.expected_points of #322 SOU Paulo Gazzaniga \u00a340 gk> gk322 + <bound method Player.expected_points of #323 SOU Artur Boruc \u00a347 gk> gk323 + <bound method Player.expected_points of #324 SOU Daniel Fox \u00a343 d> d324 + <bound method Player.expected_points of #325 SOU Jos Hooiveld \u00a341 d> d325 + <bound method Player.expected_points of #326 SOU Jose Fonte \u00a352 d> d326 + <bound method Player.expected_points of #327 SOU Nathaniel Clyne \u00a344 d> d327 + <bound method Player.expected_points of #328 SOU Luke Shaw \u00a349 d> d328 + <bound method Player.expected_points of #329 SOU Maya Yoshida \u00a340 d> d329 + <bound method Player.expected_points of #330 SOU Dejan Lovren \u00a356 d> d330 + <bound method Player.expected_points of #331 SOU Jack Cork \u00a342 m> m331 + <bound method Player.expected_points of #332 SOU Guly Do Prado \u00a342 m> m332 + <bound method Player.expected_points of #333 SOU Adam Lallana \u00a377 m> m333 + <bound method Player.expected_points of #334 SOU Morgan Schneiderlin \u00a351 m> m334 + <bound method Player.expected_points of #335 CRY Jason Puncheon \u00a350 m> m335 + <bound method Player.expected_points of #336 SOU Steve De Ridder \u00a345 m> m336 + <bound method Player.expected_points of #337 SOU Steven Davis \u00a347 m> m337 + <bound method Player.expected_points of #338 SOU James Ward-Prowse \u00a341 m> m338 + <bound method Player.expected_points of #339 SOU Gastn Ramrez \u00a354 m> m339 + <bound method Player.expected_points of #340 SOU Victor Wanyama \u00a344 m> m340 + <bound method Player.expected_points of #341 SOU Billy Sharp \u00a343 f> f341 + <bound method Player.expected_points of #342 SOU Rickie Lambert \u00a370 f> f342 + <bound method Player.expected_points of #343 SOU Jay Rodriguez \u00a364 f> f343 + <bound method Player.expected_points of #344 SOU Emmanuel Mayuka \u00a349 f> f344 + <bound method Player.expected_points of #345 STK Asmir Begovic \u00a353 gk> gk345 + <bound method Player.expected_points of #346 STK Thomas Srensen \u00a344 gk> gk346 + <bound method Player.expected_points of #347 STK Andy Wilkinson \u00a342 d> d347 + <bound method Player.expected_points of #348 STK Ryan Shawcross \u00a354 d> d348 + <bound method Player.expected_points of #349 STK Robert Huth \u00a352 d> d349 + <bound method Player.expected_points of #350 STK Marc Wilson \u00a343 d> d350 + <bound method Player.expected_points of #351 STK Geoff Cameron \u00a350 d> d351 + <bound method Player.expected_points of #352 STK Erik Pieters \u00a348 d> d352 + <bound method Player.expected_points of #353 STK Marc Muniesa \u00a347 d> d353 + <bound method Player.expected_points of #354 STK Charlie Adam \u00a356 m> m354 + <bound method Player.expected_points of #355 STK Matthew Etherington \u00a351 m> m355 + <bound method Player.expected_points of #356 STK Glenn Whelan \u00a353 m> m356 + <bound method Player.expected_points of #357 STK Wilson Palacios \u00a343 m> m357 + <bound method Player.expected_points of #358 STK Ryan Shotton \u00a348 m> m358 + <bound method Player.expected_points of #359 STK Jonathan Walters \u00a361 m> m359 + <bound method Player.expected_points of #360 STK Michael Kightly \u00a352 m> m360 + <bound method Player.expected_points of #361 STK Maurice Edu \u00a343 m> m361 + <bound method Player.expected_points of #362 STK Steven N'Zonzi \u00a346 m> m362 + <bound method Player.expected_points of #363 STK Brek Shea \u00a348 m> m363 + <bound method Player.expected_points of #364 CAR Kenwyne Jones \u00a346 f> f364 + <bound method Player.expected_points of #365 STK Peter Crouch \u00a355 f> f365 + <bound method Player.expected_points of #366 CRY Cameron Jerome \u00a347 f> f366 + <bound method Player.expected_points of #367 SUN Keiren Westwood \u00a343 gk> gk367 + <bound method Player.expected_points of #368 SUN Vito Mannone \u00a345 gk> gk368 + <bound method Player.expected_points of #369 SUN Phil Bardsley \u00a345 d> d369 + <bound method Player.expected_points of #370 SUN John O'Shea \u00a348 d> d370 + <bound method Player.expected_points of #371 SUN Wes Brown \u00a343 d> d371 + <bound method Player.expected_points of #372 SUN Carlos Cullar \u00a339 d> d372 + <bound method Player.expected_points of #373 SUN Kader Mangane \u00a340 d> d373 + <bound method Player.expected_points of #374 SUN Modibo Diakit \u00a341 d> d374 + <bound method Player.expected_points of #375 SUN Valentin Roberge \u00a341 d> d375 + <bound method Player.expected_points of #376 SUN Adam Johnson \u00a368 m> m376 + <bound method Player.expected_points of #377 SUN Lee Cattermole \u00a345 m> m377 + <bound method Player.expected_points of #378 SUN Jack Colback \u00a342 m> m378 + <bound method Player.expected_points of #379 SUN Sebastian Larsson \u00a354 m> m379 + <bound method Player.expected_points of #380 SUN Craig Gardner \u00a353 m> m380 + <bound method Player.expected_points of #381 SUN David Vaughan \u00a347 m> m381 + <bound method Player.expected_points of #382 SUN James McClean \u00a355 m> m382 + <bound method Player.expected_points of #383 WBA Stephane Sessegnon \u00a364 m> m383 + <bound method Player.expected_points of #384 SUN Alfred N'Diaye \u00a345 m> m384 + <bound method Player.expected_points of #385 SUN Billy Knott \u00a343 m> m385 + <bound method Player.expected_points of #386 SUN Tavares Varela Adilson Cabral \u00a341 m> m386 + <bound method Player.expected_points of #387 SUN Connor Wickham \u00a346 f> f387 + <bound method Player.expected_points of #388 HUL Danny Graham \u00a350 f> f388 + <bound method Player.expected_points of #389 SUN Steven Fletcher \u00a372 f> f389 + <bound method Player.expected_points of #390 SUN Mikael Mandron \u00a343 f> f390 + <bound method Player.expected_points of #391 SUN Adam Mitchell \u00a343 f> f391 + <bound method Player.expected_points of #392 SUN David Moberg-Karlsson \u00a345 f> f392 + <bound method Player.expected_points of #393 SUN Jozy Altidore \u00a362 f> f393 + <bound method Player.expected_points of #394 SWA Michel Vorm \u00a349 gk> gk394 + <bound method Player.expected_points of #395 SWA Gerhard Tremmel \u00a344 gk> gk395 + <bound method Player.expected_points of #396 SWA David Cornell \u00a340 gk> gk396 + <bound method Player.expected_points of #397 SWA Ashley Williams \u00a348 d> d397 + <bound method Player.expected_points of #398 SWA Neil Taylor \u00a344 d> d398 + <bound method Player.expected_points of #399 SWA Alan Tate \u00a340 d> d399 + <bound method Player.expected_points of #400 SWA Garry Monk \u00a342 d> d400 + <bound method Player.expected_points of #401 SWA Angel Rangel \u00a353 d> d401 + <bound method Player.expected_points of #402 SWA  Chico \u00a349 d> d402 + <bound method Player.expected_points of #403 SWA Kyle Bartley \u00a340 d> d403 + <bound method Player.expected_points of #404 SWA Ben Davies \u00a349 d> d404 + <bound method Player.expected_points of #405 SWA Dwight Tiendalli \u00a342 d> d405 + <bound method Player.expected_points of #406 SWA Jordi Amat \u00a345 d> d406 + <bound method Player.expected_points of #407 SWA Wayne Routledge \u00a349 m> m407 + <bound method Player.expected_points of #408 SWA Nathan Dyer \u00a351 m> m408 + <bound method Player.expected_points of #409 SWA Kemy Agustien \u00a345 m> m409 + <bound method Player.expected_points of #410 SWA Leon Britton \u00a343 m> m410 + <bound method Player.expected_points of #411 SWA Jonathan De Guzmn \u00a357 m> m411 + <bound method Player.expected_points of #412 SUN Sung-Yueng Ki \u00a349 m> m412 + <bound method Player.expected_points of #413 SWA Pablo Hernndez \u00a356 m> m413 + <bound method Player.expected_points of #414 SWA Roland Lamah \u00a343 m> m414 + <bound method Player.expected_points of #415 SWA Alejandro Pozuelo Melero \u00a342 m> m415 + <bound method Player.expected_points of #416 SWA Jonjo Shelvey \u00a354 m> m416 + <bound method Player.expected_points of #417 SWA Miguel Michu \u00a385 m> m417 + <bound method Player.expected_points of #418 SWA Luke Moore \u00a345 f> f418 + <bound method Player.expected_points of #419 SWA Itay Shechter \u00a350 f> f419 + <bound method Player.expected_points of #420 SWA Wilfried Bony \u00a374 f> f420 + <bound method Player.expected_points of #421 TOT Heurelho Gomes \u00a343 gk> gk421 + <bound method Player.expected_points of #422 TOT Brad Friedel \u00a343 gk> gk422 + <bound method Player.expected_points of #423 TOT Hugo Lloris \u00a358 gk> gk423 + <bound method Player.expected_points of #424 TOT Michael Dawson \u00a352 d> d424 + <bound method Player.expected_points of #425 TOT Benoit Assou-Ekotto \u00a351 d> d425 + <bound method Player.expected_points of #426 TOT Younes Kaboul \u00a346 d> d426 + <bound method Player.expected_points of #427 TOT Kyle Walker \u00a361 d> d427 + <bound method Player.expected_points of #428 TOT Kyle Naughton \u00a341 d> d428 + <bound method Player.expected_points of #429 CAR Steven Caulker \u00a352 d> d429 + <bound method Player.expected_points of #430 TOT Jan Vertonghen \u00a369 d> d430 + <bound method Player.expected_points of #431 FUL Clint Dempsey \u00a374 m> m431 + <bound method Player.expected_points of #432 TOT Mousa Dembl \u00a351 m> m432 + <bound method Player.expected_points of #433 TOT Raniere Sandro \u00a350 m> m433 + <bound method Player.expected_points of #434 TOT Aaron Lennon \u00a373 m> m434 + <bound method Player.expected_points of #435 TOT Gareth Bale \u00a3118 m> m435 + <bound method Player.expected_points of #436 HUL Tom Huddlestone \u00a350 m> m436 + <bound method Player.expected_points of #437 HUL Jake Livermore \u00a346 m> m437 + <bound method Player.expected_points of #438 FUL Scott Parker \u00a344 m> m438 + <bound method Player.expected_points of #439 TOT Yago Falque \u00a343 m> m439 + <bound method Player.expected_points of #440 TOT Tom Carroll \u00a344 m> m440 + <bound method Player.expected_points of #441 TOT Danny Rose \u00a347 m> m441 + <bound method Player.expected_points of #442 TOT Gylfi Sigurdsson \u00a363 m> m442 + <bound method Player.expected_points of #443 FUL Lewis Holtby \u00a362 m> m443 + <bound method Player.expected_points of #444 TOT Simon Dawkins \u00a344 m> m444 + <bound method Player.expected_points of #445 TOT Jos Paulo Bezerra Maciel Jnior \u00a366 m> m445 + <bound method Player.expected_points of #446 TOT Andros Townsend \u00a351 m> m446 + <bound method Player.expected_points of #447 TOT Emmanuel Adebayor \u00a379 f> f447 + <bound method Player.expected_points of #448 TOT Jermain Defoe \u00a379 f> f448 + <bound method Player.expected_points of #449 TOT Harry Kane \u00a344 f> f449 + <bound method Player.expected_points of #450 WBA Boaz Myhill \u00a344 gk> gk450 + <bound method Player.expected_points of #451 WBA Ben Foster \u00a347 gk> gk451 + <bound method Player.expected_points of #452 WBA Luke Daniels \u00a340 gk> gk452 + <bound method Player.expected_points of #453 WBA Gabriel Tamas \u00a344 d> d453 + <bound method Player.expected_points of #454 WBA Jonas Olsson \u00a349 d> d454 + <bound method Player.expected_points of #455 WBA Billy Jones \u00a350 d> d455 + <bound method Player.expected_points of #456 WBA Gareth McAuley \u00a353 d> d456 + <bound method Player.expected_points of #457 WBA Craig Dawson \u00a339 d> d457 + <bound method Player.expected_points of #458 WBA Liam Ridgewell \u00a350 d> d458 + <bound method Player.expected_points of #459 WBA Goran Popov \u00a342 d> d459 + <bound method Player.expected_points of #460 WBA George Thorne \u00a345 m> m460 + <bound method Player.expected_points of #461 WBA Graham Dorrans \u00a344 m> m461 + <bound method Player.expected_points of #462 WBA Steven Reid \u00a343 m> m462 + <bound method Player.expected_points of #463 WBA James Morrison \u00a354 m> m463 + <bound method Player.expected_points of #464 WBA Youssouf Mulumbu \u00a347 m> m464 + <bound method Player.expected_points of #465 WBA Chris Brunt \u00a350 m> m465 + <bound method Player.expected_points of #466 WBA Claudio Yacob \u00a344 m> m466 + <bound method Player.expected_points of #467 CHE Isaiah Brown \u00a343 m> m467 + <bound method Player.expected_points of #468 STK Peter Odemwingie \u00a354 f> f468 + <bound method Player.expected_points of #469 HUL Shane Long \u00a356 f> f469 + <bound method Player.expected_points of #470 WBA Markus Rosenberg \u00a346 f> f470 + <bound method Player.expected_points of #471 WBA Nicolas Anelka \u00a351 f> f471 + <bound method Player.expected_points of #472 WHU Jussi Jskelinen \u00a355 gk> gk472 + <bound method Player.expected_points of #473 WHU Stephen Henderson \u00a340 gk> gk473 + <bound method Player.expected_points of #474 WHU Adrin San Miguel del Castillo \u00a343 gk> gk474 + <bound method Player.expected_points of #475 WHU James Collins \u00a341 d> d475 + <bound method Player.expected_points of #476 WHU Joey O'Brien \u00a349 d> d476 + <bound method Player.expected_points of #477 WHU Winston Reid \u00a347 d> d477 + <bound method Player.expected_points of #478 WHU Guy Demel \u00a345 d> d478 + <bound method Player.expected_points of #479 WHU Daniel Potts \u00a339 d> d479 + <bound method Player.expected_points of #480 WHU James Tomkins \u00a346 d> d480 + <bound method Player.expected_points of #481 WHU George McCartney \u00a340 d> d481 + <bound method Player.expected_points of #482 WHU Jordan Spence \u00a338 d> d482 + <bound method Player.expected_points of #483 WHU Razvan Rat \u00a343 d> d483 + <bound method Player.expected_points of #484 WHU Joe Cole \u00a352 m> m484 + <bound method Player.expected_points of #485 WHU Jack Collison \u00a346 m> m485 + <bound method Player.expected_points of #486 WHU Matthew Taylor \u00a347 m> m486 + <bound method Player.expected_points of #487 WHU Mark Noble \u00a352 m> m487 + <bound method Player.expected_points of #488 WHU Ravel Morrison \u00a345 m> m488 + <bound method Player.expected_points of #489 WHU Kevin Nolan \u00a365 m> m489 + <bound method Player.expected_points of #490 WHU Mohamed Diam \u00a347 m> m490 + <bound method Player.expected_points of #491 WHU Alou Diarra \u00a344 m> m491 + <bound method Player.expected_points of #492 WHU Matthew Jarvis \u00a350 m> m492 + <bound method Player.expected_points of #493 WHU Andy Carroll \u00a372 f> f493 + <bound method Player.expected_points of #494 WHU Ricardo Vaz Te \u00a349 f> f494 + <bound method Player.expected_points of #495 WHU Modibo Maiga \u00a350 f> f495 + <bound method Player.expected_points of #496 WHU Robert Hall \u00a344 f> f496 + <bound method Player.expected_points of #497 CHE Kevin De Bruyne \u00a363 m> m497 + <bound method Player.expected_points of #498 NOR Leroy Fer \u00a356 m> m498 + <bound method Player.expected_points of #499 SUN Emanuele Giaccherini \u00a362 m> m499 + <bound method Player.expected_points of #500 AVL Samir Carruthers \u00a342 m> m500 + <bound method Player.expected_points of #501 CRY Patrick McCarthy \u00a343 d> d501 + <bound method Player.expected_points of #502 MCI lvaro Negredo \u00a397 f> f502 + <bound method Player.expected_points of #503 MCI Stevan Jovetic \u00a388 f> f503 + <bound method Player.expected_points of #504 NEW Haris Vuckic \u00a342 m> m504 + <bound method Player.expected_points of #505 SWA Jos Alberto Caas Ruiz Herrera \u00a342 m> m505 + <bound method Player.expected_points of #506 HUL Steve Harper \u00a341 gk> gk506 + <bound method Player.expected_points of #507 MUN Jesse Lingard \u00a342 m> m507 + <bound method Player.expected_points of #508 FUL Giorgos Karagounis \u00a342 m> m508 + <bound method Player.expected_points of #509 CRY Kevin Phillips \u00a343 f> f509 + <bound method Player.expected_points of #510 CRY Jos Campaa \u00a342 m> m510 + <bound method Player.expected_points of #511 STK Jack Butland \u00a347 gk> gk511 + <bound method Player.expected_points of #512 CRY Stephen Dobbie \u00a344 f> f512 + <bound method Player.expected_points of #513 CHE Tomas Kalas \u00a349 d> d513 + <bound method Player.expected_points of #514 TOT Nacer Chadli \u00a368 m> m514 + <bound method Player.expected_points of #515 NOR Gary Hooper \u00a360 f> f515 + <bound method Player.expected_points of #516 SOU Calum Chambers \u00a339 d> d516 + <bound method Player.expected_points of #517 SOU Jack Stephens \u00a339 d> d517 + <bound method Player.expected_points of #518 SOU Lloyd Isgrove \u00a342 m> m518 + <bound method Player.expected_points of #519 STK Jermaine Pennant \u00a341 m> m519 + <bound method Player.expected_points of #520 ARS Chuba Akpom \u00a343 f> f520 + <bound method Player.expected_points of #521 MUN Adnan Januzaj \u00a353 m> m521 + <bound method Player.expected_points of #522 CAR Fabio Da Silva \u00a341 d> d522 + <bound method Player.expected_points of #523 CAR John Brayford \u00a338 d> d523 + <bound method Player.expected_points of #524 EVE John Stones \u00a342 d> d524 + <bound method Player.expected_points of #525 WBA Diego Lugano \u00a343 d> d525 + <bound method Player.expected_points of #526 TOT Roberto Soldado \u00a385 f> f526 + <bound method Player.expected_points of #527 HUL Yannick Sagbo \u00a349 f> f527 + <bound method Player.expected_points of #528 CRY Elliot Grandin \u00a342 m> m528 + <bound method Player.expected_points of #529 NEW Loc Remy \u00a381 f> f529 + <bound method Player.expected_points of #530 SWA Rory Donnelly \u00a343 f> f530 + <bound method Player.expected_points of #531 CAR Declan John \u00a339 d> d531 + <bound method Player.expected_points of #532 MCI Dedryck Boyata \u00a342 d> d532 + <bound method Player.expected_points of #533 FUL Adel Taarabt \u00a354 m> m533 + <bound method Player.expected_points of #534 CAR Gary Medel \u00a347 m> m534 + <bound method Player.expected_points of #535 WBA Zoltan Gera \u00a349 m> m535 + <bound method Player.expected_points of #536 SUN Ondrej Celustka \u00a342 d> d536 + <bound method Player.expected_points of #537 SWA Ashley Richards \u00a339 d> d537 + <bound method Player.expected_points of #538 WBA Matej Vydra \u00a352 f> f538 + <bound method Player.expected_points of #539 NOR Jacob Butterfield \u00a345 m> m539 + <bound method Player.expected_points of #540 SUN Dong-Won Ji \u00a349 f> f540 + <bound method Player.expected_points of #541 SUN El-Hadji Ba \u00a344 m> m541 + <bound method Player.expected_points of #542 WBA Saido Berahino \u00a346 f> f542 + <bound method Player.expected_points of #543 ARS Serge Gnabry \u00a342 m> m543 + <bound method Player.expected_points of #544 AVL Jed Steer \u00a340 gk> gk544 + <bound method Player.expected_points of #545 CRY Neil Alexander \u00a340 gk> gk545 + <bound method Player.expected_points of #546 CRY Stuart O'Keefe \u00a343 m> m546 + <bound method Player.expected_points of #547 CRY Florian Marange \u00a340 d> d547 + <bound method Player.expected_points of #548 TOT Etienne Capoue \u00a359 m> m548 + <bound method Player.expected_points of #549 NEW Paul Dummett \u00a339 d> d549 + <bound method Player.expected_points of #550 SOU Pablo Osvaldo \u00a374 f> f550 + <bound method Player.expected_points of #551 LIV Aly Cissokho \u00a350 d> d551 + <bound method Player.expected_points of #552 NOR Johan Elmander \u00a351 f> f552 + <bound method Player.expected_points of #553 SUN Charalampos Mavrias \u00a347 m> m553 + <bound method Player.expected_points of #554 ARS Gedion Zelalem \u00a350 m> m554 + <bound method Player.expected_points of #555 WHU Elliot Lee \u00a344 f> f555 + <bound method Player.expected_points of #556 LIV Jon Flanagan \u00a343 d> d556 + <bound method Player.expected_points of #557 ARS Mathieu Flamini \u00a349 m> m557 + <bound method Player.expected_points of #558 TOT Erik Lamela \u00a374 m> m558 + <bound method Player.expected_points of #559 CHE Willian Borges Da Silva \u00a375 m> m559 + <bound method Player.expected_points of #560 CHE Samuel Eto'o \u00a383 f> f560 + <bound method Player.expected_points of #561 TOT Christian Eriksen \u00a374 m> m561 + <bound method Player.expected_points of #562 FUL Elsad Zverotic \u00a344 d> d562 + <bound method Player.expected_points of #563 MCI Martn Demichelis \u00a359 d> d563 + <bound method Player.expected_points of #564 TOT Vlad Chiriches \u00a351 d> d564 + <bound method Player.expected_points of #565 CAR Kvin Thophile-Catherine \u00a345 d> d565 + <bound method Player.expected_points of #566 SWA lvaro Vzquez Garca \u00a354 f> f566 + <bound method Player.expected_points of #567 CRY Jimmy Kb \u00a347 m> m567 + <bound method Player.expected_points of #568 CRY Jack Hunt \u00a340 d> d568 + <bound method Player.expected_points of #569 WBA Lee Camp \u00a339 gk> gk569 + <bound method Player.expected_points of #570 SUN Andrea Dossena \u00a348 d> d570 + <bound method Player.expected_points of #571 LIV Mamadou Sakho \u00a351 d> d571 + <bound method Player.expected_points of #572 HUL Mohamed Nagy \u00a343 f> f572 + <bound method Player.expected_points of #573 LIV Tiago Ilori \u00a344 d> d573 + <bound method Player.expected_points of #574 AVL Libor Kozk \u00a363 f> f574 + <bound method Player.expected_points of #575 CRY Adrian Mariappa \u00a340 d> d575 + <bound method Player.expected_points of #576 STK Marko Arnautovic \u00a351 m> m576 + <bound method Player.expected_points of #577 EVE James McCarthy \u00a349 m> m577 + <bound method Player.expected_points of #578 ARS Mesut zil \u00a3100 m> m578 + <bound method Player.expected_points of #579 WBA Morgan Amalfitano \u00a344 m> m579 + <bound method Player.expected_points of #580 ARS Emiliano Viviano \u00a346 gk> gk580 + <bound method Player.expected_points of #581 CAR Simon Moore \u00a340 gk> gk581 + <bound method Player.expected_points of #582 MUN Ben Amos \u00a345 gk> gk582 + <bound method Player.expected_points of #583 CRY Adlne Gudioura \u00a343 m> m583 + <bound method Player.expected_points of #584 ARS Ryo Miyaichi \u00a344 m> m584 + <bound method Player.expected_points of #585 WHU Mladen Petric \u00a344 f> f585 + <bound method Player.expected_points of #586 FUL Buomesca Tue Na Bangna \u00a345 m> m586 + <bound method Player.expected_points of #587 ARS Nicklas Bendtner \u00a365 f> f587 + <bound method Player.expected_points of #588 TOT Ezekiel Fryers \u00a340 d> d588 + <bound method Player.expected_points of #589 SWA Daniel Alfei \u00a340 d> d589 + <bound method Player.expected_points of #590 NOR Josh Murphy \u00a345 m> m590 + <bound method Player.expected_points of #591 CRY Ryan Inniss \u00a340 d> d591 + <bound method Player.expected_points of #592 WHU Carlton Cole \u00a350 f> f592 + <bound method Player.expected_points of #593 NOR Carlo Nash \u00a340 gk> gk593 + <bound method Player.expected_points of #594 SOU Tadanari Lee \u00a345 f> f594 + <bound method Player.expected_points of #595 HUL Aaron McLean \u00a345 f> f595 + <bound method Player.expected_points of #596 AVL Daniel Johnson \u00a341 m> m596 + <bound method Player.expected_points of #597 ARS Isaac Hayden \u00a345 d> d597 + <bound method Player.expected_points of #598 AVL Callum Robinson \u00a345 f> f598 + <bound method Player.expected_points of #599 SOU Sam Gallagher \u00a345 f> f599;\ncost_constraint: 42 gk1 + 60 gk2 + 57 d3 + 54 d4 + 57 d5 + 54 d6 + 41 d7 + 66 d8 + 50 d9 + 51 d10 + 63 m11 + 92 m12 + 71 m13 + 55 m14 + 68 m15 + 67 m16 + 65 m17 + 96 m18 + 60 m19 + 42 m20 + 78 f21 + 89 f22 + 48 f23 + 48 f24 + 39 gk25 + 51 gk26 + 39 d27 + 45 d28 + 40 d29 + 44 d30 + 43 d31 + 42 d32 + 41 d33 + 44 d34 + 44 m35 + 43 m36 + 43 m37 + 45 m38 + 45 m39 + 60 m40 + 43 m41 + 46 m42 + 42 m43 + 49 m44 + 42 m45 + 44 m46 + 42 m47 + 60 f48 + 43 f49 + 67 f50 + 58 f51 + 43 f52 + 87 f53 + 48 f54 + 47 gk55 + 40 gk56 + 38 d57 + 45 d58 + 39 d59 + 42 d60 + 39 d61 + 40 d62 + 53 m63 + 42 m64 + 42 m65 + 42 m66 + 43 m67 + 47 m68 + 46 m69 + 46 m70 + 42 f71 + 43 f72 + 42 f73 + 44 f74 + 52 f75 + 53 f76 + 61 gk77 + 46 gk78 + 58 d79 + 60 d80 + 44 d81 + 67 d82 + 60 d83 + 60 d84 + 53 d85 + 42 d86 + 46 m87 + 64 m88 + 74 m89 + 48 m90 + 43 m91 + 97 m92 + 42 m93 + 106 m94 + 52 m95 + 89 m96 + 70 m97 + 53 m98 + 82 f99 + 75 f100 + 84 f101 + 45 gk102 + 39 gk103 + 42 d104 + 38 d105 + 40 d106 + 44 d107 + 38 d108 + 44 d109 + 39 d110 + 49 m111 + 42 m112 + 47 m113 + 43 m114 + 43 m115 + 45 m116 + 41 m117 + 52 f118 + 43 f119 + 49 f120 + 59 gk121 + 39 gk122 + 42 gk123 + 46 d124 + 59 d125 + 44 d126 + 74 d127 + 52 d128 + 38 d129 + 66 d130 + 43 d131 + 62 m132 + 77 m133 + 47 m134 + 51 m135 + 65 m136 + 41 m137 + 73 m138 + 43 f139 + 43 f140 + 51 f141 + 69 f142 + 46 f143 + 62 f144 + 54 f145 + 43 gk146 + 40 gk147 + 48 gk148 + 38 d149 + 43 d150 + 42 d151 + 48 d152 + 45 d153 + 50 d154 + 40 d155 + 41 d156 + 52 m157 + 56 m158 + 43 m159 + 44 m160 + 46 m161 + 48 m162 + 51 m163 + 45 m164 + 42 m165 + 54 f166 + 50 f167 + 70 f168 + 39 gk169 + 45 gk170 + 40 d171 + 39 d172 + 38 d173 + 39 d174 + 39 d175 + 38 d176 + 39 d177 + 44 d178 + 46 d179 + 45 m180 + 45 m181 + 42 m182 + 47 m183 + 43 m184 + 49 m185 + 49 m186 + 45 f187 + 43 f188 + 43 f189 + 54 gk190 + 43 gk191 + 55 gk192 + 41 d193 + 58 d194 + 55 d195 + 57 d196 + 56 d197 + 43 d198 + 39 d199 + 40 d200 + 45 d201 + 58 m202 + 89 m203 + 42 m204 + 65 m205 + 53 m206 + 45 m207 + 47 m208 + 85 m209 + 41 m210 + 50 m211 + 50 m212 + 96 f213 + 134 f214 + 62 f215 + 62 f216 + 60 gk217 + 42 gk218 + 44 gk219 + 55 d220 + 52 d221 + 60 d222 + 48 d223 + 63 d224 + 59 d225 + 40 d226 + 50 d227 + 49 d228 + 50 m229 + 81 m230 + 93 m231 + 101 m232 + 53 m233 + 54 m234 + 43 m235 + 57 m236 + 47 m237 + 83 m238 + 74 m239 + 69 f240 + 123 f241 + 58 gk242 + 47 gk243 + 51 d244 + 58 d245 + 59 d246 + 58 d247 + 49 d248 + 64 d249 + 50 d250 + 45 d251 + 40 d252 + 71 m253 + 69 m254 + 44 m255 + 50 m256 + 55 m257 + 49 m258 + 56 m259 + 71 m260 + 50 m261 + 71 m262 + 54 m263 + 136 f264 + 71 f265 + 113 f266 + 71 f267 + 53 gk268 + 43 gk269 + 40 gk270 + 45 d271 + 42 d272 + 49 d273 + 50 d274 + 50 d275 + 39 d276 + 50 d277 + 44 d278 + 42 d279 + 42 m280 + 43 m281 + 65 m282 + 45 m283 + 43 m284 + 45 m285 + 52 m286 + 72 m287 + 43 m288 + 43 m289 + 43 m290 + 56 m291 + 48 f292 + 43 f293 + 80 f294 + 44 f295 + 64 f296 + 49 gk297 + 40 gk298 + 43 gk299 + 47 d300 + 40 d301 + 38 d302 + 40 d303 + 39 d304 + 42 d305 + 40 d306 + 47 d307 + 42 d308 + 45 m309 + 48 m310 + 43 m311 + 44 m312 + 52 m313 + 43 m314 + 49 m315 + 59 m316 + 42 m317 + 46 m318 + 44 f319 + 64 f320 + 39 gk321 + 40 gk322 + 47 gk323 + 43 d324 + 41 d325 + 52 d326 + 44 d327 + 49 d328 + 40 d329 + 56 d330 + 42 m331 + 42 m332 + 77 m333 + 51 m334 + 50 m335 + 45 m336 + 47 m337 + 41 m338 + 54 m339 + 44 m340 + 43 f341 + 70 f342 + 64 f343 + 49 f344 + 53 gk345 + 44 gk346 + 42 d347 + 54 d348 + 52 d349 + 43 d350 + 50 d351 + 48 d352 + 47 d353 + 56 m354 + 51 m355 + 53 m356 + 43 m357 + 48 m358 + 61 m359 + 52 m360 + 43 m361 + 46 m362 + 48 m363 + 46 f364 + 55 f365 + 47 f366 + 43 gk367 + 45 gk368 + 45 d369 + 48 d370 + 43 d371 + 39 d372 + 40 d373 + 41 d374 + 41 d375 + 68 m376 + 45 m377 + 42 m378 + 54 m379 + 53 m380 + 47 m381 + 55 m382 + 64 m383 + 45 m384 + 43 m385 + 41 m386 + 46 f387 + 50 f388 + 72 f389 + 43 f390 + 43 f391 + 45 f392 + 62 f393 + 49 gk394 + 44 gk395 + 40 gk396 + 48 d397 + 44 d398 + 40 d399 + 42 d400 + 53 d401 + 49 d402 + 40 d403 + 49 d404 + 42 d405 + 45 d406 + 49 m407 + 51 m408 + 45 m409 + 43 m410 + 57 m411 + 49 m412 + 56 m413 + 43 m414 + 42 m415 + 54 m416 + 85 m417 + 45 f418 + 50 f419 + 74 f420 + 43 gk421 + 43 gk422 + 58 gk423 + 52 d424 + 51 d425 + 46 d426 + 61 d427 + 41 d428 + 52 d429 + 69 d430 + 74 m431 + 51 m432 + 50 m433 + 73 m434 + 118 m435 + 50 m436 + 46 m437 + 44 m438 + 43 m439 + 44 m440 + 47 m441 + 63 m442 + 62 m443 + 44 m444 + 66 m445 + 51 m446 + 79 f447 + 79 f448 + 44 f449 + 44 gk450 + 47 gk451 + 40 gk452 + 44 d453 + 49 d454 + 50 d455 + 53 d456 + 39 d457 + 50 d458 + 42 d459 + 45 m460 + 44 m461 + 43 m462 + 54 m463 + 47 m464 + 50 m465 + 44 m466 + 43 m467 + 54 f468 + 56 f469 + 46 f470 + 51 f471 + 55 gk472 + 40 gk473 + 43 gk474 + 41 d475 + 49 d476 + 47 d477 + 45 d478 + 39 d479 + 46 d480 + 40 d481 + 38 d482 + 43 d483 + 52 m484 + 46 m485 + 47 m486 + 52 m487 + 45 m488 + 65 m489 + 47 m490 + 44 m491 + 50 m492 + 72 f493 + 49 f494 + 50 f495 + 44 f496 + 63 m497 + 56 m498 + 62 m499 + 42 m500 + 43 d501 + 97 f502 + 88 f503 + 42 m504 + 42 m505 + 41 gk506 + 42 m507 + 42 m508 + 43 f509 + 42 m510 + 47 gk511 + 44 f512 + 49 d513 + 68 m514 + 60 f515 + 39 d516 + 39 d517 + 42 m518 + 41 m519 + 43 f520 + 53 m521 + 41 d522 + 38 d523 + 42 d524 + 43 d525 + 85 f526 + 49 f527 + 42 m528 + 81 f529 + 43 f530 + 39 d531 + 42 d532 + 54 m533 + 47 m534 + 49 m535 + 42 d536 + 39 d537 + 52 f538 + 45 m539 + 49 f540 + 44 m541 + 46 f542 + 42 m543 + 40 gk544 + 40 gk545 + 43 m546 + 40 d547 + 59 m548 + 39 d549 + 74 f550 + 50 d551 + 51 f552 + 47 m553 + 50 m554 + 44 f555 + 43 d556 + 49 m557 + 74 m558 + 75 m559 + 83 f560 + 74 m561 + 44 d562 + 59 d563 + 51 d564 + 45 d565 + 54 f566 + 47 m567 + 40 d568 + 39 gk569 + 48 d570 + 51 d571 + 43 f572 + 44 d573 + 63 f574 + 40 d575 + 51 m576 + 49 m577 + 100 m578 + 44 m579 + 46 gk580 + 40 gk581 + 45 gk582 + 43 m583 + 44 m584 + 44 f585 + 45 m586 + 65 f587 + 40 d588 + 40 d589 + 45 m590 + 40 d591 + 50 f592 + 40 gk593 + 45 f594 + 45 f595 + 41 m596 + 45 d597 + 45 f598 + 45 f599 <= 100;\ngk_limit: gk1 + gk2 + gk25 + gk26 + gk55 + gk56 + gk77 + gk78 + gk102 + gk103 + gk121 + gk122 + gk123 + gk146 + gk147 + gk148 + gk169 + gk170 + gk190 + gk191 + gk192 + gk217 + gk218 + gk219 + gk242 + gk243 + gk268 + gk269 + gk270 + gk297 + gk298 + gk299 + gk321 + gk322 + gk323 + gk345 + gk346 + gk367 + gk368 + gk394 + gk395 + gk396 + gk421 + gk422 + gk423 + gk450 + gk451 + gk452 + gk472 + gk473 + gk474 + gk506 + gk511 + gk544 + gk545 + gk569 + gk580 + gk581 + gk582 + gk593 = 2;\nd_limit: d3 + d4 + d5 + d6 + d7 + d8 + d9 + d10 + d27 + d28 + d29 + d30 + d31 + d32 + d33 + d34 + d57 + d58 + d59 + d60 + d61 + d62 + d79 + d80 + d81 + d82 + d83 + d84 + d85 + d86 + d104 + d105 + d106 + d107 + d108 + d109 + d110 + d124 + d125 + d126 + d127 + d128 + d129 + d130 + d131 + d149 + d150 + d151 + d152 + d153 + d154 + d155 + d156 + d171 + d172 + d173 + d174 + d175 + d176 + d177 + d178 + d179 + d193 + d194 + d195 + d196 + d197 + d198 + d199 + d200 + d201 + d220 + d221 + d222 + d223 + d224 + d225 + d226 + d227 + d228 + d244 + d245 + d246 + d247 + d248 + d249 + d250 + d251 + d252 + d271 + d272 + d273 + d274 + d275 + d276 + d277 + d278 + d279 + d300 + d301 + d302 + d303 + d304 + d305 + d306 + d307 + d308 + d324 + d325 + d326 + d327 + d328 + d329 + d330 + d347 + d348 + d349 + d350 + d351 + d352 + d353 + d369 + d370 + d371 + d372 + d373 + d374 + d375 + d397 + d398 + d399 + d400 + d401 + d402 + d403 + d404 + d405 + d406 + d424 + d425 + d426 + d427 + d428 + d429 + d430 + d453 + d454 + d455 + d456 + d457 + d458 + d459 + d475 + d476 + d477 + d478 + d479 + d480 + d481 + d482 + d483 + d501 + d513 + d516 + d517 + d522 + d523 + d524 + d525 + d531 + d532 + d536 + d537 + d547 + d549 + d551 + d556 + d562 + d563 + d564 + d565 + d568 + d570 + d571 + d573 + d575 + d588 + d589 + d591 + d597 = 5;\nm_limit: m11 + m12 + m13 + m14 + m15 + m16 + m17 + m18 + m19 + m20 + m35 + m36 + m37 + m38 + m39 + m40 + m41 + m42 + m43 + m44 + m45 + m46 + m47 + m63 + m64 + m65 + m66 + m67 + m68 + m69 + m70 + m87 + m88 + m89 + m90 + m91 + m92 + m93 + m94 + m95 + m96 + m97 + m98 + m111 + m112 + m113 + m114 + m115 + m116 + m117 + m132 + m133 + m134 + m135 + m136 + m137 + m138 + m157 + m158 + m159 + m160 + m161 + m162 + m163 + m164 + m165 + m180 + m181 + m182 + m183 + m184 + m185 + m186 + m202 + m203 + m204 + m205 + m206 + m207 + m208 + m209 + m210 + m211 + m212 + m229 + m230 + m231 + m232 + m233 + m234 + m235 + m236 + m237 + m238 + m239 + m253 + m254 + m255 + m256 + m257 + m258 + m259 + m260 + m261 + m262 + m263 + m280 + m281 + m282 + m283 + m284 + m285 + m286 + m287 + m288 + m289 + m290 + m291 + m309 + m310 + m311 + m312 + m313 + m314 + m315 + m316 + m317 + m318 + m331 + m332 + m333 + m334 + m335 + m336 + m337 + m338 + m339 + m340 + m354 + m355 + m356 + m357 + m358 + m359 + m360 + m361 + m362 + m363 + m376 + m377 + m378 + m379 + m380 + m381 + m382 + m383 + m384 + m385 + m386 + m407 + m408 + m409 + m410 + m411 + m412 + m413 + m414 + m415 + m416 + m417 + m431 + m432 + m433 + m434 + m435 + m436 + m437 + m438 + m439 + m440 + m441 + m442 + m443 + m444 + m445 + m446 + m460 + m461 + m462 + m463 + m464 + m465 + m466 + m467 + m484 + m485 + m486 + m487 + m488 + m489 + m490 + m491 + m492 + m497 + m498 + m499 + m500 + m504 + m505 + m507 + m508 + m510 + m514 + m518 + m519 + m521 + m528 + m533 + m534 + m535 + m539 + m541 + m543 + m546 + m548 + m553 + m554 + m557 + m558 + m559 + m561 + m567 + m576 + m577 + m578 + m579 + m583 + m584 + m586 + m590 + m596 = 5;\nf_limit: f21 + f22 + f23 + f24 + f48 + f49 + f50 + f51 + f52 + f53 + f54 + f71 + f72 + f73 + f74 + f75 + f76 + f99 + f100 + f101 + f118 + f119 + f120 + f139 + f140 + f141 + f142 + f143 + f144 + f145 + f166 + f167 + f168 + f187 + f188 + f189 + f213 + f214 + f215 + f216 + f240 + f241 + f264 + f265 + f266 + f267 + f292 + f293 + f294 + f295 + f296 + f319 + f320 + f341 + f342 + f343 + f344 + f364 + f365 + f366 + f387 + f388 + f389 + f390 + f391 + f392 + f393 + f418 + f419 + f420 + f447 + f448 + f449 + f468 + f469 + f470 + f471 + f493 + f494 + f495 + f496 + f502 + f503 + f509 + f512 + f515 + f520 + f526 + f527 + f529 + f530 + f538 + f540 + f542 + f550 + f552 + f555 + f560 + f566 + f572 + f574 + f585 + f587 + f592 + f594 + f595 + f598 + f599 = 3;\n' | lp_solve' returned non-zero exit status 2",
       "output_type": "pyerr",
       "traceback": [
        "\u001b[0;31m---------------------------------------------------------------------------\u001b[0m\n\u001b[0;31mCalledProcessError\u001b[0m                        Traceback (most recent call last)",
        "\u001b[0;32m<ipython-input-49-5c650eafe7a5>\u001b[0m in \u001b[0;36m<module>\u001b[0;34m()\u001b[0m\n\u001b[1;32m     13\u001b[0m     \u001b[0;32mreturn\u001b[0m \u001b[0mmap\u001b[0m\u001b[0;34m(\u001b[0m\u001b[0;32mlambda\u001b[0m \u001b[0mx\u001b[0m\u001b[0;34m:\u001b[0m \u001b[0mget_id\u001b[0m\u001b[0;34m(\u001b[0m\u001b[0mint\u001b[0m\u001b[0;34m(\u001b[0m\u001b[0mx\u001b[0m\u001b[0;34m)\u001b[0m\u001b[0;34m)\u001b[0m\u001b[0;34m,\u001b[0m \u001b[0mteam_ids\u001b[0m\u001b[0;34m)\u001b[0m\u001b[0;34m\u001b[0m\u001b[0m\n\u001b[1;32m     14\u001b[0m \u001b[0;34m\u001b[0m\u001b[0m\n\u001b[0;32m---> 15\u001b[0;31m \u001b[0mreturn_team\u001b[0m\u001b[0;34m(\u001b[0m\u001b[0mbuf\u001b[0m\u001b[0;34m.\u001b[0m\u001b[0mgetvalue\u001b[0m\u001b[0;34m(\u001b[0m\u001b[0;34m)\u001b[0m\u001b[0;34m)\u001b[0m\u001b[0;34m\u001b[0m\u001b[0m\n\u001b[0m",
        "\u001b[0;32m<ipython-input-49-5c650eafe7a5>\u001b[0m in \u001b[0;36mreturn_team\u001b[0;34m(lp)\u001b[0m\n\u001b[1;32m      9\u001b[0m \u001b[0;32mdef\u001b[0m \u001b[0mreturn_team\u001b[0m\u001b[0;34m(\u001b[0m\u001b[0mlp\u001b[0m\u001b[0;34m)\u001b[0m\u001b[0;34m:\u001b[0m\u001b[0;34m\u001b[0m\u001b[0m\n\u001b[1;32m     10\u001b[0m     \u001b[0;34m\"\"\"run lp_solve on the file lp. return a list of player objects\"\"\"\u001b[0m\u001b[0;34m\u001b[0m\u001b[0m\n\u001b[0;32m---> 11\u001b[0;31m     \u001b[0mval\u001b[0m \u001b[0;34m=\u001b[0m \u001b[0msubprocess\u001b[0m\u001b[0;34m.\u001b[0m\u001b[0mcheck_output\u001b[0m\u001b[0;34m(\u001b[0m\u001b[0;34m\"echo '%s' | lp_solve\"\u001b[0m \u001b[0;34m%\u001b[0m \u001b[0mlp\u001b[0m\u001b[0;34m,\u001b[0m \u001b[0mshell\u001b[0m\u001b[0;34m=\u001b[0m\u001b[0mTrue\u001b[0m\u001b[0;34m)\u001b[0m\u001b[0;34m.\u001b[0m\u001b[0msplit\u001b[0m\u001b[0;34m(\u001b[0m\u001b[0;34m'\\n'\u001b[0m\u001b[0;34m)\u001b[0m\u001b[0;34m\u001b[0m\u001b[0m\n\u001b[0m\u001b[1;32m     12\u001b[0m     \u001b[0mteam_ids\u001b[0m \u001b[0;34m=\u001b[0m \u001b[0;34m[\u001b[0m\u001b[0mint\u001b[0m\u001b[0;34m(\u001b[0m\u001b[0mre\u001b[0m\u001b[0;34m.\u001b[0m\u001b[0msearch\u001b[0m\u001b[0;34m(\u001b[0m\u001b[0;34m\"^\\w+?(\\d+)\"\u001b[0m\u001b[0;34m,\u001b[0m \u001b[0ml\u001b[0m\u001b[0;34m)\u001b[0m\u001b[0;34m.\u001b[0m\u001b[0mgroup\u001b[0m\u001b[0;34m(\u001b[0m\u001b[0;36m1\u001b[0m\u001b[0;34m)\u001b[0m\u001b[0;34m)\u001b[0m \u001b[0;32mfor\u001b[0m \u001b[0ml\u001b[0m \u001b[0;32min\u001b[0m \u001b[0mval\u001b[0m \u001b[0;32mif\u001b[0m \u001b[0mre\u001b[0m\u001b[0;34m.\u001b[0m\u001b[0msearch\u001b[0m\u001b[0;34m(\u001b[0m\u001b[0;34mr\" 1$\"\u001b[0m\u001b[0;34m,\u001b[0m \u001b[0ml\u001b[0m\u001b[0;34m)\u001b[0m\u001b[0;34m]\u001b[0m\u001b[0;34m\u001b[0m\u001b[0m\n\u001b[1;32m     13\u001b[0m     \u001b[0;32mreturn\u001b[0m \u001b[0mmap\u001b[0m\u001b[0;34m(\u001b[0m\u001b[0;32mlambda\u001b[0m \u001b[0mx\u001b[0m\u001b[0;34m:\u001b[0m \u001b[0mget_id\u001b[0m\u001b[0;34m(\u001b[0m\u001b[0mint\u001b[0m\u001b[0;34m(\u001b[0m\u001b[0mx\u001b[0m\u001b[0;34m)\u001b[0m\u001b[0;34m)\u001b[0m\u001b[0;34m,\u001b[0m \u001b[0mteam_ids\u001b[0m\u001b[0;34m)\u001b[0m\u001b[0;34m\u001b[0m\u001b[0m\n",
        "\u001b[0;32m/usr/local/Cellar/python/2.7.6/Frameworks/Python.framework/Versions/2.7/lib/python2.7/subprocess.pyc\u001b[0m in \u001b[0;36mcheck_output\u001b[0;34m(*popenargs, **kwargs)\u001b[0m\n\u001b[1;32m    571\u001b[0m         \u001b[0;32mif\u001b[0m \u001b[0mcmd\u001b[0m \u001b[0;32mis\u001b[0m \u001b[0mNone\u001b[0m\u001b[0;34m:\u001b[0m\u001b[0;34m\u001b[0m\u001b[0m\n\u001b[1;32m    572\u001b[0m             \u001b[0mcmd\u001b[0m \u001b[0;34m=\u001b[0m \u001b[0mpopenargs\u001b[0m\u001b[0;34m[\u001b[0m\u001b[0;36m0\u001b[0m\u001b[0;34m]\u001b[0m\u001b[0;34m\u001b[0m\u001b[0m\n\u001b[0;32m--> 573\u001b[0;31m         \u001b[0;32mraise\u001b[0m \u001b[0mCalledProcessError\u001b[0m\u001b[0;34m(\u001b[0m\u001b[0mretcode\u001b[0m\u001b[0;34m,\u001b[0m \u001b[0mcmd\u001b[0m\u001b[0;34m,\u001b[0m \u001b[0moutput\u001b[0m\u001b[0;34m=\u001b[0m\u001b[0moutput\u001b[0m\u001b[0;34m)\u001b[0m\u001b[0;34m\u001b[0m\u001b[0m\n\u001b[0m\u001b[1;32m    574\u001b[0m     \u001b[0;32mreturn\u001b[0m \u001b[0moutput\u001b[0m\u001b[0;34m\u001b[0m\u001b[0m\n\u001b[1;32m    575\u001b[0m \u001b[0;34m\u001b[0m\u001b[0m\n",
        "\u001b[0;31mCalledProcessError\u001b[0m: Command 'echo 'max: <bound method Player.expected_points of #1 ARS Lukasz Fabianski \u00a342 gk> gk1 + <bound method Player.expected_points of #2 ARS Wojciech Szczesny \u00a360 gk> gk2 + <bound method Player.expected_points of #3 ARS Laurent Koscielny \u00a357 d> d3 + <bound method Player.expected_points of #4 ARS Thomas Vermaelen \u00a354 d> d4 + <bound method Player.expected_points of #5 ARS Bacary Sagna \u00a357 d> d5 + <bound method Player.expected_points of #6 ARS Kieran Gibbs \u00a354 d> d6 + <bound method Player.expected_points of #7 ARS Carl Jenkinson \u00a341 d> d7 + <bound method Player.expected_points of #8 ARS Per Mertesacker \u00a366 d> d8 + <bound method Player.expected_points of #9 ARS Clarindo Andre Santos \u00a350 d> d9 + <bound method Player.expected_points of #10 ARS Nacho Monreal \u00a351 d> d10 + <bound method Player.expected_points of #11 ARS Jack Wilshere \u00a363 m> m11 + <bound method Player.expected_points of #12 ARS Theo Walcott \u00a392 m> m12 + <bound method Player.expected_points of #13 ARS Aaron Ramsey \u00a371 m> m13 + <bound method Player.expected_points of #14 ARS Tomas Rosicky \u00a355 m> m14 + <bound method Player.expected_points of #15 ARS Mikel Arteta \u00a368 m> m15 + <bound method Player.expected_points of #16 ARS Alex Oxlade-Chamberlain \u00a367 m> m16 + <bound method Player.expected_points of #17 ARS Yao Gervinho \u00a365 m> m17 + <bound method Player.expected_points of #18 ARS Santiago Cazorla \u00a396 m> m18 + <bound method Player.expected_points of #19 ARS Vassiriki Diaby \u00a360 m> m19 + <bound method Player.expected_points of #20 ARS Emmanuel Frimpong \u00a342 m> m20 + <bound method Player.expected_points of #21 ARS Lukas Podolski \u00a378 f> f21 + <bound method Player.expected_points of #22 ARS Olivier Giroud \u00a389 f> f22 + <bound method Player.expected_points of #23 CRY Marouane Chamakh \u00a348 f> f23 + <bound method Player.expected_points of #24 ARS Yaya Sanogo \u00a348 f> f24 + <bound method Player.expected_points of #25 AVL Shay Given \u00a339 gk> gk25 + <bound method Player.expected_points of #26 AVL Bradley Guzan \u00a351 gk> gk26 + <bound method Player.expected_points of #27 AVL Nathan Baker \u00a339 d> d27 + <bound method Player.expected_points of #28 AVL Ciaran Clark \u00a345 d> d28 + <bound method Player.expected_points of #29 AVL Enda Stevens \u00a340 d> d29 + <bound method Player.expected_points of #30 AVL Matthew Lowton \u00a344 d> d30 + <bound method Player.expected_points of #31 AVL Ron Vlaar \u00a343 d> d31 + <bound method Player.expected_points of #32 AVL Joe Bennett \u00a342 d> d32 + <bound method Player.expected_points of #33 AVL Jores Okore \u00a341 d> d33 + <bound method Player.expected_points of #34 AVL Antonio Luna \u00a344 d> d34 + <bound method Player.expected_points of #35 CRY Barry Bannan \u00a344 m> m35 + <bound method Player.expected_points of #36 AVL Chris Herd \u00a343 m> m36 + <bound method Player.expected_points of #37 AVL Fabian Delph \u00a343 m> m37 + <bound method Player.expected_points of #38 AVL Marc Albrighton \u00a345 m> m38 + <bound method Player.expected_points of #39 STK Stephen Ireland \u00a345 m> m39 + <bound method Player.expected_points of #40 AVL Charles N'Zogbia \u00a360 m> m40 + <bound method Player.expected_points of #41 AVL Gary Gardner \u00a343 m> m41 + <bound method Player.expected_points of #42 AVL Brett Holman \u00a346 m> m42 + <bound method Player.expected_points of #43 AVL Karim El Ahmadi \u00a342 m> m43 + <bound method Player.expected_points of #44 AVL Ashley Westwood \u00a349 m> m44 + <bound method Player.expected_points of #45 AVL Yacouba Sylla \u00a342 m> m45 + <bound method Player.expected_points of #46 AVL Leandro Bacuna \u00a344 m> m46 + <bound method Player.expected_points of #47 AVL Aleksandar Tonev \u00a342 m> m47 + <bound method Player.expected_points of #48 FUL Darren Bent \u00a360 f> f48 + <bound method Player.expected_points of #49 AVL Nathan Delfouneso \u00a343 f> f49 + <bound method Player.expected_points of #50 AVL Gabriel Agbonlahor \u00a367 f> f50 + <bound method Player.expected_points of #51 AVL Andreas Weimann \u00a358 f> f51 + <bound method Player.expected_points of #52 AVL Jordan Bowery \u00a343 f> f52 + <bound method Player.expected_points of #53 AVL Christian Benteke \u00a387 f> f53 + <bound method Player.expected_points of #54 AVL Nicklas Helenius \u00a348 f> f54 + <bound method Player.expected_points of #55 CAR David Marshall \u00a347 gk> gk55 + <bound method Player.expected_points of #56 CAR Joe Lewis \u00a340 gk> gk56 + <bound method Player.expected_points of #57 CAR Kevin McNaughton \u00a338 d> d57 + <bound method Player.expected_points of #58 CAR Andrew Taylor \u00a345 d> d58 + <bound method Player.expected_points of #59 CAR Mark Hudson \u00a339 d> d59 + <bound method Player.expected_points of #60 CAR Ben Turner \u00a342 d> d60 + <bound method Player.expected_points of #61 CAR Matthew Connolly \u00a339 d> d61 + <bound method Player.expected_points of #62 CAR Ben Nugent \u00a340 d> d62 + <bound method Player.expected_points of #63 CAR Pete Whittingham \u00a353 m> m63 + <bound method Player.expected_points of #64 CAR Don Cowie \u00a342 m> m64 + <bound method Player.expected_points of #65 CAR Craig Conway \u00a342 m> m65 + <bound method Player.expected_points of #66 CAR Bo-Kyung Kim \u00a342 m> m66 + <bound method Player.expected_points of #67 CAR Craig Noone \u00a343 m> m67 + <bound method Player.expected_points of #68 CAR Aron Gunnarsson \u00a347 m> m68 + <bound method Player.expected_points of #69 CAR Jordan Mutch \u00a346 m> m69 + <bound method Player.expected_points of #70 CAR Craig Bellamy \u00a346 m> m70 + <bound method Player.expected_points of #71 CAR Tommy Smith \u00a342 f> f71 + <bound method Player.expected_points of #72 CAR Rudy Gestede \u00a343 f> f72 + <bound method Player.expected_points of #73 CAR Joe Mason \u00a342 f> f73 + <bound method Player.expected_points of #74 CAR Nicky Maynard \u00a344 f> f74 + <bound method Player.expected_points of #75 CAR Fraizer Campbell \u00a352 f> f75 + <bound method Player.expected_points of #76 CAR Andreas Cornelius \u00a353 f> f76 + <bound method Player.expected_points of #77 CHE Petr Cech \u00a361 gk> gk77 + <bound method Player.expected_points of #78 CHE Mark Schwarzer \u00a346 gk> gk78 + <bound method Player.expected_points of #79 CHE Gary Cahill \u00a358 d> d79 + <bound method Player.expected_points of #80 CHE David Luiz Moreira Marinho \u00a360 d> d80 + <bound method Player.expected_points of #81 AVL Ryan Bertrand \u00a344 d> d81 + <bound method Player.expected_points of #82 CHE John Terry \u00a367 d> d82 + <bound method Player.expected_points of #83 CHE Branislav Ivanovic \u00a360 d> d83 + <bound method Player.expected_points of #84 CHE Ashley Cole \u00a360 d> d84 + <bound method Player.expected_points of #85 CHE Cesar Azpilicueta \u00a353 d> d85 + <bound method Player.expected_points of #86 CHE Nathan Ak \u00a342 d> d86 + <bound method Player.expected_points of #87 CHE Josh McEachran \u00a346 m> m87 + <bound method Player.expected_points of #88 CHE Nascimento Ramires \u00a364 m> m88 + <bound method Player.expected_points of #89 CHE Frank Lampard \u00a374 m> m89 + <bound method Player.expected_points of #90 CHE Michael Essien \u00a348 m> m90 + <bound method Player.expected_points of #91 CHE  Mikel \u00a343 m> m91 + <bound method Player.expected_points of #92 MUN Juan Mata \u00a397 m> m92 + <bound method Player.expected_points of #93 CHE Lucas Piazon \u00a342 m> m93 + <bound method Player.expected_points of #94 CHE Eden Hazard \u00a3106 m> m94 + <bound method Player.expected_points of #95 LIV Victor Moses \u00a352 m> m95 + <bound method Player.expected_points of #96 CHE Emboaba Oscar \u00a389 m> m96 + <bound method Player.expected_points of #97 CHE Andre Schrrle \u00a370 m> m97 + <bound method Player.expected_points of #98 CHE Marco van Ginkel \u00a353 m> m98 + <bound method Player.expected_points of #99 CHE Fernando Torres \u00a382 f> f99 + <bound method Player.expected_points of #100 CHE Demba Ba \u00a375 f> f100 + <bound method Player.expected_points of #101 EVE Romelu Lukaku \u00a384 f> f101 + <bound method Player.expected_points of #102 CRY Julian Speroni \u00a345 gk> gk102 + <bound method Player.expected_points of #103 CRY Lewis Price \u00a339 gk> gk103 + <bound method Player.expected_points of #104 CRY Joel Ward \u00a342 d> d104 + <bound method Player.expected_points of #105 CRY Darcy Blake \u00a338 d> d105 + <bound method Player.expected_points of #106 CRY Dean Moxey \u00a340 d> d106 + <bound method Player.expected_points of #107 CRY Damien Delaney \u00a344 d> d107 + <bound method Player.expected_points of #108 CRY Peter Ramage \u00a338 d> d108 + <bound method Player.expected_points of #109 CRY Danny Gabbidon \u00a344 d> d109 + <bound method Player.expected_points of #110 CRY Jonathan Parr \u00a339 d> d110 + <bound method Player.expected_points of #111 CRY Yannick Bolasie \u00a349 m> m111 + <bound method Player.expected_points of #112 CRY Kagisho Dikgacoi \u00a342 m> m112 + <bound method Player.expected_points of #113 CRY Owen Garvan \u00a347 m> m113 + <bound method Player.expected_points of #114 CRY Mile Jedinak \u00a343 m> m114 + <bound method Player.expected_points of #115 CRY Jonathan Williams \u00a343 m> m115 + <bound method Player.expected_points of #116 CRY Andre Moritz \u00a345 m> m116 + <bound method Player.expected_points of #117 CRY Jerome Thomas \u00a341 m> m117 + <bound method Player.expected_points of #118 CRY Glenn Murray \u00a352 f> f118 + <bound method Player.expected_points of #119 CRY Aaron Wilbraham \u00a343 f> f119 + <bound method Player.expected_points of #120 CRY Dwight Gayle \u00a349 f> f120 + <bound method Player.expected_points of #121 EVE Tim Howard \u00a359 gk> gk121 + <bound method Player.expected_points of #122 EVE Mason Springthorpe \u00a339 gk> gk122 + <bound method Player.expected_points of #123 EVE Joel Robles \u00a342 gk> gk123 + <bound method Player.expected_points of #124 FUL Johnny Heitinga \u00a346 d> d124 + <bound method Player.expected_points of #125 EVE Phil Jagielka \u00a359 d> d125 + <bound method Player.expected_points of #126 EVE Tony Hibbert \u00a344 d> d126 + <bound method Player.expected_points of #127 EVE Leighton Baines \u00a374 d> d127 + <bound method Player.expected_points of #128 EVE Sylvain Distin \u00a352 d> d128 + <bound method Player.expected_points of #129 EVE Shane Duffy \u00a338 d> d129 + <bound method Player.expected_points of #130 EVE Seamus Coleman \u00a366 d> d130 + <bound method Player.expected_points of #131 EVE Antolin Alcaraz \u00a343 d> d131 + <bound method Player.expected_points of #132 EVE Leon Osman \u00a362 m> m132 + <bound method Player.expected_points of #133 MUN Marouane Fellaini \u00a377 m> m133 + <bound method Player.expected_points of #134 EVE Darron Gibson \u00a347 m> m134 + <bound method Player.expected_points of #135 EVE Ross Barkley \u00a351 m> m135 + <bound method Player.expected_points of #136 EVE Steven Pienaar \u00a365 m> m136 + <bound method Player.expected_points of #137 EVE Bryan Oviedo \u00a341 m> m137 + <bound method Player.expected_points of #138 EVE Kevin Mirallas \u00a373 m> m138 + <bound method Player.expected_points of #139 EVE Apostolos Vellios \u00a343 f> f139 + <bound method Player.expected_points of #140 EVE Magaye Gueye \u00a343 f> f140 + <bound method Player.expected_points of #141 WBA Victor Anichebe \u00a351 f> f141 + <bound method Player.expected_points of #142 HUL Nikica Jelavic \u00a369 f> f142 + <bound method Player.expected_points of #143 EVE Steven Naismith \u00a346 f> f143 + <bound method Player.expected_points of #144 EVE Arouna Kon \u00a362 f> f144 + <bound method Player.expected_points of #145 EVE Gerard Deulofeu \u00a354 f> f145 + <bound method Player.expected_points of #146 FUL David Stockdale \u00a343 gk> gk146 + <bound method Player.expected_points of #147 FUL Neil Etheridge \u00a340 gk> gk147 + <bound method Player.expected_points of #148 FUL Maarten Stekelenburg \u00a348 gk> gk148 + <bound method Player.expected_points of #149 FUL Matthew Briggs \u00a338 d> d149 + <bound method Player.expected_points of #150 FUL Philippe Senderos \u00a343 d> d150 + <bound method Player.expected_points of #151 FUL Aaron Hughes \u00a342 d> d151 + <bound method Player.expected_points of #152 FUL Brede Hangeland \u00a348 d> d152 + <bound method Player.expected_points of #153 FUL John Arne Riise \u00a345 d> d153 + <bound method Player.expected_points of #154 FUL Sascha Riether \u00a350 d> d154 + <bound method Player.expected_points of #155 FUL Stanislav Manolev \u00a340 d> d155 + <bound method Player.expected_points of #156 FUL Fernando Amorebieta \u00a341 d> d156 + <bound method Player.expected_points of #157 FUL Steve Sidwell \u00a352 m> m157 + <bound method Player.expected_points of #158 FUL Damien Duff \u00a356 m> m158 + <bound method Player.expected_points of #159 FUL Pajtim Kasami \u00a343 m> m159 + <bound method Player.expected_points of #160 FUL Kerim Frei \u00a344 m> m160 + <bound method Player.expected_points of #161 FUL Alex Kacaniklic \u00a346 m> m161 + <bound method Player.expected_points of #162 FUL Kieran Richardson \u00a348 m> m162 + <bound method Player.expected_points of #163 FUL Ashkan Dejagah \u00a351 m> m163 + <bound method Player.expected_points of #164 FUL Eyong Enoh \u00a345 m> m164 + <bound method Player.expected_points of #165 FUL Derek Boateng \u00a342 m> m165 + <bound method Player.expected_points of #166 FUL Bryan Ruiz \u00a354 f> f166 + <bound method Player.expected_points of #167 FUL Hugo Rodallega \u00a350 f> f167 + <bound method Player.expected_points of #168 FUL Dimitar Berbatov \u00a370 f> f168 + <bound method Player.expected_points of #169 HUL Eldin Jakupovic \u00a339 gk> gk169 + <bound method Player.expected_points of #170 HUL Allan McGregor \u00a345 gk> gk170 + <bound method Player.expected_points of #171 HUL Liam Rosenior \u00a340 d> d171 + <bound method Player.expected_points of #172 HUL James Chester \u00a339 d> d172 + <bound method Player.expected_points of #173 HUL Jack Hobbs \u00a338 d> d173 + <bound method Player.expected_points of #174 HUL Paul McShane \u00a339 d> d174 + <bound method Player.expected_points of #175 HUL Joe Dudgeon \u00a339 d> d175 + <bound method Player.expected_points of #176 HUL Abdoulaye Faye \u00a338 d> d176 + <bound method Player.expected_points of #177 HUL Alex Bruce \u00a339 d> d177 + <bound method Player.expected_points of #178 HUL Maynor Figueroa \u00a344 d> d178 + <bound method Player.expected_points of #179 HUL Curtis Davies \u00a346 d> d179 + <bound method Player.expected_points of #180 HUL Corry Evans \u00a345 m> m180 + <bound method Player.expected_points of #181 HUL Robert Koren \u00a345 m> m181 + <bound method Player.expected_points of #182 HUL Stephen Quinn \u00a342 m> m182 + <bound method Player.expected_points of #183 HUL Robbie Brady \u00a347 m> m183 + <bound method Player.expected_points of #184 HUL David Meyler \u00a343 m> m184 + <bound method Player.expected_points of #185 HUL Ahmed Elmohamady \u00a349 m> m185 + <bound method Player.expected_points of #186 HUL George Boyd \u00a349 m> m186 + <bound method Player.expected_points of #187 HUL Sone Aluko \u00a345 f> f187 + <bound method Player.expected_points of #188 HUL Nick Proschwitz \u00a343 f> f188 + <bound method Player.expected_points of #189 HUL Matty Fryatt \u00a343 f> f189 + <bound method Player.expected_points of #190 LIV Jose Reina \u00a354 gk> gk190 + <bound method Player.expected_points of #191 LIV Brad Jones \u00a343 gk> gk191 + <bound method Player.expected_points of #192 LIV Simon Mignolet \u00a355 gk> gk192 + <bound method Player.expected_points of #193 LIV Martin Kelly \u00a341 d> d193 + <bound method Player.expected_points of #194 LIV Glen Johnson \u00a358 d> d194 + <bound method Player.expected_points of #195 LIV Martin Skrtel \u00a355 d> d195 + <bound method Player.expected_points of #196 LIV Daniel Agger \u00a357 d> d196 + <bound method Player.expected_points of #197 LIV Jos Enrique Sanchez Diaz \u00a356 d> d197 + <bound method Player.expected_points of #198 LIV Sebastian Coates \u00a343 d> d198 + <bound method Player.expected_points of #199 LIV Andre Wisdom \u00a339 d> d199 + <bound method Player.expected_points of #200 LIV Conor Coady \u00a340 d> d200 + <bound method Player.expected_points of #201 LIV Kolo Tour \u00a345 d> d201 + <bound method Player.expected_points of #202 WHU Stewart Downing \u00a358 m> m202 + <bound method Player.expected_points of #203 LIV Steven Gerrard \u00a389 m> m203 + <bound method Player.expected_points of #204 LIV Leiva Lucas \u00a342 m> m204 + <bound method Player.expected_points of #205 LIV Jordan Henderson \u00a365 m> m205 + <bound method Player.expected_points of #206 LIV Raheem Sterling \u00a353 m> m206 + <bound method Player.expected_points of #207 LIV Joe Allen \u00a345 m> m207 + <bound method Player.expected_points of #208 STK Oussama Assaidi \u00a347 m> m208 + <bound method Player.expected_points of #209 LIV Phillippe Coutinho \u00a385 m> m209 + <bound method Player.expected_points of #210 LIV Jordon Ibe \u00a341 m> m210 + <bound method Player.expected_points of #211 LIV Jesus Fernandez Saez \u00a350 m> m211 + <bound method Player.expected_points of #212 LIV Luis Alberto Romero Alconchel \u00a350 m> m212 + <bound method Player.expected_points of #213 LIV Daniel Sturridge \u00a396 f> f213 + <bound method Player.expected_points of #214 LIV Luis Surez \u00a3134 f> f214 + <bound method Player.expected_points of #215 SUN Fabio Borini \u00a362 f> f215 + <bound method Player.expected_points of #216 LIV Iago Aspas \u00a362 f> f216 + <bound method Player.expected_points of #217 MCI Joe Hart \u00a360 gk> gk217 + <bound method Player.expected_points of #218 MCI Costel Pantilimon \u00a342 gk> gk218 + <bound method Player.expected_points of #219 MCI Richard Wright \u00a344 gk> gk219 + <bound method Player.expected_points of #220 MCI Aleksandar Kolarov \u00a355 d> d220 + <bound method Player.expected_points of #221 MCI Micah Richards \u00a352 d> d221 + <bound method Player.expected_points of #222 MCI Pablo Zabaleta \u00a360 d> d222 + <bound method Player.expected_points of #223 MCI Joleon Lescott \u00a348 d> d223 + <bound method Player.expected_points of #224 MCI Vincent Kompany \u00a363 d> d224 + <bound method Player.expected_points of #225 MCI Gael Clichy \u00a359 d> d225 + <bound method Player.expected_points of #226 MCI Karim Rekik \u00a340 d> d226 + <bound method Player.expected_points of #227 MCI Sisenando Maicon \u00a350 d> d227 + <bound method Player.expected_points of #228 MCI Matija Nastasic \u00a349 d> d228 + <bound method Player.expected_points of #229 MCI Jack Rodwell \u00a350 m> m229 + <bound method Player.expected_points of #230 MCI Samir Nasri \u00a381 m> m230 + <bound method Player.expected_points of #231 MCI David Silva \u00a393 m> m231 + <bound method Player.expected_points of #232 MCI Gnegneri Yaya Tour \u00a3101 m> m232 + <bound method Player.expected_points of #233 EVE Gareth Barry \u00a353 m> m233 + <bound method Player.expected_points of #234 MCI James Milner \u00a354 m> m234 + <bound method Player.expected_points of #235 WHU Abdul Razak \u00a343 m> m235 + <bound method Player.expected_points of #236 WBA Scott Sinclair \u00a357 m> m236 + <bound method Player.expected_points of #237 MCI Francisco Javier Garca Fernndez \u00a347 m> m237 + <bound method Player.expected_points of #238 MCI Jess Navas \u00a383 m> m238 + <bound method Player.expected_points of #239 MCI Fernando Luiz Rosa \u00a374 m> m239 + <bound method Player.expected_points of #240 MCI Edin Dzeko \u00a369 f> f240 + <bound method Player.expected_points of #241 MCI Sergio Agero \u00a3123 f> f241 + <bound method Player.expected_points of #242 MUN David De Gea \u00a358 gk> gk242 + <bound method Player.expected_points of #243 MUN Anders Lindegaard \u00a347 gk> gk243 + <bound method Player.expected_points of #244 MUN Chris Smalling \u00a351 d> d244 + <bound method Player.expected_points of #245 MUN Phil Jones \u00a358 d> d245 + <bound method Player.expected_points of #246 MUN Rafael Da Silva \u00a359 d> d246 + <bound method Player.expected_points of #247 MUN Nemanja Vidic \u00a358 d> d247 + <bound method Player.expected_points of #248 MUN Rio Ferdinand \u00a349 d> d248 + <bound method Player.expected_points of #249 MUN Patrice Evra \u00a364 d> d249 + <bound method Player.expected_points of #250 MUN Jonny Evans \u00a350 d> d250 + <bound method Player.expected_points of #251 MUN Alexander Bttner \u00a345 d> d251 + <bound method Player.expected_points of #252 MUN Guillermo Varela \u00a340 d> d252 + <bound method Player.expected_points of #253 MUN Antonio Valencia \u00a371 m> m253 + <bound method Player.expected_points of #254 MUN Luis Nani \u00a369 m> m254 + <bound method Player.expected_points of #255 MUN Oliveira Anderson \u00a344 m> m255 + <bound method Player.expected_points of #256 MUN Ryan Giggs \u00a350 m> m256 + <bound method Player.expected_points of #257 MUN Michael Carrick \u00a355 m> m257 + <bound method Player.expected_points of #258 MUN Darren Fletcher \u00a349 m> m258 + <bound method Player.expected_points of #259 MUN Tom Cleverley \u00a356 m> m259 + <bound method Player.expected_points of #260 MUN Ashley Young \u00a371 m> m260 + <bound method Player.expected_points of #261 MUN Nick Powell \u00a350 m> m261 + <bound method Player.expected_points of #262 MUN Shinji Kagawa \u00a371 m> m262 + <bound method Player.expected_points of #263 CAR Wilfried Zaha \u00a354 m> m263 + <bound method Player.expected_points of #264 MUN Robin van Persie \u00a3136 f> f264 + <bound method Player.expected_points of #265 MUN Javier Hernndez \u00a371 f> f265 + <bound method Player.expected_points of #266 MUN Wayne Rooney \u00a3113 f> f266 + <bound method Player.expected_points of #267 MUN Danny Welbeck \u00a371 f> f267 + <bound method Player.expected_points of #268 NEW Tim Krul \u00a353 gk> gk268 + <bound method Player.expected_points of #269 NEW Rob Elliot \u00a343 gk> gk269 + <bound method Player.expected_points of #270 NEW Jak Alnwick \u00a340 gk> gk270 + <bound method Player.expected_points of #271 NEW Mike Williamson \u00a345 d> d271 + <bound method Player.expected_points of #272 NEW Steven Taylor \u00a342 d> d272 + <bound method Player.expected_points of #273 NEW Fabricio Coloccini \u00a349 d> d273 + <bound method Player.expected_points of #274 NEW Ryan Taylor \u00a350 d> d274 + <bound method Player.expected_points of #275 NEW Davide Santon \u00a350 d> d275 + <bound method Player.expected_points of #276 NEW James Tavernier \u00a339 d> d276 + <bound method Player.expected_points of #277 NEW Mathieu Debuchy \u00a350 d> d277 + <bound method Player.expected_points of #278 NEW Mapou Yanga-Mbiwa \u00a344 d> d278 + <bound method Player.expected_points of #279 NEW Massadio Haidara \u00a342 d> d279 + <bound method Player.expected_points of #280 NEW Gabriel Obertan \u00a342 m> m280 + <bound method Player.expected_points of #281 NEW Cheick Tiote \u00a343 m> m281 + <bound method Player.expected_points of #282 NEW Hatem Ben Arfa \u00a365 m> m282 + <bound method Player.expected_points of #283 NEW Shane Ferguson \u00a345 m> m283 + <bound method Player.expected_points of #284 NEW Dan Gosling \u00a343 m> m284 + <bound method Player.expected_points of #285 NEW Mehdi Abeid \u00a345 m> m285 + <bound method Player.expected_points of #286 NOR Jons Gutirrez \u00a352 m> m286 + <bound method Player.expected_points of #287 NEW Yohan Cabaye \u00a372 m> m287 + <bound method Player.expected_points of #288 NEW Sylvain Marveaux \u00a343 m> m288 + <bound method Player.expected_points of #289 NEW Gael Bigirimana \u00a343 m> m289 + <bound method Player.expected_points of #290 NEW Vurnon Anita \u00a343 m> m290 + <bound method Player.expected_points of #291 NEW Moussa Sissoko \u00a356 m> m291 + <bound method Player.expected_points of #292 NEW Shola Ameobi \u00a348 f> f292 + <bound method Player.expected_points of #293 NEW Sammy Ameobi \u00a343 f> f293 + <bound method Player.expected_points of #294 NEW Papiss Demba Ciss \u00a380 f> f294 + <bound method Player.expected_points of #295 NEW Adam Campbell \u00a344 f> f295 + <bound method Player.expected_points of #296 NEW Yoan Gouffran \u00a364 f> f296 + <bound method Player.expected_points of #297 NOR John Ruddy \u00a349 gk> gk297 + <bound method Player.expected_points of #298 NOR Declan Rudd \u00a340 gk> gk298 + <bound method Player.expected_points of #299 NOR Mark Bunn \u00a343 gk> gk299 + <bound method Player.expected_points of #300 NOR Russell Martin \u00a347 d> d300 + <bound method Player.expected_points of #301 NOR Leon Barnett \u00a340 d> d301 + <bound method Player.expected_points of #302 NOR Daniel Ayala \u00a338 d> d302 + <bound method Player.expected_points of #303 NOR Ryan Bennett \u00a340 d> d303 + <bound method Player.expected_points of #304 NOR Steven Whittaker \u00a339 d> d304 + <bound method Player.expected_points of #305 NOR Michael Turner \u00a342 d> d305 + <bound method Player.expected_points of #306 NOR Javier Garrido \u00a340 d> d306 + <bound method Player.expected_points of #307 NOR Sebastien Bassong \u00a347 d> d307 + <bound method Player.expected_points of #308 NOR Martin Olsson \u00a342 d> d308 + <bound method Player.expected_points of #309 NOR Andrew Surman \u00a345 m> m309 + <bound method Player.expected_points of #310 NOR Wes Hoolahan \u00a348 m> m310 + <bound method Player.expected_points of #311 NOR David Fox \u00a343 m> m311 + <bound method Player.expected_points of #312 NOR Bradley Johnson \u00a344 m> m312 + <bound method Player.expected_points of #313 NOR Anthony Pilkington \u00a352 m> m313 + <bound method Player.expected_points of #314 NOR Elliott Bennett \u00a343 m> m314 + <bound method Player.expected_points of #315 NOR Jonathan Howson \u00a349 m> m315 + <bound method Player.expected_points of #316 NOR Robert Snodgrass \u00a359 m> m316 + <bound method Player.expected_points of #317 NOR Alexander Tettey \u00a342 m> m317 + <bound method Player.expected_points of #318 NOR Nathan Redmond \u00a346 m> m318 + <bound method Player.expected_points of #319 NOR Luciano Becchio \u00a344 f> f319 + <bound method Player.expected_points of #320 NOR Ricky van Wolfswinkel \u00a364 f> f320 + <bound method Player.expected_points of #321 SOU Kelvin Davis \u00a339 gk> gk321 + <bound method Player.expected_points of #322 SOU Paulo Gazzaniga \u00a340 gk> gk322 + <bound method Player.expected_points of #323 SOU Artur Boruc \u00a347 gk> gk323 + <bound method Player.expected_points of #324 SOU Daniel Fox \u00a343 d> d324 + <bound method Player.expected_points of #325 SOU Jos Hooiveld \u00a341 d> d325 + <bound method Player.expected_points of #326 SOU Jose Fonte \u00a352 d> d326 + <bound method Player.expected_points of #327 SOU Nathaniel Clyne \u00a344 d> d327 + <bound method Player.expected_points of #328 SOU Luke Shaw \u00a349 d> d328 + <bound method Player.expected_points of #329 SOU Maya Yoshida \u00a340 d> d329 + <bound method Player.expected_points of #330 SOU Dejan Lovren \u00a356 d> d330 + <bound method Player.expected_points of #331 SOU Jack Cork \u00a342 m> m331 + <bound method Player.expected_points of #332 SOU Guly Do Prado \u00a342 m> m332 + <bound method Player.expected_points of #333 SOU Adam Lallana \u00a377 m> m333 + <bound method Player.expected_points of #334 SOU Morgan Schneiderlin \u00a351 m> m334 + <bound method Player.expected_points of #335 CRY Jason Puncheon \u00a350 m> m335 + <bound method Player.expected_points of #336 SOU Steve De Ridder \u00a345 m> m336 + <bound method Player.expected_points of #337 SOU Steven Davis \u00a347 m> m337 + <bound method Player.expected_points of #338 SOU James Ward-Prowse \u00a341 m> m338 + <bound method Player.expected_points of #339 SOU Gastn Ramrez \u00a354 m> m339 + <bound method Player.expected_points of #340 SOU Victor Wanyama \u00a344 m> m340 + <bound method Player.expected_points of #341 SOU Billy Sharp \u00a343 f> f341 + <bound method Player.expected_points of #342 SOU Rickie Lambert \u00a370 f> f342 + <bound method Player.expected_points of #343 SOU Jay Rodriguez \u00a364 f> f343 + <bound method Player.expected_points of #344 SOU Emmanuel Mayuka \u00a349 f> f344 + <bound method Player.expected_points of #345 STK Asmir Begovic \u00a353 gk> gk345 + <bound method Player.expected_points of #346 STK Thomas Srensen \u00a344 gk> gk346 + <bound method Player.expected_points of #347 STK Andy Wilkinson \u00a342 d> d347 + <bound method Player.expected_points of #348 STK Ryan Shawcross \u00a354 d> d348 + <bound method Player.expected_points of #349 STK Robert Huth \u00a352 d> d349 + <bound method Player.expected_points of #350 STK Marc Wilson \u00a343 d> d350 + <bound method Player.expected_points of #351 STK Geoff Cameron \u00a350 d> d351 + <bound method Player.expected_points of #352 STK Erik Pieters \u00a348 d> d352 + <bound method Player.expected_points of #353 STK Marc Muniesa \u00a347 d> d353 + <bound method Player.expected_points of #354 STK Charlie Adam \u00a356 m> m354 + <bound method Player.expected_points of #355 STK Matthew Etherington \u00a351 m> m355 + <bound method Player.expected_points of #356 STK Glenn Whelan \u00a353 m> m356 + <bound method Player.expected_points of #357 STK Wilson Palacios \u00a343 m> m357 + <bound method Player.expected_points of #358 STK Ryan Shotton \u00a348 m> m358 + <bound method Player.expected_points of #359 STK Jonathan Walters \u00a361 m> m359 + <bound method Player.expected_points of #360 STK Michael Kightly \u00a352 m> m360 + <bound method Player.expected_points of #361 STK Maurice Edu \u00a343 m> m361 + <bound method Player.expected_points of #362 STK Steven N'Zonzi \u00a346 m> m362 + <bound method Player.expected_points of #363 STK Brek Shea \u00a348 m> m363 + <bound method Player.expected_points of #364 CAR Kenwyne Jones \u00a346 f> f364 + <bound method Player.expected_points of #365 STK Peter Crouch \u00a355 f> f365 + <bound method Player.expected_points of #366 CRY Cameron Jerome \u00a347 f> f366 + <bound method Player.expected_points of #367 SUN Keiren Westwood \u00a343 gk> gk367 + <bound method Player.expected_points of #368 SUN Vito Mannone \u00a345 gk> gk368 + <bound method Player.expected_points of #369 SUN Phil Bardsley \u00a345 d> d369 + <bound method Player.expected_points of #370 SUN John O'Shea \u00a348 d> d370 + <bound method Player.expected_points of #371 SUN Wes Brown \u00a343 d> d371 + <bound method Player.expected_points of #372 SUN Carlos Cullar \u00a339 d> d372 + <bound method Player.expected_points of #373 SUN Kader Mangane \u00a340 d> d373 + <bound method Player.expected_points of #374 SUN Modibo Diakit \u00a341 d> d374 + <bound method Player.expected_points of #375 SUN Valentin Roberge \u00a341 d> d375 + <bound method Player.expected_points of #376 SUN Adam Johnson \u00a368 m> m376 + <bound method Player.expected_points of #377 SUN Lee Cattermole \u00a345 m> m377 + <bound method Player.expected_points of #378 SUN Jack Colback \u00a342 m> m378 + <bound method Player.expected_points of #379 SUN Sebastian Larsson \u00a354 m> m379 + <bound method Player.expected_points of #380 SUN Craig Gardner \u00a353 m> m380 + <bound method Player.expected_points of #381 SUN David Vaughan \u00a347 m> m381 + <bound method Player.expected_points of #382 SUN James McClean \u00a355 m> m382 + <bound method Player.expected_points of #383 WBA Stephane Sessegnon \u00a364 m> m383 + <bound method Player.expected_points of #384 SUN Alfred N'Diaye \u00a345 m> m384 + <bound method Player.expected_points of #385 SUN Billy Knott \u00a343 m> m385 + <bound method Player.expected_points of #386 SUN Tavares Varela Adilson Cabral \u00a341 m> m386 + <bound method Player.expected_points of #387 SUN Connor Wickham \u00a346 f> f387 + <bound method Player.expected_points of #388 HUL Danny Graham \u00a350 f> f388 + <bound method Player.expected_points of #389 SUN Steven Fletcher \u00a372 f> f389 + <bound method Player.expected_points of #390 SUN Mikael Mandron \u00a343 f> f390 + <bound method Player.expected_points of #391 SUN Adam Mitchell \u00a343 f> f391 + <bound method Player.expected_points of #392 SUN David Moberg-Karlsson \u00a345 f> f392 + <bound method Player.expected_points of #393 SUN Jozy Altidore \u00a362 f> f393 + <bound method Player.expected_points of #394 SWA Michel Vorm \u00a349 gk> gk394 + <bound method Player.expected_points of #395 SWA Gerhard Tremmel \u00a344 gk> gk395 + <bound method Player.expected_points of #396 SWA David Cornell \u00a340 gk> gk396 + <bound method Player.expected_points of #397 SWA Ashley Williams \u00a348 d> d397 + <bound method Player.expected_points of #398 SWA Neil Taylor \u00a344 d> d398 + <bound method Player.expected_points of #399 SWA Alan Tate \u00a340 d> d399 + <bound method Player.expected_points of #400 SWA Garry Monk \u00a342 d> d400 + <bound method Player.expected_points of #401 SWA Angel Rangel \u00a353 d> d401 + <bound method Player.expected_points of #402 SWA  Chico \u00a349 d> d402 + <bound method Player.expected_points of #403 SWA Kyle Bartley \u00a340 d> d403 + <bound method Player.expected_points of #404 SWA Ben Davies \u00a349 d> d404 + <bound method Player.expected_points of #405 SWA Dwight Tiendalli \u00a342 d> d405 + <bound method Player.expected_points of #406 SWA Jordi Amat \u00a345 d> d406 + <bound method Player.expected_points of #407 SWA Wayne Routledge \u00a349 m> m407 + <bound method Player.expected_points of #408 SWA Nathan Dyer \u00a351 m> m408 + <bound method Player.expected_points of #409 SWA Kemy Agustien \u00a345 m> m409 + <bound method Player.expected_points of #410 SWA Leon Britton \u00a343 m> m410 + <bound method Player.expected_points of #411 SWA Jonathan De Guzmn \u00a357 m> m411 + <bound method Player.expected_points of #412 SUN Sung-Yueng Ki \u00a349 m> m412 + <bound method Player.expected_points of #413 SWA Pablo Hernndez \u00a356 m> m413 + <bound method Player.expected_points of #414 SWA Roland Lamah \u00a343 m> m414 + <bound method Player.expected_points of #415 SWA Alejandro Pozuelo Melero \u00a342 m> m415 + <bound method Player.expected_points of #416 SWA Jonjo Shelvey \u00a354 m> m416 + <bound method Player.expected_points of #417 SWA Miguel Michu \u00a385 m> m417 + <bound method Player.expected_points of #418 SWA Luke Moore \u00a345 f> f418 + <bound method Player.expected_points of #419 SWA Itay Shechter \u00a350 f> f419 + <bound method Player.expected_points of #420 SWA Wilfried Bony \u00a374 f> f420 + <bound method Player.expected_points of #421 TOT Heurelho Gomes \u00a343 gk> gk421 + <bound method Player.expected_points of #422 TOT Brad Friedel \u00a343 gk> gk422 + <bound method Player.expected_points of #423 TOT Hugo Lloris \u00a358 gk> gk423 + <bound method Player.expected_points of #424 TOT Michael Dawson \u00a352 d> d424 + <bound method Player.expected_points of #425 TOT Benoit Assou-Ekotto \u00a351 d> d425 + <bound method Player.expected_points of #426 TOT Younes Kaboul \u00a346 d> d426 + <bound method Player.expected_points of #427 TOT Kyle Walker \u00a361 d> d427 + <bound method Player.expected_points of #428 TOT Kyle Naughton \u00a341 d> d428 + <bound method Player.expected_points of #429 CAR Steven Caulker \u00a352 d> d429 + <bound method Player.expected_points of #430 TOT Jan Vertonghen \u00a369 d> d430 + <bound method Player.expected_points of #431 FUL Clint Dempsey \u00a374 m> m431 + <bound method Player.expected_points of #432 TOT Mousa Dembl \u00a351 m> m432 + <bound method Player.expected_points of #433 TOT Raniere Sandro \u00a350 m> m433 + <bound method Player.expected_points of #434 TOT Aaron Lennon \u00a373 m> m434 + <bound method Player.expected_points of #435 TOT Gareth Bale \u00a3118 m> m435 + <bound method Player.expected_points of #436 HUL Tom Huddlestone \u00a350 m> m436 + <bound method Player.expected_points of #437 HUL Jake Livermore \u00a346 m> m437 + <bound method Player.expected_points of #438 FUL Scott Parker \u00a344 m> m438 + <bound method Player.expected_points of #439 TOT Yago Falque \u00a343 m> m439 + <bound method Player.expected_points of #440 TOT Tom Carroll \u00a344 m> m440 + <bound method Player.expected_points of #441 TOT Danny Rose \u00a347 m> m441 + <bound method Player.expected_points of #442 TOT Gylfi Sigurdsson \u00a363 m> m442 + <bound method Player.expected_points of #443 FUL Lewis Holtby \u00a362 m> m443 + <bound method Player.expected_points of #444 TOT Simon Dawkins \u00a344 m> m444 + <bound method Player.expected_points of #445 TOT Jos Paulo Bezerra Maciel Jnior \u00a366 m> m445 + <bound method Player.expected_points of #446 TOT Andros Townsend \u00a351 m> m446 + <bound method Player.expected_points of #447 TOT Emmanuel Adebayor \u00a379 f> f447 + <bound method Player.expected_points of #448 TOT Jermain Defoe \u00a379 f> f448 + <bound method Player.expected_points of #449 TOT Harry Kane \u00a344 f> f449 + <bound method Player.expected_points of #450 WBA Boaz Myhill \u00a344 gk> gk450 + <bound method Player.expected_points of #451 WBA Ben Foster \u00a347 gk> gk451 + <bound method Player.expected_points of #452 WBA Luke Daniels \u00a340 gk> gk452 + <bound method Player.expected_points of #453 WBA Gabriel Tamas \u00a344 d> d453 + <bound method Player.expected_points of #454 WBA Jonas Olsson \u00a349 d> d454 + <bound method Player.expected_points of #455 WBA Billy Jones \u00a350 d> d455 + <bound method Player.expected_points of #456 WBA Gareth McAuley \u00a353 d> d456 + <bound method Player.expected_points of #457 WBA Craig Dawson \u00a339 d> d457 + <bound method Player.expected_points of #458 WBA Liam Ridgewell \u00a350 d> d458 + <bound method Player.expected_points of #459 WBA Goran Popov \u00a342 d> d459 + <bound method Player.expected_points of #460 WBA George Thorne \u00a345 m> m460 + <bound method Player.expected_points of #461 WBA Graham Dorrans \u00a344 m> m461 + <bound method Player.expected_points of #462 WBA Steven Reid \u00a343 m> m462 + <bound method Player.expected_points of #463 WBA James Morrison \u00a354 m> m463 + <bound method Player.expected_points of #464 WBA Youssouf Mulumbu \u00a347 m> m464 + <bound method Player.expected_points of #465 WBA Chris Brunt \u00a350 m> m465 + <bound method Player.expected_points of #466 WBA Claudio Yacob \u00a344 m> m466 + <bound method Player.expected_points of #467 CHE Isaiah Brown \u00a343 m> m467 + <bound method Player.expected_points of #468 STK Peter Odemwingie \u00a354 f> f468 + <bound method Player.expected_points of #469 HUL Shane Long \u00a356 f> f469 + <bound method Player.expected_points of #470 WBA Markus Rosenberg \u00a346 f> f470 + <bound method Player.expected_points of #471 WBA Nicolas Anelka \u00a351 f> f471 + <bound method Player.expected_points of #472 WHU Jussi Jskelinen \u00a355 gk> gk472 + <bound method Player.expected_points of #473 WHU Stephen Henderson \u00a340 gk> gk473 + <bound method Player.expected_points of #474 WHU Adrin San Miguel del Castillo \u00a343 gk> gk474 + <bound method Player.expected_points of #475 WHU James Collins \u00a341 d> d475 + <bound method Player.expected_points of #476 WHU Joey O'Brien \u00a349 d> d476 + <bound method Player.expected_points of #477 WHU Winston Reid \u00a347 d> d477 + <bound method Player.expected_points of #478 WHU Guy Demel \u00a345 d> d478 + <bound method Player.expected_points of #479 WHU Daniel Potts \u00a339 d> d479 + <bound method Player.expected_points of #480 WHU James Tomkins \u00a346 d> d480 + <bound method Player.expected_points of #481 WHU George McCartney \u00a340 d> d481 + <bound method Player.expected_points of #482 WHU Jordan Spence \u00a338 d> d482 + <bound method Player.expected_points of #483 WHU Razvan Rat \u00a343 d> d483 + <bound method Player.expected_points of #484 WHU Joe Cole \u00a352 m> m484 + <bound method Player.expected_points of #485 WHU Jack Collison \u00a346 m> m485 + <bound method Player.expected_points of #486 WHU Matthew Taylor \u00a347 m> m486 + <bound method Player.expected_points of #487 WHU Mark Noble \u00a352 m> m487 + <bound method Player.expected_points of #488 WHU Ravel Morrison \u00a345 m> m488 + <bound method Player.expected_points of #489 WHU Kevin Nolan \u00a365 m> m489 + <bound method Player.expected_points of #490 WHU Mohamed Diam \u00a347 m> m490 + <bound method Player.expected_points of #491 WHU Alou Diarra \u00a344 m> m491 + <bound method Player.expected_points of #492 WHU Matthew Jarvis \u00a350 m> m492 + <bound method Player.expected_points of #493 WHU Andy Carroll \u00a372 f> f493 + <bound method Player.expected_points of #494 WHU Ricardo Vaz Te \u00a349 f> f494 + <bound method Player.expected_points of #495 WHU Modibo Maiga \u00a350 f> f495 + <bound method Player.expected_points of #496 WHU Robert Hall \u00a344 f> f496 + <bound method Player.expected_points of #497 CHE Kevin De Bruyne \u00a363 m> m497 + <bound method Player.expected_points of #498 NOR Leroy Fer \u00a356 m> m498 + <bound method Player.expected_points of #499 SUN Emanuele Giaccherini \u00a362 m> m499 + <bound method Player.expected_points of #500 AVL Samir Carruthers \u00a342 m> m500 + <bound method Player.expected_points of #501 CRY Patrick McCarthy \u00a343 d> d501 + <bound method Player.expected_points of #502 MCI lvaro Negredo \u00a397 f> f502 + <bound method Player.expected_points of #503 MCI Stevan Jovetic \u00a388 f> f503 + <bound method Player.expected_points of #504 NEW Haris Vuckic \u00a342 m> m504 + <bound method Player.expected_points of #505 SWA Jos Alberto Caas Ruiz Herrera \u00a342 m> m505 + <bound method Player.expected_points of #506 HUL Steve Harper \u00a341 gk> gk506 + <bound method Player.expected_points of #507 MUN Jesse Lingard \u00a342 m> m507 + <bound method Player.expected_points of #508 FUL Giorgos Karagounis \u00a342 m> m508 + <bound method Player.expected_points of #509 CRY Kevin Phillips \u00a343 f> f509 + <bound method Player.expected_points of #510 CRY Jos Campaa \u00a342 m> m510 + <bound method Player.expected_points of #511 STK Jack Butland \u00a347 gk> gk511 + <bound method Player.expected_points of #512 CRY Stephen Dobbie \u00a344 f> f512 + <bound method Player.expected_points of #513 CHE Tomas Kalas \u00a349 d> d513 + <bound method Player.expected_points of #514 TOT Nacer Chadli \u00a368 m> m514 + <bound method Player.expected_points of #515 NOR Gary Hooper \u00a360 f> f515 + <bound method Player.expected_points of #516 SOU Calum Chambers \u00a339 d> d516 + <bound method Player.expected_points of #517 SOU Jack Stephens \u00a339 d> d517 + <bound method Player.expected_points of #518 SOU Lloyd Isgrove \u00a342 m> m518 + <bound method Player.expected_points of #519 STK Jermaine Pennant \u00a341 m> m519 + <bound method Player.expected_points of #520 ARS Chuba Akpom \u00a343 f> f520 + <bound method Player.expected_points of #521 MUN Adnan Januzaj \u00a353 m> m521 + <bound method Player.expected_points of #522 CAR Fabio Da Silva \u00a341 d> d522 + <bound method Player.expected_points of #523 CAR John Brayford \u00a338 d> d523 + <bound method Player.expected_points of #524 EVE John Stones \u00a342 d> d524 + <bound method Player.expected_points of #525 WBA Diego Lugano \u00a343 d> d525 + <bound method Player.expected_points of #526 TOT Roberto Soldado \u00a385 f> f526 + <bound method Player.expected_points of #527 HUL Yannick Sagbo \u00a349 f> f527 + <bound method Player.expected_points of #528 CRY Elliot Grandin \u00a342 m> m528 + <bound method Player.expected_points of #529 NEW Loc Remy \u00a381 f> f529 + <bound method Player.expected_points of #530 SWA Rory Donnelly \u00a343 f> f530 + <bound method Player.expected_points of #531 CAR Declan John \u00a339 d> d531 + <bound method Player.expected_points of #532 MCI Dedryck Boyata \u00a342 d> d532 + <bound method Player.expected_points of #533 FUL Adel Taarabt \u00a354 m> m533 + <bound method Player.expected_points of #534 CAR Gary Medel \u00a347 m> m534 + <bound method Player.expected_points of #535 WBA Zoltan Gera \u00a349 m> m535 + <bound method Player.expected_points of #536 SUN Ondrej Celustka \u00a342 d> d536 + <bound method Player.expected_points of #537 SWA Ashley Richards \u00a339 d> d537 + <bound method Player.expected_points of #538 WBA Matej Vydra \u00a352 f> f538 + <bound method Player.expected_points of #539 NOR Jacob Butterfield \u00a345 m> m539 + <bound method Player.expected_points of #540 SUN Dong-Won Ji \u00a349 f> f540 + <bound method Player.expected_points of #541 SUN El-Hadji Ba \u00a344 m> m541 + <bound method Player.expected_points of #542 WBA Saido Berahino \u00a346 f> f542 + <bound method Player.expected_points of #543 ARS Serge Gnabry \u00a342 m> m543 + <bound method Player.expected_points of #544 AVL Jed Steer \u00a340 gk> gk544 + <bound method Player.expected_points of #545 CRY Neil Alexander \u00a340 gk> gk545 + <bound method Player.expected_points of #546 CRY Stuart O'Keefe \u00a343 m> m546 + <bound method Player.expected_points of #547 CRY Florian Marange \u00a340 d> d547 + <bound method Player.expected_points of #548 TOT Etienne Capoue \u00a359 m> m548 + <bound method Player.expected_points of #549 NEW Paul Dummett \u00a339 d> d549 + <bound method Player.expected_points of #550 SOU Pablo Osvaldo \u00a374 f> f550 + <bound method Player.expected_points of #551 LIV Aly Cissokho \u00a350 d> d551 + <bound method Player.expected_points of #552 NOR Johan Elmander \u00a351 f> f552 + <bound method Player.expected_points of #553 SUN Charalampos Mavrias \u00a347 m> m553 + <bound method Player.expected_points of #554 ARS Gedion Zelalem \u00a350 m> m554 + <bound method Player.expected_points of #555 WHU Elliot Lee \u00a344 f> f555 + <bound method Player.expected_points of #556 LIV Jon Flanagan \u00a343 d> d556 + <bound method Player.expected_points of #557 ARS Mathieu Flamini \u00a349 m> m557 + <bound method Player.expected_points of #558 TOT Erik Lamela \u00a374 m> m558 + <bound method Player.expected_points of #559 CHE Willian Borges Da Silva \u00a375 m> m559 + <bound method Player.expected_points of #560 CHE Samuel Eto'o \u00a383 f> f560 + <bound method Player.expected_points of #561 TOT Christian Eriksen \u00a374 m> m561 + <bound method Player.expected_points of #562 FUL Elsad Zverotic \u00a344 d> d562 + <bound method Player.expected_points of #563 MCI Martn Demichelis \u00a359 d> d563 + <bound method Player.expected_points of #564 TOT Vlad Chiriches \u00a351 d> d564 + <bound method Player.expected_points of #565 CAR Kvin Thophile-Catherine \u00a345 d> d565 + <bound method Player.expected_points of #566 SWA lvaro Vzquez Garca \u00a354 f> f566 + <bound method Player.expected_points of #567 CRY Jimmy Kb \u00a347 m> m567 + <bound method Player.expected_points of #568 CRY Jack Hunt \u00a340 d> d568 + <bound method Player.expected_points of #569 WBA Lee Camp \u00a339 gk> gk569 + <bound method Player.expected_points of #570 SUN Andrea Dossena \u00a348 d> d570 + <bound method Player.expected_points of #571 LIV Mamadou Sakho \u00a351 d> d571 + <bound method Player.expected_points of #572 HUL Mohamed Nagy \u00a343 f> f572 + <bound method Player.expected_points of #573 LIV Tiago Ilori \u00a344 d> d573 + <bound method Player.expected_points of #574 AVL Libor Kozk \u00a363 f> f574 + <bound method Player.expected_points of #575 CRY Adrian Mariappa \u00a340 d> d575 + <bound method Player.expected_points of #576 STK Marko Arnautovic \u00a351 m> m576 + <bound method Player.expected_points of #577 EVE James McCarthy \u00a349 m> m577 + <bound method Player.expected_points of #578 ARS Mesut zil \u00a3100 m> m578 + <bound method Player.expected_points of #579 WBA Morgan Amalfitano \u00a344 m> m579 + <bound method Player.expected_points of #580 ARS Emiliano Viviano \u00a346 gk> gk580 + <bound method Player.expected_points of #581 CAR Simon Moore \u00a340 gk> gk581 + <bound method Player.expected_points of #582 MUN Ben Amos \u00a345 gk> gk582 + <bound method Player.expected_points of #583 CRY Adlne Gudioura \u00a343 m> m583 + <bound method Player.expected_points of #584 ARS Ryo Miyaichi \u00a344 m> m584 + <bound method Player.expected_points of #585 WHU Mladen Petric \u00a344 f> f585 + <bound method Player.expected_points of #586 FUL Buomesca Tue Na Bangna \u00a345 m> m586 + <bound method Player.expected_points of #587 ARS Nicklas Bendtner \u00a365 f> f587 + <bound method Player.expected_points of #588 TOT Ezekiel Fryers \u00a340 d> d588 + <bound method Player.expected_points of #589 SWA Daniel Alfei \u00a340 d> d589 + <bound method Player.expected_points of #590 NOR Josh Murphy \u00a345 m> m590 + <bound method Player.expected_points of #591 CRY Ryan Inniss \u00a340 d> d591 + <bound method Player.expected_points of #592 WHU Carlton Cole \u00a350 f> f592 + <bound method Player.expected_points of #593 NOR Carlo Nash \u00a340 gk> gk593 + <bound method Player.expected_points of #594 SOU Tadanari Lee \u00a345 f> f594 + <bound method Player.expected_points of #595 HUL Aaron McLean \u00a345 f> f595 + <bound method Player.expected_points of #596 AVL Daniel Johnson \u00a341 m> m596 + <bound method Player.expected_points of #597 ARS Isaac Hayden \u00a345 d> d597 + <bound method Player.expected_points of #598 AVL Callum Robinson \u00a345 f> f598 + <bound method Player.expected_points of #599 SOU Sam Gallagher \u00a345 f> f599;\ncost_constraint: 42 gk1 + 60 gk2 + 57 d3 + 54 d4 + 57 d5 + 54 d6 + 41 d7 + 66 d8 + 50 d9 + 51 d10 + 63 m11 + 92 m12 + 71 m13 + 55 m14 + 68 m15 + 67 m16 + 65 m17 + 96 m18 + 60 m19 + 42 m20 + 78 f21 + 89 f22 + 48 f23 + 48 f24 + 39 gk25 + 51 gk26 + 39 d27 + 45 d28 + 40 d29 + 44 d30 + 43 d31 + 42 d32 + 41 d33 + 44 d34 + 44 m35 + 43 m36 + 43 m37 + 45 m38 + 45 m39 + 60 m40 + 43 m41 + 46 m42 + 42 m43 + 49 m44 + 42 m45 + 44 m46 + 42 m47 + 60 f48 + 43 f49 + 67 f50 + 58 f51 + 43 f52 + 87 f53 + 48 f54 + 47 gk55 + 40 gk56 + 38 d57 + 45 d58 + 39 d59 + 42 d60 + 39 d61 + 40 d62 + 53 m63 + 42 m64 + 42 m65 + 42 m66 + 43 m67 + 47 m68 + 46 m69 + 46 m70 + 42 f71 + 43 f72 + 42 f73 + 44 f74 + 52 f75 + 53 f76 + 61 gk77 + 46 gk78 + 58 d79 + 60 d80 + 44 d81 + 67 d82 + 60 d83 + 60 d84 + 53 d85 + 42 d86 + 46 m87 + 64 m88 + 74 m89 + 48 m90 + 43 m91 + 97 m92 + 42 m93 + 106 m94 + 52 m95 + 89 m96 + 70 m97 + 53 m98 + 82 f99 + 75 f100 + 84 f101 + 45 gk102 + 39 gk103 + 42 d104 + 38 d105 + 40 d106 + 44 d107 + 38 d108 + 44 d109 + 39 d110 + 49 m111 + 42 m112 + 47 m113 + 43 m114 + 43 m115 + 45 m116 + 41 m117 + 52 f118 + 43 f119 + 49 f120 + 59 gk121 + 39 gk122 + 42 gk123 + 46 d124 + 59 d125 + 44 d126 + 74 d127 + 52 d128 + 38 d129 + 66 d130 + 43 d131 + 62 m132 + 77 m133 + 47 m134 + 51 m135 + 65 m136 + 41 m137 + 73 m138 + 43 f139 + 43 f140 + 51 f141 + 69 f142 + 46 f143 + 62 f144 + 54 f145 + 43 gk146 + 40 gk147 + 48 gk148 + 38 d149 + 43 d150 + 42 d151 + 48 d152 + 45 d153 + 50 d154 + 40 d155 + 41 d156 + 52 m157 + 56 m158 + 43 m159 + 44 m160 + 46 m161 + 48 m162 + 51 m163 + 45 m164 + 42 m165 + 54 f166 + 50 f167 + 70 f168 + 39 gk169 + 45 gk170 + 40 d171 + 39 d172 + 38 d173 + 39 d174 + 39 d175 + 38 d176 + 39 d177 + 44 d178 + 46 d179 + 45 m180 + 45 m181 + 42 m182 + 47 m183 + 43 m184 + 49 m185 + 49 m186 + 45 f187 + 43 f188 + 43 f189 + 54 gk190 + 43 gk191 + 55 gk192 + 41 d193 + 58 d194 + 55 d195 + 57 d196 + 56 d197 + 43 d198 + 39 d199 + 40 d200 + 45 d201 + 58 m202 + 89 m203 + 42 m204 + 65 m205 + 53 m206 + 45 m207 + 47 m208 + 85 m209 + 41 m210 + 50 m211 + 50 m212 + 96 f213 + 134 f214 + 62 f215 + 62 f216 + 60 gk217 + 42 gk218 + 44 gk219 + 55 d220 + 52 d221 + 60 d222 + 48 d223 + 63 d224 + 59 d225 + 40 d226 + 50 d227 + 49 d228 + 50 m229 + 81 m230 + 93 m231 + 101 m232 + 53 m233 + 54 m234 + 43 m235 + 57 m236 + 47 m237 + 83 m238 + 74 m239 + 69 f240 + 123 f241 + 58 gk242 + 47 gk243 + 51 d244 + 58 d245 + 59 d246 + 58 d247 + 49 d248 + 64 d249 + 50 d250 + 45 d251 + 40 d252 + 71 m253 + 69 m254 + 44 m255 + 50 m256 + 55 m257 + 49 m258 + 56 m259 + 71 m260 + 50 m261 + 71 m262 + 54 m263 + 136 f264 + 71 f265 + 113 f266 + 71 f267 + 53 gk268 + 43 gk269 + 40 gk270 + 45 d271 + 42 d272 + 49 d273 + 50 d274 + 50 d275 + 39 d276 + 50 d277 + 44 d278 + 42 d279 + 42 m280 + 43 m281 + 65 m282 + 45 m283 + 43 m284 + 45 m285 + 52 m286 + 72 m287 + 43 m288 + 43 m289 + 43 m290 + 56 m291 + 48 f292 + 43 f293 + 80 f294 + 44 f295 + 64 f296 + 49 gk297 + 40 gk298 + 43 gk299 + 47 d300 + 40 d301 + 38 d302 + 40 d303 + 39 d304 + 42 d305 + 40 d306 + 47 d307 + 42 d308 + 45 m309 + 48 m310 + 43 m311 + 44 m312 + 52 m313 + 43 m314 + 49 m315 + 59 m316 + 42 m317 + 46 m318 + 44 f319 + 64 f320 + 39 gk321 + 40 gk322 + 47 gk323 + 43 d324 + 41 d325 + 52 d326 + 44 d327 + 49 d328 + 40 d329 + 56 d330 + 42 m331 + 42 m332 + 77 m333 + 51 m334 + 50 m335 + 45 m336 + 47 m337 + 41 m338 + 54 m339 + 44 m340 + 43 f341 + 70 f342 + 64 f343 + 49 f344 + 53 gk345 + 44 gk346 + 42 d347 + 54 d348 + 52 d349 + 43 d350 + 50 d351 + 48 d352 + 47 d353 + 56 m354 + 51 m355 + 53 m356 + 43 m357 + 48 m358 + 61 m359 + 52 m360 + 43 m361 + 46 m362 + 48 m363 + 46 f364 + 55 f365 + 47 f366 + 43 gk367 + 45 gk368 + 45 d369 + 48 d370 + 43 d371 + 39 d372 + 40 d373 + 41 d374 + 41 d375 + 68 m376 + 45 m377 + 42 m378 + 54 m379 + 53 m380 + 47 m381 + 55 m382 + 64 m383 + 45 m384 + 43 m385 + 41 m386 + 46 f387 + 50 f388 + 72 f389 + 43 f390 + 43 f391 + 45 f392 + 62 f393 + 49 gk394 + 44 gk395 + 40 gk396 + 48 d397 + 44 d398 + 40 d399 + 42 d400 + 53 d401 + 49 d402 + 40 d403 + 49 d404 + 42 d405 + 45 d406 + 49 m407 + 51 m408 + 45 m409 + 43 m410 + 57 m411 + 49 m412 + 56 m413 + 43 m414 + 42 m415 + 54 m416 + 85 m417 + 45 f418 + 50 f419 + 74 f420 + 43 gk421 + 43 gk422 + 58 gk423 + 52 d424 + 51 d425 + 46 d426 + 61 d427 + 41 d428 + 52 d429 + 69 d430 + 74 m431 + 51 m432 + 50 m433 + 73 m434 + 118 m435 + 50 m436 + 46 m437 + 44 m438 + 43 m439 + 44 m440 + 47 m441 + 63 m442 + 62 m443 + 44 m444 + 66 m445 + 51 m446 + 79 f447 + 79 f448 + 44 f449 + 44 gk450 + 47 gk451 + 40 gk452 + 44 d453 + 49 d454 + 50 d455 + 53 d456 + 39 d457 + 50 d458 + 42 d459 + 45 m460 + 44 m461 + 43 m462 + 54 m463 + 47 m464 + 50 m465 + 44 m466 + 43 m467 + 54 f468 + 56 f469 + 46 f470 + 51 f471 + 55 gk472 + 40 gk473 + 43 gk474 + 41 d475 + 49 d476 + 47 d477 + 45 d478 + 39 d479 + 46 d480 + 40 d481 + 38 d482 + 43 d483 + 52 m484 + 46 m485 + 47 m486 + 52 m487 + 45 m488 + 65 m489 + 47 m490 + 44 m491 + 50 m492 + 72 f493 + 49 f494 + 50 f495 + 44 f496 + 63 m497 + 56 m498 + 62 m499 + 42 m500 + 43 d501 + 97 f502 + 88 f503 + 42 m504 + 42 m505 + 41 gk506 + 42 m507 + 42 m508 + 43 f509 + 42 m510 + 47 gk511 + 44 f512 + 49 d513 + 68 m514 + 60 f515 + 39 d516 + 39 d517 + 42 m518 + 41 m519 + 43 f520 + 53 m521 + 41 d522 + 38 d523 + 42 d524 + 43 d525 + 85 f526 + 49 f527 + 42 m528 + 81 f529 + 43 f530 + 39 d531 + 42 d532 + 54 m533 + 47 m534 + 49 m535 + 42 d536 + 39 d537 + 52 f538 + 45 m539 + 49 f540 + 44 m541 + 46 f542 + 42 m543 + 40 gk544 + 40 gk545 + 43 m546 + 40 d547 + 59 m548 + 39 d549 + 74 f550 + 50 d551 + 51 f552 + 47 m553 + 50 m554 + 44 f555 + 43 d556 + 49 m557 + 74 m558 + 75 m559 + 83 f560 + 74 m561 + 44 d562 + 59 d563 + 51 d564 + 45 d565 + 54 f566 + 47 m567 + 40 d568 + 39 gk569 + 48 d570 + 51 d571 + 43 f572 + 44 d573 + 63 f574 + 40 d575 + 51 m576 + 49 m577 + 100 m578 + 44 m579 + 46 gk580 + 40 gk581 + 45 gk582 + 43 m583 + 44 m584 + 44 f585 + 45 m586 + 65 f587 + 40 d588 + 40 d589 + 45 m590 + 40 d591 + 50 f592 + 40 gk593 + 45 f594 + 45 f595 + 41 m596 + 45 d597 + 45 f598 + 45 f599 <= 100;\ngk_limit: gk1 + gk2 + gk25 + gk26 + gk55 + gk56 + gk77 + gk78 + gk102 + gk103 + gk121 + gk122 + gk123 + gk146 + gk147 + gk148 + gk169 + gk170 + gk190 + gk191 + gk192 + gk217 + gk218 + gk219 + gk242 + gk243 + gk268 + gk269 + gk270 + gk297 + gk298 + gk299 + gk321 + gk322 + gk323 + gk345 + gk346 + gk367 + gk368 + gk394 + gk395 + gk396 + gk421 + gk422 + gk423 + gk450 + gk451 + gk452 + gk472 + gk473 + gk474 + gk506 + gk511 + gk544 + gk545 + gk569 + gk580 + gk581 + gk582 + gk593 = 2;\nd_limit: d3 + d4 + d5 + d6 + d7 + d8 + d9 + d10 + d27 + d28 + d29 + d30 + d31 + d32 + d33 + d34 + d57 + d58 + d59 + d60 + d61 + d62 + d79 + d80 + d81 + d82 + d83 + d84 + d85 + d86 + d104 + d105 + d106 + d107 + d108 + d109 + d110 + d124 + d125 + d126 + d127 + d128 + d129 + d130 + d131 + d149 + d150 + d151 + d152 + d153 + d154 + d155 + d156 + d171 + d172 + d173 + d174 + d175 + d176 + d177 + d178 + d179 + d193 + d194 + d195 + d196 + d197 + d198 + d199 + d200 + d201 + d220 + d221 + d222 + d223 + d224 + d225 + d226 + d227 + d228 + d244 + d245 + d246 + d247 + d248 + d249 + d250 + d251 + d252 + d271 + d272 + d273 + d274 + d275 + d276 + d277 + d278 + d279 + d300 + d301 + d302 + d303 + d304 + d305 + d306 + d307 + d308 + d324 + d325 + d326 + d327 + d328 + d329 + d330 + d347 + d348 + d349 + d350 + d351 + d352 + d353 + d369 + d370 + d371 + d372 + d373 + d374 + d375 + d397 + d398 + d399 + d400 + d401 + d402 + d403 + d404 + d405 + d406 + d424 + d425 + d426 + d427 + d428 + d429 + d430 + d453 + d454 + d455 + d456 + d457 + d458 + d459 + d475 + d476 + d477 + d478 + d479 + d480 + d481 + d482 + d483 + d501 + d513 + d516 + d517 + d522 + d523 + d524 + d525 + d531 + d532 + d536 + d537 + d547 + d549 + d551 + d556 + d562 + d563 + d564 + d565 + d568 + d570 + d571 + d573 + d575 + d588 + d589 + d591 + d597 = 5;\nm_limit: m11 + m12 + m13 + m14 + m15 + m16 + m17 + m18 + m19 + m20 + m35 + m36 + m37 + m38 + m39 + m40 + m41 + m42 + m43 + m44 + m45 + m46 + m47 + m63 + m64 + m65 + m66 + m67 + m68 + m69 + m70 + m87 + m88 + m89 + m90 + m91 + m92 + m93 + m94 + m95 + m96 + m97 + m98 + m111 + m112 + m113 + m114 + m115 + m116 + m117 + m132 + m133 + m134 + m135 + m136 + m137 + m138 + m157 + m158 + m159 + m160 + m161 + m162 + m163 + m164 + m165 + m180 + m181 + m182 + m183 + m184 + m185 + m186 + m202 + m203 + m204 + m205 + m206 + m207 + m208 + m209 + m210 + m211 + m212 + m229 + m230 + m231 + m232 + m233 + m234 + m235 + m236 + m237 + m238 + m239 + m253 + m254 + m255 + m256 + m257 + m258 + m259 + m260 + m261 + m262 + m263 + m280 + m281 + m282 + m283 + m284 + m285 + m286 + m287 + m288 + m289 + m290 + m291 + m309 + m310 + m311 + m312 + m313 + m314 + m315 + m316 + m317 + m318 + m331 + m332 + m333 + m334 + m335 + m336 + m337 + m338 + m339 + m340 + m354 + m355 + m356 + m357 + m358 + m359 + m360 + m361 + m362 + m363 + m376 + m377 + m378 + m379 + m380 + m381 + m382 + m383 + m384 + m385 + m386 + m407 + m408 + m409 + m410 + m411 + m412 + m413 + m414 + m415 + m416 + m417 + m431 + m432 + m433 + m434 + m435 + m436 + m437 + m438 + m439 + m440 + m441 + m442 + m443 + m444 + m445 + m446 + m460 + m461 + m462 + m463 + m464 + m465 + m466 + m467 + m484 + m485 + m486 + m487 + m488 + m489 + m490 + m491 + m492 + m497 + m498 + m499 + m500 + m504 + m505 + m507 + m508 + m510 + m514 + m518 + m519 + m521 + m528 + m533 + m534 + m535 + m539 + m541 + m543 + m546 + m548 + m553 + m554 + m557 + m558 + m559 + m561 + m567 + m576 + m577 + m578 + m579 + m583 + m584 + m586 + m590 + m596 = 5;\nf_limit: f21 + f22 + f23 + f24 + f48 + f49 + f50 + f51 + f52 + f53 + f54 + f71 + f72 + f73 + f74 + f75 + f76 + f99 + f100 + f101 + f118 + f119 + f120 + f139 + f140 + f141 + f142 + f143 + f144 + f145 + f166 + f167 + f168 + f187 + f188 + f189 + f213 + f214 + f215 + f216 + f240 + f241 + f264 + f265 + f266 + f267 + f292 + f293 + f294 + f295 + f296 + f319 + f320 + f341 + f342 + f343 + f344 + f364 + f365 + f366 + f387 + f388 + f389 + f390 + f391 + f392 + f393 + f418 + f419 + f420 + f447 + f448 + f449 + f468 + f469 + f470 + f471 + f493 + f494 + f495 + f496 + f502 + f503 + f509 + f512 + f515 + f520 + f526 + f527 + f529 + f530 + f538 + f540 + f542 + f550 + f552 + f555 + f560 + f566 + f572 + f574 + f585 + f587 + f592 + f594 + f595 + f598 + f599 = 3;\n' | lp_solve' returned non-zero exit status 2"
       ]
      }
     ],
     "prompt_number": 49
    },
    {
     "cell_type": "markdown",
     "metadata": {
      "slideshow": {
       "slide_type": "notes"
      }
     },
     "source": [
      "So you write code to generate the lp_solve file described above, run it through the lp_solve, and success! A valid team pops out the other end.\n",
      "\n",
      "You've now written code to pick a fantasy football team. There are a million improvements you imagine you could make to your model... but you're already a few hours in and think it might be time to wrap it up."
     ]
    },
    {
     "cell_type": "code",
     "collapsed": false,
     "input": [
      "%run talktools"
     ],
     "language": "python",
     "metadata": {
      "slideshow": {
       "slide_type": "skip"
      }
     },
     "outputs": [
      {
       "html": [
        "<style>\n",
        "\n",
        "/* https://github.com/ipython/ipython/issues/4248 */\n",
        ".reveal h4 .roll { line-height: 1.5; }\n",
        ".reveal pre { font-size: 80%; }\n",
        ".rendered_html\n",
        "{\n",
        "  color: #2C5494;\n",
        "  font-family: Ubuntu;\n",
        "  font-size: 140%;\n",
        "  line-height: 1.1;\n",
        "  margin: 0.5em 0;\n",
        "  }\n",
        "\n",
        ".title\n",
        "{\n",
        "  color: #498AF3;\n",
        "  font-size: 250%;\n",
        "  font-weight:bold;\n",
        "  line-height: 1.2;\n",
        "  margin: 10px 50px 10px;\n",
        "  }\n",
        "\n",
        ".subtitle\n",
        "{\n",
        "  color: #386BBC;\n",
        "  font-size: 180%;\n",
        "  font-weight:bold;\n",
        "  line-height: 1.2;\n",
        "  margin: 20px 50px 20px;\n",
        "  }\n",
        "\n",
        ".slide-header, p.slide-header\n",
        "{\n",
        "  color: #498AF3;\n",
        "  font-size: 200%;\n",
        "  font-weight:bold;\n",
        "  margin: 0px 20px 10px;\n",
        "  page-break-before: always;\n",
        "  text-align: center;\n",
        "  }\n",
        "\n",
        ".rendered_html h1\n",
        "{\n",
        "  color: #498AF3;\n",
        "  line-height: 1.2;\n",
        "  margin: 0.15em 0em 0.5em;\n",
        "  page-break-before: always;\n",
        "  text-align: center;\n",
        "  }\n",
        "\n",
        "\n",
        ".rendered_html h2\n",
        "{\n",
        "  color: #386BBC;\n",
        "  line-height: 1.2;\n",
        "  margin: 1.1em 0em 0.5em;\n",
        "  text-align: center;\n",
        "  }\n",
        "\n",
        ".rendered_html h3\n",
        "{\n",
        "  line-height: 1.2;\n",
        "  margin: 2.1em 0em 1.1em;\n",
        "  }\n",
        "\n",
        ".rendered_html h4\n",
        "{\n",
        "  font-size: 100%;\n",
        "  line-height: 1.4;\n",
        "  margin: 1.1em 0em 0.5em;\n",
        "  }\n",
        "\n",
        ".rendered_html li\n",
        "{\n",
        "  line-height: 1.8;\n",
        "  }\n",
        "\n",
        ".input_prompt, .CodeMirror-lines, .output_area\n",
        "{\n",
        "  font-family: Consolas;\n",
        "  font-size: 120%;\n",
        "  }\n",
        "\n",
        ".gap-above\n",
        "{\n",
        "  padding-top: 200px;\n",
        "  }\n",
        "\n",
        ".gap01\n",
        "{\n",
        "  padding-top: 10px;\n",
        "  }\n",
        "\n",
        ".gap05\n",
        "{\n",
        "  padding-top: 50px;\n",
        "  }\n",
        "\n",
        ".gap1\n",
        "{\n",
        "  padding-top: 100px;\n",
        "  }\n",
        "\n",
        ".gap2\n",
        "{\n",
        "  padding-top: 200px;\n",
        "  }\n",
        "\n",
        ".gap3\n",
        "{\n",
        "  padding-top: 300px;\n",
        "  }\n",
        "\n",
        ".emph\n",
        "{\n",
        "  color: #386BBC;\n",
        "  }\n",
        "\n",
        ".warn\n",
        "{\n",
        "  color: red;\n",
        "  }\n",
        "\n",
        ".center\n",
        "{\n",
        "  text-align: center;\n",
        "  }\n",
        "\n",
        ".nb_link\n",
        "{\n",
        "    padding-bottom: 0.5em;\n",
        "}\n",
        "\n",
        "</style>\n"
       ],
       "metadata": {},
       "output_type": "display_data",
       "text": [
        "<IPython.core.display.HTML at 0x10eadcc90>"
       ]
      }
     ],
     "prompt_number": 29
    },
    {
     "cell_type": "markdown",
     "metadata": {},
     "source": [
      "*Sam notes:*\n",
      "\n",
      "* Could be interesting to have some scoring details or soccer stories\n",
      "* Careful with points/goals terminology, listeners could be confused\n",
      "* Replace equations slide, too much\n",
      "* Move home/away slide to in front of model creation section\n",
      "* More soccer pictures"
     ]
    },
    {
     "cell_type": "code",
     "collapsed": false,
     "input": [],
     "language": "python",
     "metadata": {},
     "outputs": []
    }
   ],
   "metadata": {}
  }
 ]
}