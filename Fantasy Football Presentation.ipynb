{
 "metadata": {
  "name": ""
 },
 "nbformat": 3,
 "nbformat_minor": 0,
 "worksheets": [
  {
   "cells": [
    {
     "cell_type": "markdown",
     "metadata": {
      "slideshow": {
       "slide_type": "slide"
      }
     },
     "source": [
      "<h1>Choosing a Fantasy Football Team</h1>\n",
      "\n",
      "<h2>co-starring: IPython Notebook, matplotlib, and lp_solve</h2>\n",
      "\n",
      "<center>\n",
      "\n",
      "<p class=\"gap05\"<p>\n",
      "<h3>Bill Mill</h3>\n",
      "<h4>[billmill.org](http://billmill.org)\n",
      "<br>[github.com/llimllib](http://github.com/llimllib)\n",
      "<br>[&#64;llimllib](http://twitter.com/llimllib)</h4>\n",
      "\n",
      "<p class=\"gap2\"><p>\n",
      "</center>"
     ]
    },
    {
     "cell_type": "markdown",
     "metadata": {
      "slideshow": {
       "slide_type": "notes"
      }
     },
     "source": [
      "Hello, and thanks for coming. My name's Bill Mill, and I'm here to talk to you about choosing a fantasy football team with IPython, matplotlib, and lp_solve.\n",
      "\n",
      "*Sam notes*: introduce myself more?"
     ]
    },
    {
     "cell_type": "markdown",
     "metadata": {
      "slideshow": {
       "slide_type": "slide"
      }
     },
     "source": [
      "<center>\n",
      "![](files/images/thisnotthis.png)\n",
      "</center>"
     ]
    },
    {
     "cell_type": "markdown",
     "metadata": {
      "slideshow": {
       "slide_type": "notes"
      }
     },
     "source": [
      "A few weeks ago, my friend suckered me into a fantasy football league - the kind with round balls, not oblong. I like watching soccer, but I didn't have any idea how the fantasy game worked.\n",
      "\n",
      "I *am* competitive though, so I wanted to do well enough not to embarrass myself.\n",
      "\n",
      "The first thing I had to do was to figure out how the game works."
     ]
    },
    {
     "cell_type": "markdown",
     "metadata": {
      "slideshow": {
       "slide_type": "slide"
      }
     },
     "source": [
      "<center>\n",
      "![](files/images/screen.png)\n",
      "</center>"
     ]
    },
    {
     "cell_type": "markdown",
     "metadata": {
      "slideshow": {
       "slide_type": "notes"
      }
     },
     "source": [
      "In Fantasy Football, you have a team of 15 British Premier League players; 2 goalkeepers, 5 defenders, 5 midfielders, and 3 forwards.\n",
      "\n",
      "Each week, you pick 11 starters and 4 subs. You score points based on how well your players do: goals, assists, saves and preventing the other team from scoring all gain you fantasy points."
     ]
    },
    {
     "cell_type": "markdown",
     "metadata": {
      "slideshow": {
       "slide_type": "slide"
      }
     },
     "source": [
      "# You have a limited budget\n",
      "<center>\n",
      "![](files/images/bank.jpg)\n",
      "</center>\n",
      "    \n",
      "# And each player costs a certain amount\n",
      "<center>\n",
      "![](files/images/prices.jpg)\n",
      "</center>"
     ]
    },
    {
     "cell_type": "markdown",
     "metadata": {
      "slideshow": {
       "slide_type": "notes"
      }
     },
     "source": [
      "As you assemble your team, you have one big constraint: each player costs a certain amount of money, and you have a limited bankroll. So, to assemble your team, you want to choose the 15 players that will score the most points *given* that they cost less than your bank account.\n",
      "\n",
      "The cost for each player ranges from about \u00a34 to 14, based on how many other people have bought the player, and is not fixed. If a player scores more fantasy points, his price will go up; fewer and his price goes down."
     ]
    },
    {
     "cell_type": "markdown",
     "metadata": {
      "slideshow": {
       "slide_type": "slide"
      }
     },
     "source": [
      "<center>\n",
      "<h1>That sounds like an optimization problem...</h1>\n",
      "\n",
      "<h2>I bet I could solve that with code</h2>\n",
      "</center>"
     ]
    },
    {
     "cell_type": "markdown",
     "metadata": {
      "slideshow": {
       "slide_type": "notes"
      }
     },
     "source": [
      "Once I'd picked up the rules, I started playing around with building up a team. I managed to build one manually, but it was a pain and I did so pretty poorly.\n",
      "\n",
      "Once or twice a season, you're allowed to play \"a wildcard\", which allows you to trade in your entire team for a new one.\n",
      "\n",
      "A few weeks into the season, I was getting the hang of things, and decided I could get my computer to pick a better team for me than the one I had picked myself."
     ]
    },
    {
     "cell_type": "markdown",
     "metadata": {
      "slideshow": {
       "slide_type": "slide"
      }
     },
     "source": [
      "<center>\n",
      "![](files/images/api.png)\n",
      "</center>"
     ]
    },
    {
     "cell_type": "markdown",
     "metadata": {
      "slideshow": {
       "slide_type": "notes"
      }
     },
     "source": [
      "Once I'd decided I was going to use my computer, the first thing I needed to do is gather data for all the players in the Premier League. There's no official API, so I opened up my trusty Chrome inspector and did some digging.\n",
      "\n",
      "After a brief search, I found an endpoint called /web/api, which looked like it output JSON. Awesome!"
     ]
    },
    {
     "cell_type": "code",
     "collapsed": false,
     "input": [
      "import requests, cPickle, shutil, time\n",
      "\n",
      "all = {}\n",
      "errorout = open(\"errors.log\", \"w\")\n",
      "\n",
      "for i in range(600):\n",
      "    playerurl = \"http://fantasy.premierleague.com/web/api/elements/%s/\"\n",
      "    r = requests.get(playerurl % i)\n",
      "\n",
      "    # skip non-existent players\n",
      "    if r.status_code != 200: continue\n",
      "\n",
      "    all[i] = r.json()\n",
      "\n",
      "cPickle.dump(all, outfile)"
     ],
     "language": "python",
     "metadata": {
      "slideshow": {
       "slide_type": "slide"
      }
     },
     "outputs": []
    },
    {
     "cell_type": "markdown",
     "metadata": {
      "slideshow": {
       "slide_type": "notes"
      }
     },
     "source": [
      "After I played with it a bit, I discovered that each player has an ID between 0 and 600, though some IDs are not taken. The endpoint is indeed JSON, so it's super simple to download and parse.\n",
      "\n",
      "I wrote this little script to download every players' data, stick it in a dictionary, and save it to a file.\n",
      "\n",
      "As you can see, it's very simple; it was a good thing I dug around and found that API so I didn't have to resort to screen scraping."
     ]
    },
    {
     "cell_type": "markdown",
     "metadata": {
      "slideshow": {
       "slide_type": "slide"
      }
     },
     "source": [
      "<center>![](files/images/nowwhat.gif)</center>"
     ]
    },
    {
     "cell_type": "markdown",
     "metadata": {
      "slideshow": {
       "slide_type": "notes"
      }
     },
     "source": [
      "After that turned out to be unexpectedly easy, I faced my next problem: I had the data on my computer, but no idea what to do with it."
     ]
    },
    {
     "cell_type": "code",
     "collapsed": false,
     "input": [
      "website(\"http://ipython.org/notebook.html\")"
     ],
     "language": "python",
     "metadata": {
      "slideshow": {
       "slide_type": "slide"
      }
     },
     "outputs": [
      {
       "html": [
        "<iframe src=\"http://ipython.org/notebook.html\"  width=\"800\" height=\"450\"></iframe>"
       ],
       "metadata": {},
       "output_type": "pyout",
       "prompt_number": 63,
       "text": [
        "<IPython.core.display.HTML at 0x1072c3450>"
       ]
      }
     ],
     "prompt_number": 63
    },
    {
     "cell_type": "markdown",
     "metadata": {
      "slideshow": {
       "slide_type": "notes"
      }
     },
     "source": [
      "Enter: ipython notebook. Although it's reasonably new, ipython notebook has rapidly become my go-to tool for exploring data, generating graphs, and running experiments.\n",
      "\n",
      "This talk, itself, is an ipython notebook presentation converted into a slideshow.\n",
      "\n",
      "If you're not familiar with the funny little \"In\" and \"Out\" notations on the left side, they indicate an ipython notebook cell. You write code in the \"In\" field, and see your output (no surprise here) in the \"Out\"."
     ]
    },
    {
     "cell_type": "code",
     "collapsed": false,
     "input": [
      "import cPickle\n",
      "players = cPickle.load(open(\"players.data.pickle\"))\n",
      "players[1]"
     ],
     "language": "python",
     "metadata": {
      "slideshow": {
       "slide_type": "slide"
      }
     },
     "outputs": [
      {
       "metadata": {},
       "output_type": "pyout",
       "prompt_number": 12,
       "text": [
        "{u'added': u'2013-07-15T13:21:12 UTC+0000',\n",
        " u'code': 37096,\n",
        " u'current_fixture': u'Crystal Palace (H)',\n",
        " u'element_type_id': 1,\n",
        " u'event_cost': 42,\n",
        " u'event_explain': [[u'Minutes played', 0, 0]],\n",
        " u'event_points': 0,\n",
        " u'event_total': 0,\n",
        " u'first_name': u'Lukasz',\n",
        " u'fixture_history': {u'all': [[u'17 Aug 15:00',\n",
        "    1,\n",
        "    u'AVL(H) 1-3',\n",
        "    0,\n",
        "    0,\n",
        "    0,\n",
        "    0,\n",
        "    0,\n",
        "    0,\n",
        "    0,\n",
        "    0,\n",
        "    0,\n",
        "    0,\n",
        "    0,\n",
        "    0,\n",
        "    0,\n",
        "    0,\n",
        "    0,\n",
        "    45,\n",
        "    0],\n",
        "   [u'24 Aug 12:45',\n",
        "    2,\n",
        "    u'FUL(A) 3-1',\n",
        "    0,\n",
        "    0,\n",
        "    0,\n",
        "    0,\n",
        "    0,\n",
        "    0,\n",
        "    0,\n",
        "    0,\n",
        "    0,\n",
        "    0,\n",
        "    0,\n",
        "    0,\n",
        "    0,\n",
        "    0,\n",
        "    -1322,\n",
        "    45,\n",
        "    0],\n",
        "   [u'01 Sep 16:00',\n",
        "    3,\n",
        "    u'TOT(H) 1-0',\n",
        "    0,\n",
        "    0,\n",
        "    0,\n",
        "    0,\n",
        "    0,\n",
        "    0,\n",
        "    0,\n",
        "    0,\n",
        "    0,\n",
        "    0,\n",
        "    0,\n",
        "    0,\n",
        "    0,\n",
        "    0,\n",
        "    -1350,\n",
        "    45,\n",
        "    0],\n",
        "   [u'14 Sep 15:00',\n",
        "    4,\n",
        "    u'SUN(A) 3-1',\n",
        "    0,\n",
        "    0,\n",
        "    0,\n",
        "    0,\n",
        "    0,\n",
        "    0,\n",
        "    0,\n",
        "    0,\n",
        "    0,\n",
        "    0,\n",
        "    0,\n",
        "    0,\n",
        "    0,\n",
        "    0,\n",
        "    -1259,\n",
        "    44,\n",
        "    0],\n",
        "   [u'22 Sep 13:30',\n",
        "    5,\n",
        "    u'STK(H) 3-1',\n",
        "    0,\n",
        "    0,\n",
        "    0,\n",
        "    0,\n",
        "    0,\n",
        "    0,\n",
        "    0,\n",
        "    0,\n",
        "    0,\n",
        "    0,\n",
        "    0,\n",
        "    0,\n",
        "    0,\n",
        "    0,\n",
        "    -1091,\n",
        "    44,\n",
        "    0],\n",
        "   [u'28 Sep 17:30',\n",
        "    6,\n",
        "    u'SWA(A) 2-1',\n",
        "    0,\n",
        "    0,\n",
        "    0,\n",
        "    0,\n",
        "    0,\n",
        "    0,\n",
        "    0,\n",
        "    0,\n",
        "    0,\n",
        "    0,\n",
        "    0,\n",
        "    0,\n",
        "    0,\n",
        "    0,\n",
        "    -852,\n",
        "    44,\n",
        "    0],\n",
        "   [u'06 Oct 16:00',\n",
        "    7,\n",
        "    u'WBA(A) 1-1',\n",
        "    0,\n",
        "    0,\n",
        "    0,\n",
        "    0,\n",
        "    0,\n",
        "    0,\n",
        "    0,\n",
        "    0,\n",
        "    0,\n",
        "    0,\n",
        "    0,\n",
        "    0,\n",
        "    0,\n",
        "    0,\n",
        "    -712,\n",
        "    44,\n",
        "    0],\n",
        "   [u'19 Oct 15:00',\n",
        "    8,\n",
        "    u'NOR(H) 4-1',\n",
        "    0,\n",
        "    0,\n",
        "    0,\n",
        "    0,\n",
        "    0,\n",
        "    0,\n",
        "    0,\n",
        "    0,\n",
        "    0,\n",
        "    0,\n",
        "    0,\n",
        "    0,\n",
        "    0,\n",
        "    0,\n",
        "    -388,\n",
        "    44,\n",
        "    0],\n",
        "   [u'26 Oct 12:45',\n",
        "    9,\n",
        "    u'CRY(A) 2-0',\n",
        "    0,\n",
        "    0,\n",
        "    0,\n",
        "    0,\n",
        "    0,\n",
        "    0,\n",
        "    0,\n",
        "    0,\n",
        "    0,\n",
        "    0,\n",
        "    0,\n",
        "    0,\n",
        "    0,\n",
        "    0,\n",
        "    -343,\n",
        "    43,\n",
        "    0],\n",
        "   [u'02 Nov 17:30',\n",
        "    10,\n",
        "    u'LIV(H) 2-0',\n",
        "    0,\n",
        "    0,\n",
        "    0,\n",
        "    0,\n",
        "    0,\n",
        "    0,\n",
        "    0,\n",
        "    0,\n",
        "    0,\n",
        "    0,\n",
        "    0,\n",
        "    0,\n",
        "    0,\n",
        "    0,\n",
        "    -218,\n",
        "    43,\n",
        "    0],\n",
        "   [u'10 Nov 16:10',\n",
        "    11,\n",
        "    u'MUN(A) 0-1',\n",
        "    0,\n",
        "    0,\n",
        "    0,\n",
        "    0,\n",
        "    0,\n",
        "    0,\n",
        "    0,\n",
        "    0,\n",
        "    0,\n",
        "    0,\n",
        "    0,\n",
        "    0,\n",
        "    0,\n",
        "    0,\n",
        "    -247,\n",
        "    43,\n",
        "    0],\n",
        "   [u'23 Nov 15:00',\n",
        "    12,\n",
        "    u'SOU(H) 2-0',\n",
        "    0,\n",
        "    0,\n",
        "    0,\n",
        "    0,\n",
        "    0,\n",
        "    0,\n",
        "    0,\n",
        "    0,\n",
        "    0,\n",
        "    0,\n",
        "    0,\n",
        "    0,\n",
        "    0,\n",
        "    0,\n",
        "    -221,\n",
        "    43,\n",
        "    0],\n",
        "   [u'30 Nov 15:00',\n",
        "    13,\n",
        "    u'CAR(A) 3-0',\n",
        "    0,\n",
        "    0,\n",
        "    0,\n",
        "    0,\n",
        "    0,\n",
        "    0,\n",
        "    0,\n",
        "    0,\n",
        "    0,\n",
        "    0,\n",
        "    0,\n",
        "    0,\n",
        "    0,\n",
        "    0,\n",
        "    -257,\n",
        "    43,\n",
        "    0],\n",
        "   [u'04 Dec 19:45',\n",
        "    14,\n",
        "    u'HUL(H) 2-0',\n",
        "    0,\n",
        "    0,\n",
        "    0,\n",
        "    0,\n",
        "    0,\n",
        "    0,\n",
        "    0,\n",
        "    0,\n",
        "    0,\n",
        "    0,\n",
        "    0,\n",
        "    0,\n",
        "    0,\n",
        "    0,\n",
        "    -283,\n",
        "    43,\n",
        "    0],\n",
        "   [u'08 Dec 16:00',\n",
        "    15,\n",
        "    u'EVE(H) 1-1',\n",
        "    0,\n",
        "    0,\n",
        "    0,\n",
        "    0,\n",
        "    0,\n",
        "    0,\n",
        "    0,\n",
        "    0,\n",
        "    0,\n",
        "    0,\n",
        "    0,\n",
        "    0,\n",
        "    0,\n",
        "    0,\n",
        "    -251,\n",
        "    43,\n",
        "    0],\n",
        "   [u'14 Dec 12:45',\n",
        "    16,\n",
        "    u'MCI(A) 3-6',\n",
        "    0,\n",
        "    0,\n",
        "    0,\n",
        "    0,\n",
        "    0,\n",
        "    0,\n",
        "    0,\n",
        "    0,\n",
        "    0,\n",
        "    0,\n",
        "    0,\n",
        "    0,\n",
        "    0,\n",
        "    0,\n",
        "    -213,\n",
        "    42,\n",
        "    0],\n",
        "   [u'23 Dec 20:00',\n",
        "    17,\n",
        "    u'CHE(H) 0-0',\n",
        "    0,\n",
        "    0,\n",
        "    0,\n",
        "    0,\n",
        "    0,\n",
        "    0,\n",
        "    0,\n",
        "    0,\n",
        "    0,\n",
        "    0,\n",
        "    0,\n",
        "    0,\n",
        "    0,\n",
        "    0,\n",
        "    -123,\n",
        "    42,\n",
        "    0],\n",
        "   [u'26 Dec 15:00',\n",
        "    18,\n",
        "    u'WHU(A) 3-1',\n",
        "    0,\n",
        "    0,\n",
        "    0,\n",
        "    0,\n",
        "    0,\n",
        "    0,\n",
        "    0,\n",
        "    0,\n",
        "    0,\n",
        "    0,\n",
        "    0,\n",
        "    0,\n",
        "    0,\n",
        "    0,\n",
        "    -105,\n",
        "    42,\n",
        "    0],\n",
        "   [u'29 Dec 13:30',\n",
        "    19,\n",
        "    u'NEW(A) 1-0',\n",
        "    0,\n",
        "    0,\n",
        "    0,\n",
        "    0,\n",
        "    0,\n",
        "    0,\n",
        "    0,\n",
        "    0,\n",
        "    0,\n",
        "    0,\n",
        "    0,\n",
        "    0,\n",
        "    0,\n",
        "    0,\n",
        "    -103,\n",
        "    42,\n",
        "    0],\n",
        "   [u'01 Jan 15:00',\n",
        "    20,\n",
        "    u'CAR(H) 2-0',\n",
        "    0,\n",
        "    0,\n",
        "    0,\n",
        "    0,\n",
        "    0,\n",
        "    0,\n",
        "    0,\n",
        "    0,\n",
        "    0,\n",
        "    0,\n",
        "    0,\n",
        "    0,\n",
        "    0,\n",
        "    0,\n",
        "    -83,\n",
        "    42,\n",
        "    0],\n",
        "   [u'13 Jan 20:00',\n",
        "    21,\n",
        "    u'AVL(A) 2-1',\n",
        "    0,\n",
        "    0,\n",
        "    0,\n",
        "    0,\n",
        "    0,\n",
        "    0,\n",
        "    0,\n",
        "    0,\n",
        "    0,\n",
        "    0,\n",
        "    0,\n",
        "    0,\n",
        "    0,\n",
        "    0,\n",
        "    -17,\n",
        "    42,\n",
        "    0],\n",
        "   [u'18 Jan 15:00',\n",
        "    22,\n",
        "    u'FUL(H) 2-0',\n",
        "    0,\n",
        "    0,\n",
        "    0,\n",
        "    0,\n",
        "    0,\n",
        "    0,\n",
        "    0,\n",
        "    0,\n",
        "    0,\n",
        "    0,\n",
        "    0,\n",
        "    0,\n",
        "    0,\n",
        "    0,\n",
        "    -32,\n",
        "    42,\n",
        "    0],\n",
        "   [u'28 Jan 19:45',\n",
        "    23,\n",
        "    u'SOU(A) 2-2',\n",
        "    0,\n",
        "    0,\n",
        "    0,\n",
        "    0,\n",
        "    0,\n",
        "    0,\n",
        "    0,\n",
        "    0,\n",
        "    0,\n",
        "    0,\n",
        "    0,\n",
        "    0,\n",
        "    0,\n",
        "    0,\n",
        "    -35,\n",
        "    42,\n",
        "    0],\n",
        "   [u'02 Feb 16:00',\n",
        "    24,\n",
        "    u'CRY(H) 2-0',\n",
        "    0,\n",
        "    0,\n",
        "    0,\n",
        "    0,\n",
        "    0,\n",
        "    0,\n",
        "    0,\n",
        "    0,\n",
        "    0,\n",
        "    0,\n",
        "    0,\n",
        "    0,\n",
        "    0,\n",
        "    0,\n",
        "    -6,\n",
        "    42,\n",
        "    0]],\n",
        "  u'summary': [[22, u'FUL (H)', 0], [23, u'SOU (A)', 0], [24, u'CRY (H)', 0]]},\n",
        " u'fixtures': {u'all': [[u'08 Feb 12:45', u'Gameweek 25', u'Liverpool (A)'],\n",
        "   [u'12 Feb 19:45', u'Gameweek 26', u'Man Utd (H)'],\n",
        "   [u'22 Feb 15:00', u'Gameweek 27', u'Sunderland (H)'],\n",
        "   [u'01 Mar 15:00', u'Gameweek 28', u'Stoke City (A)'],\n",
        "   [u'08 Mar 15:00', u'Gameweek 29', u'Swansea (H)'],\n",
        "   [u'16 Mar 16:00', u'Gameweek 30', u'Tottenham (A)'],\n",
        "   [u'22 Mar 12:45', u'Gameweek 31', u'Chelsea (A)'],\n",
        "   [u'29 Mar 17:30', u'Gameweek 32', u'Man City (H)'],\n",
        "   [u'05 Apr 15:00', u'Gameweek 33', u'Everton (A)'],\n",
        "   [u'12 Apr 15:00', u'Gameweek 34', u'West Ham (H)'],\n",
        "   [u'19 Apr 15:00', u'Gameweek 35', u'Hull City (A)'],\n",
        "   [u'26 Apr 15:00', u'Gameweek 36', u'Newcastle (H)'],\n",
        "   [u'03 May 15:00', u'Gameweek 37', u'West Brom (H)'],\n",
        "   [u'11 May 15:00', u'Gameweek 38', u'Norwich (A)']],\n",
        "  u'summary': [[25, u'LIV (A)', u'08 Feb 12:45'],\n",
        "   [26, u'MUN (H)', u'12 Feb 19:45'],\n",
        "   [27, u'SUN (H)', u'22 Feb 15:00']]},\n",
        " u'form': 0.0,\n",
        " u'id': 1,\n",
        " u'in_dreamteam': False,\n",
        " u'last_season_points': 0,\n",
        " u'max_cost': 45,\n",
        " u'min_cost': 42,\n",
        " u'news': u'',\n",
        " u'news_added': None,\n",
        " u'news_return': None,\n",
        " u'news_updated': None,\n",
        " u'next_fixture': u'Liverpool (A)',\n",
        " u'now_cost': 42,\n",
        " u'original_cost': 45,\n",
        " u'photo_mobile_url': u'http://cdn.ismfg.net/static/plfpl/img/shirts/photos/37096.jpg',\n",
        " u'points_per_game': 0.0,\n",
        " u'season_history': [[u'2007/08',\n",
        "   248,\n",
        "   0,\n",
        "   0,\n",
        "   0,\n",
        "   2,\n",
        "   0,\n",
        "   0,\n",
        "   0,\n",
        "   0,\n",
        "   0,\n",
        "   8,\n",
        "   0,\n",
        "   0,\n",
        "   0,\n",
        "   46,\n",
        "   15],\n",
        "  [u'2008/09', 463, 0, 0, 0, 10, 0, 0, 0, 0, 0, 18, 0, 0, 0, 46, 20],\n",
        "  [u'2009/10', 360, 0, 0, 0, 5, 0, 0, 0, 1, 0, 11, 0, 0, 0, 49, 15],\n",
        "  [u'2010/11', 1260, 0, 1, 5, 14, 0, 0, 0, 0, 0, 33, 2, 0, 0, 45, 55],\n",
        "  [u'2011/12', 0, 0, 0, 0, 0, 0, 0, 0, 0, 0, 0, 0, 0, 0, 53, 0],\n",
        "  [u'2012/13', 360, 0, 0, 1, 3, 0, 0, 0, 0, 0, 7, 0, 57, 0, 42, 13]],\n",
        " u'second_name': u'Fabianski',\n",
        " u'selected': 17295,\n",
        " u'selected_by': u'0.5',\n",
        " u'shirt_image_url': u'http://cdn.ismfg.net/static/plfpl/img/shirts/shirt_1_1.png',\n",
        " u'shirt_mobile_image_url': u'http://cdn.ismfg.net/static/plfpl/img/shirts/mobile/shirt_1_1.png',\n",
        " u'squad_number': None,\n",
        " u'status': u'a',\n",
        " u'team_code': 37096,\n",
        " u'team_id': 1,\n",
        " u'team_name': u'Arsenal',\n",
        " u'total_points': 0,\n",
        " u'transfers_in': 4112,\n",
        " u'transfers_in_event': 31,\n",
        " u'transfers_out': 13666,\n",
        " u'transfers_out_event': 74,\n",
        " u'type_name': u'Goalkeeper',\n",
        " u'web_name': u'Fabianski'}"
       ]
      }
     ],
     "prompt_number": 12
    },
    {
     "cell_type": "markdown",
     "metadata": {
      "slideshow": {
       "slide_type": "notes"
      }
     },
     "source": [
      "This is another ipython cell; this time it's loading the player data and showing the JSON object the web api returned for the player with id 1.\n",
      "\n",
      "It looks like the object contains all the player information we need, primarily in a big `fixture_history` array that contains big, unlabelled, arrays, so let's begin playing around with it.\n",
      "\n",
      "When you execute a cell in Ipython notebook, the variables you create are available for your use later on. Here, we've loaded the pickle file into a variable `players`, which we'll continue to use throughout the spreadsheet."
     ]
    },
    {
     "cell_type": "code",
     "collapsed": false,
     "input": [
      "%matplotlib inline\n",
      "matplotlib.rc('font', size=18)\n",
      "figsize(12, 4)\n",
      "import numpy as np\n",
      "import re\n",
      "import StringIO\n",
      "#import prettyplotlib as ppl\n",
      "#dir(ppl)"
     ],
     "language": "python",
     "metadata": {
      "slideshow": {
       "slide_type": "skip"
      }
     },
     "outputs": [],
     "prompt_number": 24
    },
    {
     "cell_type": "code",
     "collapsed": false,
     "input": [
      "points = {}\n",
      "for p in players.itervalues():\n",
      "    for game in p['fixture_history']['all']:\n",
      "        if game[3] > 0:\n",
      "            points.setdefault(p['type_name'], []).append(game[19])\n",
      "\n",
      "def poshist(axis, position):\n",
      "    axis.hist(points[position])\n",
      "    axis.set_title(position)\n",
      "    return axis\n",
      "\n",
      "fig, (ax0, ax1, ax2, ax3) = plt.subplots(ncols=4, sharey=True, figsize=(18,4))\n",
      "poshist(ax0, \"Forward\")\n",
      "poshist(ax1, \"Midfielder\")\n",
      "poshist(ax2, \"Defender\")\n",
      "poshist(ax3, \"Goalkeeper\")\n",
      "fig.show()"
     ],
     "language": "python",
     "metadata": {
      "slideshow": {
       "slide_type": "slide"
      }
     },
     "outputs": [
      {
       "metadata": {},
       "output_type": "display_data",
       "png": "[encoded data removed]",
       "text": [
        "<matplotlib.figure.Figure at 0x10d170050>"
       ]
      }
     ],
     "prompt_number": 23
    },
    {
     "cell_type": "markdown",
     "metadata": {
      "slideshow": {
       "slide_type": "notes"
      }
     },
     "source": [
      "The first experiment I did asked: how many points are scored by players in each position?\n",
      "\n",
      "So I wrote this code to iterates through all players, discard the games in which they didn't play, and store how many points they scored in a dictionary keyed on their position.\n",
      "\n",
      "Then I used matplotlib to turn that dictionary into a series of four graphs.\n",
      "\n",
      "This graph isn't that helpful, so don't bother squinting at it to find out what it says.\n",
      "\n",
      "The point is that, with a very small amount of code, I was able to run an experiment, make graphs, and draw conclusions about my data.\n",
      "\n",
      "Ipython makes this all very easy by allowing you to rapidly iterate on your code, and showing you graphical output right next to your textual input. If you mess up, just fix the text in the cell, and run it again."
     ]
    },
    {
     "cell_type": "code",
     "collapsed": false,
     "input": [
      "opponents = {}\n",
      "for player in players.itervalues():\n",
      "    for game in player[\"fixture_history\"][\"all\"]:\n",
      "        #skip games where the player played 0 minutes\n",
      "        if game[3] == 0: continue\n",
      "        opp = game[2][:3]\n",
      "        pts = game[19]\n",
      "        opponents.setdefault(opp, [0,0])[0] += pts\n",
      "        opponents[opp][1] += 1\n",
      "\n",
      "from collections import OrderedDict\n",
      "avgs = {}\n",
      "for opponent, (score, n) in opponents.iteritems():\n",
      "    avgs[opponent] = score/float(n)\n",
      "\n",
      "sorted_avgs = OrderedDict(sorted(avgs.items(), key=lambda t: t[1]))\n",
      "avg_opponent = sum(avgs.values())/float(len(avgs))\n",
      "\n",
      "fig, ax = plt.subplots(figsize=(18,4))\n",
      "x_pos = np.arange(0, len(sorted_avgs.keys()))\n",
      "ax.set_xticks(x_pos)\n",
      "ax.set_xticklabels(sorted_avgs.keys(), rotation=45)\n",
      "ax.plot(x_pos, sorted_avgs.values(), linewidth=3)\n",
      "fig.show()"
     ],
     "language": "python",
     "metadata": {
      "slideshow": {
       "slide_type": "slide"
      }
     },
     "outputs": [
      {
       "metadata": {},
       "output_type": "display_data",
       "png": "[encoded data removed]",
       "text": [
        "<matplotlib.figure.Figure at 0x10ea2ad10>"
       ]
      }
     ],
     "prompt_number": 22
    },
    {
     "cell_type": "markdown",
     "metadata": {
      "slideshow": {
       "slide_type": "notes"
      }
     },
     "source": [
      "Next I asked another question: How many points does each team allow their opponents, on average?\n",
      "\n",
      "So, again I iterated through all the player data. This time I saved the amount of points each player scored to a dictionary keyed by their opponent. Again, I made a graph of the result.\n",
      "\n",
      "This time, I was impressed by the size of the effect: Liverpool, the stingiest team, gave up less than 2.2 fantasy points, on average, to their opponents. Fulham, the most generous, gave up nearly 4.\n",
      "\n",
      "A game against the weakest team is worth nearly *double*, on average, to a game against the strongest!"
     ]
    },
    {
     "cell_type": "code",
     "collapsed": false,
     "input": [
      "class Game(object):\n",
      "    def __init__(self, game_json):\n",
      "        self.opp = game_json[2][:3]\n",
      "        self.loc = game_json[2][4] # \"A\" for away, \"H\" for home\n",
      "        self.points = game_json[19]\n",
      "        self.minutes = game_json[3]\n",
      "    \n",
      "    def __repr__(self):\n",
      "        return \"Game vs. %s %s: %s pts\" % (self.opp, self.loc, self.points)\n",
      "\n",
      "team_abbreviations = {\n",
      "    'Norwich': 'NOR',\n",
      "    'Cardiff City': 'CAR',\n",
      "    'Man City': 'MCI',\n",
      "    'Newcastle': 'NEW',\n",
      "    'West Brom': 'WBA',\n",
      "    'West Ham': 'WHU',\n",
      "    'Southampton': 'SOU',\n",
      "    'Sunderland': 'SUN',\n",
      "    'Stoke City': 'STK',\n",
      "    'Crystal Palace': 'CRY',\n",
      "    'Arsenal': 'ARS',\n",
      "    'Swansea': 'SWA',\n",
      "    'Liverpool': 'LIV',\n",
      "    'Hull City': 'HUL',\n",
      "    'Man Utd': 'MUN',\n",
      "    'Everton': 'EVE',\n",
      "    'Fulham': 'FUL',\n",
      "    'Tottenham': 'TOT',\n",
      "    'Aston Villa': 'AVL',\n",
      "    'Chelsea': 'CHE',\n",
      "}\n",
      "    \n",
      "class Player(object):\n",
      "    def __init__(self, player_json):\n",
      "        self.raw = player_json\n",
      "        self.games = [Game(g) for g in player_json[\"fixture_history\"][\"all\"]]\n",
      "        self.name = u\"{first_name} {second_name}\".format(**player_json)\n",
      "        self.cost = player_json[\"event_cost\"]\n",
      "        self.position = player_json[\"type_name\"]\n",
      "        self.team = team_abbreviations[player_json[\"team_name\"]]\n",
      "        self.idn = player_json[\"id\"]\n",
      "        self.news = player_json[\"news\"]\n",
      "        self.news_return = player_json[\"news_return\"]\n",
      "        self.pos = self.shortname(self.position)\n",
      "        self.upcoming = self.get_upcoming_fixtures(player_json[\"fixtures\"][\"all\"])\n",
      "    \n",
      "    def get_upcoming_fixtures(self, fixtures):\n",
      "        upcoming = []\n",
      "        for _, gameweek, opponent in fixtures:\n",
      "            week = int(gameweek.split()[-1])\n",
      "            if opponent == \"-\":\n",
      "                continue\n",
      "            opp, loc = opponent.split('(')\n",
      "            opp = team_abbreviations[opp.strip()]\n",
      "            loc = loc[0]\n",
      "            upcoming.append((week, opp, loc))\n",
      "        return upcoming\n",
      "    \n",
      "    def shortname(self, position):\n",
      "        pos_abbreviations = {\n",
      "            \"Goalkeeper\": \"gk\",\n",
      "            \"Defender\": \"d\",\n",
      "            \"Midfielder\": \"m\",\n",
      "            \"Forward\": \"f\"\n",
      "        }\n",
      "        \n",
      "        return pos_abbreviations[position]\n",
      "    \n",
      "    def __repr__(self):\n",
      "        return \"#%s %s %s \u00a3%s %s\" % (self.idn, self.team, self.name.encode(\"ascii\", \"ignore\"), self.cost, self.pos)\n",
      "\n",
      "    def __unicode__(self):\n",
      "        return \"#%s %s \u00a3%s %s\" % (self.idn, self.name, self.cost, self.pos)\n",
      "\n",
      "player_objs = [Player(p) for p in players.itervalues()]\n",
      "\n",
      "def find_player(needle):\n",
      "    return [p for p in player_objs if needle.lower() in p.name.lower()]"
     ],
     "language": "python",
     "metadata": {
      "slideshow": {
       "slide_type": "slide"
      }
     },
     "outputs": [],
     "prompt_number": 26
    },
    {
     "cell_type": "markdown",
     "metadata": {
      "slideshow": {
       "slide_type": "notes"
      }
     },
     "source": [
      "Now I had the data loaded, and was able to quickly ask and answer questions, but I had all kinds of magic numbers in the code. \n",
      "\n",
      "I needed to remember that a player's opponent is the 2nd field in a game array, his minutes is the 3rd, and his points is the 19th. It would be a lot nicer if I could wrap the player data in an object with convenient names for those fields.\n",
      "\n",
      "So I went ahead and wrote a wrapper object that takes the JSON output from the Fantasy league API and turns it into a handy python object.\n",
      "\n",
      "I don't want to go through this big hunk of code in detail, so instead I'll just tell you that the super nice thing about IPython Notebook is that you can code iteratively. When I actually created this code, it started as a very small and simple player class, with just his name, value, and points. As I needed more of the raw data, I went back to this cell in the notebook, edited the code, and re-ran it.\n",
      "\n",
      "You don't have to get it right the first time, so it's very low stress."
     ]
    },
    {
     "cell_type": "code",
     "collapsed": false,
     "input": [
      "p = find_player('Van Persie')[0]\n",
      "print p.name\n",
      "print p.position\n",
      "print p.cost\n",
      "print p.idn\n",
      "print p.upcoming[:3]  # upcoming games\n",
      "print p.games[:3]     # games he's already played\n",
      "print p.news\n",
      "print p"
     ],
     "language": "python",
     "metadata": {
      "slideshow": {
       "slide_type": "slide"
      }
     },
     "outputs": [
      {
       "output_type": "stream",
       "stream": "stdout",
       "text": [
        "Robin van Persie\n",
        "Forward\n",
        "136\n",
        "264\n",
        "[(25, 'FUL', u'H'), (26, 'ARS', u'A'), (27, 'CRY', u'A')]\n",
        "[Game vs. SWA A: 12 pts, Game vs. CHE H: 2 pts, Game vs. LIV A: 1 pts]"
       ]
      },
      {
       "output_type": "stream",
       "stream": "stdout",
       "text": [
        "\n",
        "\n",
        "#264 MUN Robin van Persie \u00a3136 f\n"
       ]
      }
     ],
     "prompt_number": 147
    },
    {
     "cell_type": "markdown",
     "metadata": {
      "slideshow": {
       "slide_type": "notes"
      }
     },
     "source": [
      "Here I'm just playing around a bit with the player object I showed you in the previous slide. Ipython auto-completes fields for me, so I can easily run quick sanity checks to make sure that I get the data I expect from the player object.\n",
      "\n",
      "Each player now has attributes for his name, position, and cost, an array of past and upcoming games, and other important information. It's a big step up from the raw array we were using before."
     ]
    },
    {
     "cell_type": "code",
     "collapsed": false,
     "input": [
      "homeaway = {\"A\": 0, \"H\": 0}\n",
      "n = 0.\n",
      "for player in player_objs:\n",
      "    #only consider full games to eliminate minute bias\n",
      "    for game in [p for p in player.games if p.minutes == 90]:\n",
      "        homeaway[game.loc] += game.points\n",
      "        n += 1\n",
      "\n",
      "homeaway[\"A\"] /= n\n",
      "homeaway[\"H\"] /= n\n",
      "\n",
      "homefield = homeaway[\"H\"] - homeaway[\"A\"]\n",
      "\n",
      "print homefield, homeaway\n",
      "\n",
      "fig, ax = plt.subplots(figsize=(2,4))\n",
      "x_pos = np.arange(0, len(homeaway.keys()))\n",
      "ax.set_xticks(x_pos+.4)\n",
      "ax.set_xticklabels([\"Away\", \"Home\"], rotation=45)\n",
      "ax.bar(x_pos, homeaway.values())\n",
      "fig.show()"
     ],
     "language": "python",
     "metadata": {
      "slideshow": {
       "slide_type": "slide"
      }
     },
     "outputs": [
      {
       "output_type": "stream",
       "stream": "stdout",
       "text": [
        "0.32794340576 {'A': 1.6139464375947448, 'H': 1.9418898433552298}\n"
       ]
      },
      {
       "metadata": {},
       "output_type": "display_data",
       "png": "[encoded data removed]",
       "text": [
        "<matplotlib.figure.Figure at 0x10a998690>"
       ]
      }
     ],
     "prompt_number": 27
    },
    {
     "cell_type": "markdown",
     "metadata": {
      "slideshow": {
       "slide_type": "notes"
      }
     },
     "source": [
      "Now it was even easier to run a third experiment: how valuable is homefiled advantage?\n",
      "\n",
      "So I wrote code to once again iterate through the players (using the objects this time), store their points in a dictionary keyed on whether the game was home or away, and display the results.\n",
      "\n",
      "The result was that homefield advantage looks like it's worth about .3 fantasy points. Less important than who you play (which was worth almost 2 points, remember), but still worth thinking about."
     ]
    },
    {
     "cell_type": "markdown",
     "metadata": {
      "slideshow": {
       "slide_type": "slide"
      }
     },
     "source": [
      "<center>\n",
      "![](files/images/timhoward.png)\n",
      "</center>"
     ]
    },
    {
     "cell_type": "markdown",
     "metadata": {
      "slideshow": {
       "slide_type": "notes"
      }
     },
     "source": [
      "At this point, I stopped playing around in ipython to think a bit. Now that I had my players where I could get at them in a handy data structure, and the ability to run experiments on them, I needed to figure out a way to model a player's future predicted points.\n",
      "\n",
      "Once I had that, I'd be 90% of the way home; I'd just need to solve for a team that maximizes predicted points while costing less than the amount of money you have to spend.\n",
      "\n",
      "I knew I already had enough data to include three important factors in my player performance model: what team they played against, whether the game was home and away, and how they had performed up to this point in the season.\n",
      "\n",
      "I thought about continuing to generate factors, running regressions to see which of them were actually important in predicting performance, and playing with machine learning techniques to generate a team.\n",
      "\n",
      "Ultimately, though, I decided that you could save all that for another day's experiments. After all, I had a team to run and a league to win. So I thought, maybe I could get away with a dirt-simple model?"
     ]
    },
    {
     "cell_type": "markdown",
     "metadata": {
      "slideshow": {
       "slide_type": "slide"
      }
     },
     "source": [
      "<h2 class=\"eq\">\n",
      "$ ev = \\sum_{i=0}^5 opp_i + home_i + adj\\_avg $\n",
      "</h2>"
     ]
    },
    {
     "cell_type": "markdown",
     "metadata": {
      "slideshow": {
       "slide_type": "notes"
      }
     },
     "source": [
      "So I took a guess at a simple model: Each player's expected value will be the sum of three factors. \n",
      "\n",
      "The first is a factor to compensate for their opponent; they gain points is their opponent is generous and lose them if they're stingy.\n",
      "\n",
      "The second is a factor for homefield advantage; they gain points for being at home and lose them for being away.\n",
      "\n",
      "The third is simply their past average score, adjusted for those opponent and homefield advantage factors."
     ]
    },
    {
     "cell_type": "code",
     "collapsed": false,
     "input": [
      "def adjusted_score(game):\n",
      "    pts = game.points\n",
      "    pts += homefield/2 if game.loc == \"A\" else -homefield/2\n",
      "    pts += avg_opponent - avgs[game.opp]\n",
      "    return pts\n",
      "    \n",
      "def adjusted_average(player):\n",
      "    return sum(adjusted_score(g) for g in player.games) / len(player.games)\n",
      "\n",
      "def game_value(game):\n",
      "    adj = 0\n",
      "    adj += homefield/2 if game[2] == \"H\" else -homefield/2\n",
      "    adj += avgs[game[1]] - avg_opponent\n",
      "    return adj\n",
      "    \n",
      "def expected_points(player, n=5):\n",
      "    \"\"\"return the number of expected points in the next n games\"\"\"\n",
      "    av = adjusted_average(player)\n",
      "    ev = 0.\n",
      "    for game in player.upcoming[:n]:\n",
      "        ev += av + game_value(game)\n",
      "    return ev/n\n",
      "\n",
      "print expected_points(find_player(u\"\u00d6zil\")[0])\n",
      "print expected_points(find_player(u\"Su\u00e1rez\")[0])\n",
      "print expected_points(find_player(u\"Yaya Tour\u00e9\")[0])\n",
      "print find_player(\"Rooney\")[0].expected_points()"
     ],
     "language": "python",
     "metadata": {
      "slideshow": {
       "slide_type": "slide"
      }
     },
     "outputs": [
      {
       "output_type": "stream",
       "stream": "stdout",
       "text": [
        "5.00089370373\n",
        "8.14701669057\n",
        "6.40384359526\n",
        "4.93353309248\n"
       ]
      }
     ],
     "prompt_number": 36
    },
    {
     "cell_type": "code",
     "collapsed": false,
     "input": [
      "# re-create our player objects, this time with our monkey-patched expected points function.\n",
      "# In Real Life\u2122, I would have just gone back to the player object and put it there, but that\n",
      "# wouldn't make sense in this presentation, since I don't introduce the model until later.\n",
      "Player.expected_points = expected_points\n",
      "player_objs = [Player(p) for p in players.itervalues()]\n",
      "player_objs[1].expected_points()"
     ],
     "language": "python",
     "metadata": {
      "slideshow": {
       "slide_type": "skip"
      }
     },
     "outputs": [
      {
       "metadata": {},
       "output_type": "pyout",
       "prompt_number": 52,
       "text": [
        "4.3687475700409664"
       ]
      }
     ],
     "prompt_number": 52
    },
    {
     "cell_type": "markdown",
     "metadata": {
      "slideshow": {
       "slide_type": "notes"
      }
     },
     "source": [
      "This code implements the model we just presented. It's easiest to read from the bottom up; let's start with `expected_points`.\n",
      "\n",
      "This function takes a player, gets their adjusted average fantasy points for the season so far, then returns the average expected points of their next 5 games, adjusted for opponent and homefield advantage.\n",
      "\n",
      "To do that adjustment, we have a pair of functions, `adjusted_score` and `game_value`, each of which simply takes a game and returns its adjusted value.\n",
      "\n",
      "We run the `expected_points` function a couple of times at the end just to make sure it's sensible.\n",
      "\n",
      "In this case, you see that Mesut \u00d6zil is expected to score about 5 points per game over the next 5 games, Luis Su\u00e1rez 8, and Yaya Tour\u00e9 about 6 and a half. I went and looked at the scores those players have been posting, and who their upcoming opponents are, and those results seem reasonable given that information."
     ]
    },
    {
     "cell_type": "markdown",
     "metadata": {
      "slideshow": {
       "slide_type": "slide"
      }
     },
     "source": [
      "Given the constraints:\n",
      "\n",
      "* Total player cost < 100\n",
      "* 2 goalkeepers\n",
      "* 5 defenders\n",
      "* 5 midfielders\n",
      "* 3 forwards\n",
      "\n",
      "**Maximize expected team value**"
     ]
    },
    {
     "cell_type": "markdown",
     "metadata": {
      "slideshow": {
       "slide_type": "notes"
      }
     },
     "source": [
      "Now, finally, I had all the data and a player model, so it was time to construct a team.\n",
      "\n",
      "Remember from before that we're after the answer to an optimization problem: I needed to pick a team of 15 players which costs less than \u00a3100 and fills up all the required player positions. Given those constraints, I wanted to pick the team that maximizes my expected fantasy point total."
     ]
    },
    {
     "cell_type": "markdown",
     "metadata": {
      "slideshow": {
       "slide_type": "slide"
      }
     },
     "source": [
      "Given this simple optimization problem:\n",
      "\n",
      "<pre>\n",
      "x1 >= 1\n",
      "x2 >= 1\n",
      "x1 + x2 >= 2\n",
      "minimize x1 + x2 where x1 is an integer\n",
      "</pre>\n",
      "\n",
      "<br>lp_solve takes a file that looks like:\n",
      "\n",
      "<pre>\n",
      "min: x1 + x2;\n",
      "x1 >= 1;\n",
      "x2 >= 1;\n",
      "x1 + x2 >= 2;\n",
      "int x1;\n",
      "</pre>\n",
      "\n",
      "<br>Which, when run, results in:\n",
      "\n",
      "<pre>\n",
      "$ lp_solve /tmp/simple_example\n",
      "Value of objective function: 2.00000000\n",
      "Actual values of the variables:\n",
      "x1                              1\n",
      "x2                              1\n",
      "</pre>"
     ]
    },
    {
     "cell_type": "markdown",
     "metadata": {
      "slideshow": {
       "slide_type": "notes"
      }
     },
     "source": [
      "Unfortunately, scipy doesn't have any handy functions to solve this type of problem, so I had to look elsewhere. When I did, I discovered a pretty simple program called lp_solve.\n",
      "\n",
      "lp_solve is pretty simple: it allows you to phrase an optimization problem in a simple file format, which you then pass to lp_solve to get an answer.\n",
      "\n",
      "For a simple demonstration of how it works, we give it three constraints:\n",
      "\n",
      "* x1 >= 1\n",
      "* x2 >= 1\n",
      "* x1 + x2 >= 2\n",
      "\n",
      "and ask it to minimize the sum of x1 + x2 given those constraints.\n",
      "\n",
      "It tells us, of course, that x1 == x2 == 1\n",
      "\n",
      "*notes*: Give them time to read that? Have more explanation? Even simpler example?"
     ]
    },
    {
     "cell_type": "markdown",
     "metadata": {
      "slideshow": {
       "slide_type": "slide"
      }
     },
     "source": [
      "<pre>\n",
      "max: 5.6 gk1 + 4.3 mf2 + 3.8 d3 ...;  /* maximize expected points */\n",
      "3.7 gk1 + 9.3 mf2 + 4.6 d3 ... < 100; /* team must cost <100\u00a3     */\n",
      "gk1 + gk12 + gk36 + ... = 2;          /* limit to 2 goalkeepers   */\n",
      "d3 + d4 + d8 + ... = 5;               /* limit to 5 defenders     */\n",
      "...                                   /* repeat for all positions */\n",
      "bin gk1, mf2, d3, f4, d5, ....;       /* all variables are binary */\n",
      "</pre>"
     ]
    },
    {
     "cell_type": "markdown",
     "metadata": {
      "slideshow": {
       "slide_type": "notes"
      }
     },
     "source": [
      "The file I ended up passing to lp_solve isn't a whole lot different from that simple example; I just translated the fantasy football problem into a maximization problem using the values we already discussed.\n",
      "\n",
      "lp_solve supports binary variables, so I made a variable to represent each player in the data set, consisting of their position and id number. For example, if player 2 is a midfielder, he'll be represented by mf2, as above.\n",
      "\n",
      "The value we want to maximize is the expected point total of the players we choose.\n",
      "\n",
      "The first constraint is our cost constraint; we want to make sure we can afford to buy the team the program picks.\n",
      "\n",
      "Then there are four constraints, one for each position; we limit lp_solve to choosing 2 goalkeepers, 5 defenders, 5 midfielders, and 3 forwards."
     ]
    },
    {
     "cell_type": "code",
     "collapsed": false,
     "input": [
      "def objective_function():\n",
      "    m = \" + \".join(\"{ev} {p.pos}{p.idn}\".format(p=p, ev=p.expected_points())\n",
      "                              for p in player_objs)\n",
      "    \n",
      "    return \"max: \" + m + \";\\n\""
     ],
     "language": "python",
     "metadata": {
      "slideshow": {
       "slide_type": "slide"
      }
     },
     "outputs": [],
     "prompt_number": 53
    },
    {
     "cell_type": "markdown",
     "metadata": {
      "slideshow": {
       "slide_type": "notes"
      }
     },
     "source": [
      "First, I wrote a function to output a maximization criteria. All it does is iterate through all players and join each player together, weighted by their expected point value.\n",
      "\n",
      "This creates the expression lp_solve will be trying to maximize."
     ]
    },
    {
     "cell_type": "code",
     "collapsed": false,
     "input": [
      "def cost_constraint(max_price):\n",
      "    c = \" + \".join(\"{p.cost} {p.pos}{p.idn}\".format(p=p)\n",
      "                            for p in player_objs)\n",
      "    \n",
      "    return \"cost_constraint: \" + c + \" <= %s;\\n\" % max_price"
     ],
     "language": "python",
     "metadata": {
      "slideshow": {
       "slide_type": "slide"
      }
     },
     "outputs": [],
     "prompt_number": 44
    },
    {
     "cell_type": "markdown",
     "metadata": {
      "slideshow": {
       "slide_type": "notes"
      }
     },
     "source": [
      "Next, I wrote a very similar function to add a cost constraint. Again it loops through all players, but this time it weights them by their cost."
     ]
    },
    {
     "cell_type": "code",
     "collapsed": false,
     "input": [
      "def position_constraints():\n",
      "    constraints = StringIO.StringIO()\n",
      "\n",
      "    gks = [p for p in player_objs if p.position == \"Goalkeeper\"]\n",
      "    gk_list = \" + \".join((\"gk{p.idn}\".format(**locals()) for p in gks))\n",
      "    constraints.write(\"gk_limit: \" + gk_list + \" = 2;\\n\")\n",
      "    \n",
      "    ds = [p for p in player_objs if p.position == \"Defender\"]\n",
      "    d_list = \" + \".join((\"d{p.idn}\".format(**locals()) for p in ds))\n",
      "    constraints.write(\"d_limit: \" + d_list + \" = 5;\\n\")\n",
      "    \n",
      "    ms = [p for p in player_objs if p.position == \"Midfielder\"]\n",
      "    m_list = \" + \".join((\"m{p.idn}\".format(**locals()) for p in ms))\n",
      "    constraints.write(\"m_limit: \" + m_list + \" = 5;\\n\")\n",
      "    \n",
      "    fs = [p for p in player_objs if p.position == \"Forward\"]\n",
      "    f_list = \" + \".join((\"f{p.idn}\".format(**locals()) for p in fs))\n",
      "    constraints.write(\"f_limit: \" + f_list + \" = 3;\\n\")\n",
      "    \n",
      "    return constraints.getvalue()"
     ],
     "language": "python",
     "metadata": {
      "slideshow": {
       "slide_type": "slide"
      }
     },
     "outputs": [],
     "prompt_number": 45
    },
    {
     "cell_type": "code",
     "collapsed": false,
     "input": [
      "#create a buffer to hold all the constraints\n",
      "buf = StringIO.StringIO()\n",
      "buf.write(objective_function())\n",
      "buf.write(cost_constraint(1000))\n",
      "buf.write(position_constraints())\n",
      "\n",
      "# I've skipped this, it's probably easier to skip the declaration of all the variable names?\n",
      "# not very exciting\n",
      "def all_player_variables():\n",
      "    variables = \", \".join(\"{p.pos}{p.idn}\".format(**locals()) for p in player_objs)\n",
      "    return \"bin %s;\\n\" % variables\n",
      "\n",
      "buf.write(all_player_variables())"
     ],
     "language": "python",
     "metadata": {
      "slideshow": {
       "slide_type": "skip"
      }
     },
     "outputs": [],
     "prompt_number": 57
    },
    {
     "cell_type": "markdown",
     "metadata": {
      "slideshow": {
       "slide_type": "notes"
      }
     },
     "source": [
      "Finally, we add a constraint for each position.  This code writes four constraints, which together limit the solver to choosing 2 goalkeepers, 5 defenders, 5 midfielders, and 3 forwards.\n",
      "\n",
      "It does so by building  a list of each player at each position, and limiting the sum of that position to the appropriate number.\n",
      "\n",
      "Each player variable is a binary value; 1 if they're on the team or 0 if they're not, so the ability to add them up to limit the number of players comes in handy."
     ]
    },
    {
     "cell_type": "code",
     "collapsed": false,
     "input": [
      "import subprocess, re\n",
      "\n",
      "def get_id(idn):\n",
      "    \"\"\"given an id, return a player\"\"\"\n",
      "    for p in player_objs:\n",
      "        if p.idn == idn: return p\n",
      "    raise ValueError(\"Unable to find player\")\n",
      "    \n",
      "def return_team(lp):\n",
      "    \"\"\"run lp_solve on the file lp. return a list of player objects\"\"\"\n",
      "    val = subprocess.check_output(\"echo '%s' | lp_solve\" % lp, shell=True).split('\\n')\n",
      "    team_ids = [int(re.search(\"^\\w+?(\\d+)\", l).group(1)) for l in val if re.search(r\" 1$\", l)]\n",
      "    return map(lambda x: get_id(int(x)), team_ids)\n",
      "\n",
      "return_team(buf.getvalue())"
     ],
     "language": "python",
     "metadata": {
      "slideshow": {
       "slide_type": "slide"
      }
     },
     "outputs": [
      {
       "metadata": {},
       "output_type": "pyout",
       "prompt_number": 58,
       "text": [
        "[#2 ARS Wojciech Szczesny \u00a360 gk,\n",
        " #8 ARS Per Mertesacker \u00a366 d,\n",
        " #46 AVL Leandro Bacuna \u00a344 m,\n",
        " #63 CAR Pete Whittingham \u00a353 m,\n",
        " #69 CAR Jordan Mutch \u00a346 m,\n",
        " #82 CHE John Terry \u00a367 d,\n",
        " #130 EVE Seamus Coleman \u00a366 d,\n",
        " #214 LIV Luis Surez \u00a3134 f,\n",
        " #232 MCI Gnegneri Yaya Tour \u00a3101 m,\n",
        " #297 NOR John Ruddy \u00a349 gk,\n",
        " #326 SOU Jose Fonte \u00a352 d,\n",
        " #328 SOU Luke Shaw \u00a349 d,\n",
        " #333 SOU Adam Lallana \u00a377 m,\n",
        " #342 SOU Rickie Lambert \u00a370 f,\n",
        " #343 SOU Jay Rodriguez \u00a364 f]"
       ]
      }
     ],
     "prompt_number": 58
    },
    {
     "cell_type": "markdown",
     "metadata": {
      "slideshow": {
       "slide_type": "notes"
      }
     },
     "source": [
      "So you write code to generate the lp_solve file described above, run it through the lp_solve, and success! A valid team pops out the other end.\n",
      "\n",
      "You've now written code to pick a fantasy football team. There are a million improvements you imagine you could make to your model... but you're already a few hours in and think it might be time to wrap it up."
     ]
    },
    {
     "cell_type": "code",
     "collapsed": false,
     "input": [
      "%run talktools"
     ],
     "language": "python",
     "metadata": {
      "slideshow": {
       "slide_type": "skip"
      }
     },
     "outputs": [
      {
       "html": [
        "<style>\n",
        "\n",
        "/* https://github.com/ipython/ipython/issues/4248 */\n",
        ".reveal h4 .roll { line-height: 1.5; }\n",
        ".reveal pre { font-size: 80%; }\n",
        ".rendered_html\n",
        "{\n",
        "  color: #2C5494;\n",
        "  font-family: Ubuntu;\n",
        "  font-size: 140%;\n",
        "  line-height: 1.1;\n",
        "  margin: 0.5em 0;\n",
        "  }\n",
        "\n",
        ".title\n",
        "{\n",
        "  color: #498AF3;\n",
        "  font-size: 250%;\n",
        "  font-weight:bold;\n",
        "  line-height: 1.2;\n",
        "  margin: 10px 50px 10px;\n",
        "  }\n",
        "\n",
        ".subtitle\n",
        "{\n",
        "  color: #386BBC;\n",
        "  font-size: 180%;\n",
        "  font-weight:bold;\n",
        "  line-height: 1.2;\n",
        "  margin: 20px 50px 20px;\n",
        "  }\n",
        "\n",
        ".slide-header, p.slide-header\n",
        "{\n",
        "  color: #498AF3;\n",
        "  font-size: 200%;\n",
        "  font-weight:bold;\n",
        "  margin: 0px 20px 10px;\n",
        "  page-break-before: always;\n",
        "  text-align: center;\n",
        "  }\n",
        "\n",
        ".rendered_html h1\n",
        "{\n",
        "  color: #498AF3;\n",
        "  line-height: 1.2;\n",
        "  margin: 0.15em 0em 0.5em;\n",
        "  page-break-before: always;\n",
        "  text-align: center;\n",
        "  }\n",
        "\n",
        "\n",
        ".rendered_html h2\n",
        "{\n",
        "  color: #386BBC;\n",
        "  line-height: 1.2;\n",
        "  margin: 1.1em 0em 0.5em;\n",
        "  text-align: center;\n",
        "  }\n",
        "\n",
        ".rendered_html h3\n",
        "{\n",
        "  line-height: 1.2;\n",
        "  margin: 2.1em 0em 1.1em;\n",
        "  }\n",
        "\n",
        ".rendered_html h4\n",
        "{\n",
        "  font-size: 100%;\n",
        "  line-height: 1.4;\n",
        "  margin: 1.1em 0em 0.5em;\n",
        "  }\n",
        "\n",
        ".rendered_html li\n",
        "{\n",
        "  line-height: 1.8;\n",
        "  }\n",
        "\n",
        ".input_prompt, .CodeMirror-lines, .output_area\n",
        "{\n",
        "  font-family: Consolas;\n",
        "  font-size: 120%;\n",
        "  }\n",
        "\n",
        ".gap-above\n",
        "{\n",
        "  padding-top: 200px;\n",
        "  }\n",
        "\n",
        ".gap01\n",
        "{\n",
        "  padding-top: 10px;\n",
        "  }\n",
        "\n",
        ".gap05\n",
        "{\n",
        "  padding-top: 50px;\n",
        "  }\n",
        "\n",
        ".gap1\n",
        "{\n",
        "  padding-top: 100px;\n",
        "  }\n",
        "\n",
        ".gap2\n",
        "{\n",
        "  padding-top: 200px;\n",
        "  }\n",
        "\n",
        ".gap3\n",
        "{\n",
        "  padding-top: 300px;\n",
        "  }\n",
        "\n",
        ".emph\n",
        "{\n",
        "  color: #386BBC;\n",
        "  }\n",
        "\n",
        ".warn\n",
        "{\n",
        "  color: red;\n",
        "  }\n",
        "\n",
        ".center\n",
        "{\n",
        "  text-align: center;\n",
        "  }\n",
        "\n",
        ".nb_link\n",
        "{\n",
        "    padding-bottom: 0.5em;\n",
        "}\n",
        "\n",
        "</style>\n"
       ],
       "metadata": {},
       "output_type": "display_data",
       "text": [
        "<IPython.core.display.HTML at 0x10eadcc90>"
       ]
      }
     ],
     "prompt_number": 29
    },
    {
     "cell_type": "markdown",
     "metadata": {},
     "source": [
      "*Sam notes:*\n",
      "\n",
      "* Could be interesting to have some scoring details or soccer stories\n",
      "* Careful with points/goals terminology, listeners could be confused\n",
      "* Replace equations slide, too much\n",
      "* Move home/away slide to in front of model creation section\n",
      "* More soccer pictures"
     ]
    },
    {
     "cell_type": "code",
     "collapsed": false,
     "input": [],
     "language": "python",
     "metadata": {},
     "outputs": []
    }
   ],
   "metadata": {}
  }
 ]
}