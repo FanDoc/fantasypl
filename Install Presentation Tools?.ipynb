{
 "metadata": {
  "name": ""
 },
 "nbformat": 3,
 "nbformat_minor": 0,
 "worksheets": [
  {
   "cells": [
    {
     "cell_type": "code",
     "collapsed": false,
     "input": [
      "profile_dir = get_ipython().profile_dir.location\n",
      "profile_dir"
     ],
     "language": "python",
     "metadata": {},
     "outputs": [
      {
       "metadata": {},
       "output_type": "pyout",
       "prompt_number": 1,
       "text": [
        "u'/Users/bill/.ipython/profile_default'"
       ]
      }
     ],
     "prompt_number": 1
    },
    {
     "cell_type": "code",
     "collapsed": false,
     "input": [
      "import os\n",
      "tgt = os.path.join( profile_dir, 'static', 'custom')\n",
      "!git clone https://github.com/ipython-contrib/IPython-notebook-extensions.git $tgt"
     ],
     "language": "python",
     "metadata": {},
     "outputs": [
      {
       "output_type": "stream",
       "stream": "stdout",
       "text": [
        "Cloning into '/Users/bill/.ipython/profile_default/static/custom'...\r\n"
       ]
      },
      {
       "output_type": "stream",
       "stream": "stdout",
       "text": [
        "remote: Reusing existing pack: 599, done.\u001b[K\r\n"
       ]
      },
      {
       "output_type": "stream",
       "stream": "stdout",
       "text": [
        "Receiving objects:   0% (1/599)   \r",
        "Receiving objects:   1% (6/599)   \r",
        "Receiving objects:   2% (12/599)   \r",
        "Receiving objects:   3% (18/599)   \r",
        "Receiving objects:   4% (24/599)   \r",
        "Receiving objects:   5% (30/599)   \r",
        "Receiving objects:   6% (36/599)   \r",
        "Receiving objects:   7% (42/599)   \r"
       ]
      },
      {
       "output_type": "stream",
       "stream": "stdout",
       "text": [
        "Receiving objects:   8% (48/599)   \r",
        "Receiving objects:   9% (54/599)   \r",
        "Receiving objects:  10% (60/599)   \r",
        "Receiving objects:  11% (66/599)   \r",
        "Receiving objects:  12% (72/599)   \r",
        "Receiving objects:  13% (78/599)   \r",
        "Receiving objects:  14% (84/599)   \r",
        "Receiving objects:  15% (90/599)   \r",
        "Receiving objects:  16% (96/599)   \r",
        "Receiving objects:  17% (102/599)   \r",
        "Receiving objects:  18% (108/599)   \r",
        "Receiving objects:  19% (114/599)   \r",
        "Receiving objects:  20% (120/599)   \r",
        "Receiving objects:  21% (126/599)   \r",
        "Receiving objects:  22% (132/599)   \r",
        "Receiving objects:  23% (138/599)   \r",
        "Receiving objects:  24% (144/599)   \r",
        "Receiving objects:  25% (150/599)   \r",
        "Receiving objects:  26% (156/599)   \r",
        "Receiving objects:  27% (162/599)   \r",
        "Receiving objects:  28% (168/599)   \r",
        "Receiving objects:  29% (174/599)   \r"
       ]
      },
      {
       "output_type": "stream",
       "stream": "stdout",
       "text": [
        "Receiving objects:  30% (180/599)   \r",
        "Receiving objects:  31% (186/599)   \r"
       ]
      },
      {
       "output_type": "stream",
       "stream": "stdout",
       "text": [
        "Receiving objects:  32% (192/599)   \r"
       ]
      },
      {
       "output_type": "stream",
       "stream": "stdout",
       "text": [
        "Receiving objects:  33% (198/599)   \r"
       ]
      },
      {
       "output_type": "stream",
       "stream": "stdout",
       "text": [
        "Receiving objects:  33% (200/599), 1.15 MiB | 1.13 MiB/s   \r"
       ]
      },
      {
       "output_type": "stream",
       "stream": "stdout",
       "text": [
        "Receiving objects:  34% (204/599), 1.78 MiB | 1.16 MiB/s   \r"
       ]
      },
      {
       "output_type": "stream",
       "stream": "stdout",
       "text": [
        "Receiving objects:  35% (210/599), 1.78 MiB | 1.16 MiB/s   \r",
        "Receiving objects:  36% (216/599), 1.78 MiB | 1.16 MiB/s   \r",
        "Receiving objects:  37% (222/599), 1.78 MiB | 1.16 MiB/s   \r",
        "Receiving objects:  38% (228/599), 1.78 MiB | 1.16 MiB/s   \r",
        "Receiving objects:  39% (234/599), 1.78 MiB | 1.16 MiB/s   \r",
        "Receiving objects:  40% (240/599), 1.78 MiB | 1.16 MiB/s   \r",
        "Receiving objects:  41% (246/599), 1.78 MiB | 1.16 MiB/s   \r",
        "Receiving objects:  42% (252/599), 1.78 MiB | 1.16 MiB/s   \r"
       ]
      },
      {
       "output_type": "stream",
       "stream": "stdout",
       "text": [
        "Receiving objects:  43% (258/599), 1.78 MiB | 1.16 MiB/s   \r"
       ]
      },
      {
       "output_type": "stream",
       "stream": "stdout",
       "text": [
        "Receiving objects:  44% (264/599), 1.78 MiB | 1.16 MiB/s   \r"
       ]
      },
      {
       "output_type": "stream",
       "stream": "stdout",
       "text": [
        "Receiving objects:  44% (268/599), 1.78 MiB | 1.16 MiB/s   \r",
        "Receiving objects:  45% (270/599), 1.78 MiB | 1.16 MiB/s   \r",
        "Receiving objects:  46% (276/599), 1.78 MiB | 1.16 MiB/s   \r",
        "Receiving objects:  47% (282/599), 1.78 MiB | 1.16 MiB/s   \r",
        "Receiving objects:  48% (288/599), 1.78 MiB | 1.16 MiB/s   \r",
        "Receiving objects:  49% (294/599), 1.78 MiB | 1.16 MiB/s   \r",
        "Receiving objects:  50% (300/599), 1.78 MiB | 1.16 MiB/s   \r",
        "Receiving objects:  51% (306/599), 1.78 MiB | 1.16 MiB/s   \r",
        "Receiving objects:  52% (312/599), 1.78 MiB | 1.16 MiB/s   \r",
        "Receiving objects:  53% (318/599), 1.78 MiB | 1.16 MiB/s   \r",
        "Receiving objects:  54% (324/599), 1.78 MiB | 1.16 MiB/s   \r",
        "Receiving objects:  55% (330/599), 1.78 MiB | 1.16 MiB/s   \r",
        "Receiving objects:  56% (336/599), 1.78 MiB | 1.16 MiB/s   \r",
        "Receiving objects:  57% (342/599), 1.78 MiB | 1.16 MiB/s   \r",
        "Receiving objects:  58% (348/599), 1.78 MiB | 1.16 MiB/s   \r",
        "Receiving objects:  59% (354/599), 1.78 MiB | 1.16 MiB/s   \r"
       ]
      },
      {
       "output_type": "stream",
       "stream": "stdout",
       "text": [
        "Receiving objects:  60% (360/599), 2.40 MiB | 1.18 MiB/s   \r",
        "Receiving objects:  61% (366/599), 2.40 MiB | 1.18 MiB/s   \r",
        "Receiving objects:  62% (372/599), 2.40 MiB | 1.18 MiB/s   \r",
        "Receiving objects:  63% (378/599), 2.40 MiB | 1.18 MiB/s   \r",
        "Receiving objects:  64% (384/599), 2.40 MiB | 1.18 MiB/s   \r",
        "Receiving objects:  65% (390/599), 2.40 MiB | 1.18 MiB/s   \r",
        "Receiving objects:  66% (396/599), 2.40 MiB | 1.18 MiB/s   \r",
        "Receiving objects:  67% (402/599), 2.40 MiB | 1.18 MiB/s   \r",
        "Receiving objects:  68% (408/599), 2.40 MiB | 1.18 MiB/s   \r",
        "Receiving objects:  69% (414/599), 2.40 MiB | 1.18 MiB/s   \r",
        "Receiving objects:  70% (420/599), 2.40 MiB | 1.18 MiB/s   \r",
        "Receiving objects:  71% (426/599), 2.40 MiB | 1.18 MiB/s   \r",
        "Receiving objects:  72% (432/599), 2.40 MiB | 1.18 MiB/s   \r",
        "Receiving objects:  73% (438/599), 2.40 MiB | 1.18 MiB/s   \r",
        "Receiving objects:  74% (444/599), 2.40 MiB | 1.18 MiB/s   \r",
        "Receiving objects:  75% (450/599), 2.40 MiB | 1.18 MiB/s   \r",
        "Receiving objects:  76% (456/599), 2.40 MiB | 1.18 MiB/s   \r",
        "Receiving objects:  77% (462/599), 2.40 MiB | 1.18 MiB/s   \r",
        "Receiving objects:  78% (468/599), 2.40 MiB | 1.18 MiB/s   \r",
        "remote: Total 599 (delta 0), reused 0 (delta 0)\u001b[K\r\n",
        "Receiving objects:  79% (474/599), 2.40 MiB | 1.18 MiB/s   \r",
        "Receiving objects:  80% (480/599), 2.40 MiB | 1.18 MiB/s   \r",
        "Receiving objects:  81% (486/599), 2.40 MiB | 1.18 MiB/s   \r",
        "Receiving objects:  82% (492/599), 2.40 MiB | 1.18 MiB/s   \r",
        "Receiving objects:  83% (498/599), 2.40 MiB | 1.18 MiB/s   \r",
        "Receiving objects:  84% (504/599), 2.40 MiB | 1.18 MiB/s   \r",
        "Receiving objects:  85% (510/599), 2.40 MiB | 1.18 MiB/s   \r",
        "Receiving objects:  86% (516/599), 2.40 MiB | 1.18 MiB/s   \r",
        "Receiving objects:  87% (522/599), 2.40 MiB | 1.18 MiB/s   \r",
        "Receiving objects:  88% (528/599), 2.40 MiB | 1.18 MiB/s   \r",
        "Receiving objects:  89% (534/599), 2.40 MiB | 1.18 MiB/s   \r",
        "Receiving objects:  90% (540/599), 2.40 MiB | 1.18 MiB/s   \r",
        "Receiving objects:  91% (546/599), 2.40 MiB | 1.18 MiB/s   \r",
        "Receiving objects:  92% (552/599), 2.40 MiB | 1.18 MiB/s   \r",
        "Receiving objects:  93% (558/599), 2.40 MiB | 1.18 MiB/s   \r",
        "Receiving objects:  94% (564/599), 2.40 MiB | 1.18 MiB/s   \r",
        "Receiving objects:  95% (570/599), 2.40 MiB | 1.18 MiB/s   \r",
        "Receiving objects:  96% (576/599), 2.40 MiB | 1.18 MiB/s   \r",
        "Receiving objects:  97% (582/599), 2.40 MiB | 1.18 MiB/s   \r",
        "Receiving objects:  98% (588/599), 2.40 MiB | 1.18 MiB/s   \r",
        "Receiving objects:  99% (594/599), 2.40 MiB | 1.18 MiB/s   \r",
        "Receiving objects: 100% (599/599), 2.40 MiB | 1.18 MiB/s   \r",
        "Receiving objects: 100% (599/599), 2.44 MiB | 1.18 MiB/s, done.\r\n",
        "Resolving deltas:   0% (0/241)   \r",
        "Resolving deltas:   1% (3/241)   \r",
        "Resolving deltas:   3% (8/241)   \r",
        "Resolving deltas:   4% (12/241)   \r",
        "Resolving deltas:   6% (15/241)   \r",
        "Resolving deltas:   7% (17/241)   \r",
        "Resolving deltas:   8% (21/241)   \r",
        "Resolving deltas:  13% (32/241)   \r",
        "Resolving deltas:  14% (34/241)   \r",
        "Resolving deltas:  15% (37/241)   \r",
        "Resolving deltas:  22% (54/241)   \r",
        "Resolving deltas:  23% (56/241)   \r",
        "Resolving deltas:  24% (58/241)   \r",
        "Resolving deltas:  26% (65/241)   \r",
        "Resolving deltas:  27% (66/241)   \r",
        "Resolving deltas:  29% (70/241)   \r",
        "Resolving deltas:  31% (76/241)   \r",
        "Resolving deltas:  33% (80/241)   \r",
        "Resolving deltas:  34% (82/241)   \r",
        "Resolving deltas:  36% (87/241)   \r",
        "Resolving deltas:  38% (92/241)   \r",
        "Resolving deltas:  39% (94/241)   \r",
        "Resolving deltas:  41% (100/241)   \r",
        "Resolving deltas:  43% (106/241)   \r",
        "Resolving deltas:  46% (113/241)   \r",
        "Resolving deltas:  52% (126/241)   \r",
        "Resolving deltas:  53% (129/241)   \r",
        "Resolving deltas:  57% (138/241)   \r",
        "Resolving deltas:  59% (143/241)   \r",
        "Resolving deltas:  63% (154/241)   \r",
        "Resolving deltas:  64% (155/241)   \r",
        "Resolving deltas:  65% (158/241)   \r",
        "Resolving deltas:  66% (160/241)   \r",
        "Resolving deltas:  67% (162/241)   \r",
        "Resolving deltas:  76% (184/241)   \r",
        "Resolving deltas:  79% (191/241)   \r",
        "Resolving deltas:  81% (197/241)   \r",
        "Resolving deltas:  85% (207/241)   \r",
        "Resolving deltas:  87% (210/241)   \r",
        "Resolving deltas:  88% (213/241)   \r",
        "Resolving deltas:  90% (217/241)   \r",
        "Resolving deltas:  91% (220/241)   \r",
        "Resolving deltas:  92% (224/241)   \r",
        "Resolving deltas:  93% (225/241)   \r",
        "Resolving deltas:  94% (228/241)   \r",
        "Resolving deltas:  95% (229/241)   \r",
        "Resolving deltas:  96% (232/241)   \r",
        "Resolving deltas:  97% (234/241)   \r",
        "Resolving deltas: 100% (241/241)   \r",
        "Resolving deltas: 100% (241/241), done.\r\n"
       ]
      }
     ],
     "prompt_number": 2
    },
    {
     "cell_type": "code",
     "collapsed": false,
     "input": [
      "%cd $tgt\n",
      "!ls"
     ],
     "language": "python",
     "metadata": {},
     "outputs": [
      {
       "output_type": "stream",
       "stream": "stdout",
       "text": [
        "/Users/bill/.ipython/profile_default/static/custom\n",
        "README.md                helper-functions.js      \u001b[33mpublishing\u001b[m\u001b[m               \u001b[33mstyling\u001b[m\u001b[m                  \u001b[33musability\u001b[m\u001b[m\r\n",
        "custom.example.js        hierarchical_collapse.js \u001b[33mslidemode\u001b[m\u001b[m                \u001b[33mtesting\u001b[m\u001b[m                  \u001b[33mwiki-images\u001b[m\u001b[m\r\n"
       ]
      }
     ],
     "prompt_number": 3
    },
    {
     "cell_type": "code",
     "collapsed": false,
     "input": [],
     "language": "python",
     "metadata": {},
     "outputs": []
    }
   ],
   "metadata": {}
  }
 ]
}