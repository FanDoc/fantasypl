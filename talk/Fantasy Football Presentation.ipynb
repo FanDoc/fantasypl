{
 "metadata": {
  "name": ""
 },
 "nbformat": 3,
 "nbformat_minor": 0,
 "worksheets": [
  {
   "cells": [
    {
     "cell_type": "markdown",
     "metadata": {
      "slideshow": {
       "slide_type": "slide"
      }
     },
     "source": [
      "<p class=\"title\">Choosing a Fantasy Football Team</p>\n",
      "\n",
      "<p class=\"subtitle\">co-starring: IPython Notebook, requests, scipy, and lpsolve</p>\n",
      "\n",
      "<center>\n",
      "\n",
      "<p class=\"gap05\"<p>\n",
      "<h3>Bill Mill</h3>\n",
      "<h4>[billmill.org](http://billmill.org)</h4>\n",
      "<h4>[@llimllib](http://twitter.com/llimllib)</h4>\n",
      "\n",
      "<p class=\"gap2\"<p>\n",
      "</center>"
     ]
    },
    {
     "cell_type": "markdown",
     "metadata": {
      "slideshow": {
       "slide_type": "notes"
      }
     },
     "source": [
      "Hello, and thanks for coming. My name's Bill Mill, and I'm here to talk to you about choosing a fantasy football team with IPython, requests, scip, and lpsolve."
     ]
    },
    {
     "cell_type": "markdown",
     "metadata": {
      "slideshow": {
       "slide_type": "slide"
      }
     },
     "source": [
      "# Let's say you play Fantasy Football\n",
      "\n",
      "![](files/images/benat.jpg) **not** ![](files/images/lynch.jpg)"
     ]
    },
    {
     "cell_type": "markdown",
     "metadata": {
      "slideshow": {
       "slide_type": "notes"
      }
     },
     "source": [
      "Imagine that your friend has just suckered you into playing Fantasy Football... the type with round balls, rather than oblong ones. Imagine furthermore that you don't know what the heck you're doing, but you're determined that you can do well. In that case, you'd want to start by figuring out how the heck this game works."
     ]
    },
    {
     "cell_type": "markdown",
     "metadata": {
      "slideshow": {
       "slide_type": "slide"
      }
     },
     "source": [
      "# You Have a Team\n",
      "<center>\n",
      "![](files/images/screen.png)\n",
      "</center>"
     ]
    },
    {
     "cell_type": "markdown",
     "metadata": {
      "slideshow": {
       "slide_type": "notes"
      }
     },
     "source": [
      "In Fantasy Football, you have a team of 15 players. You have 11 starters and 4 subs for each gameweek. You score points based on how well your players do: goals, assists, and preventing the other team from scoring all gain you points."
     ]
    },
    {
     "cell_type": "markdown",
     "metadata": {
      "slideshow": {
       "slide_type": "slide"
      }
     },
     "source": [
      "# You have a limited budget\n",
      "<center>\n",
      "![](files/images/bank.jpg)\n",
      "</center>\n",
      "    \n",
      "# And each player costs a certain amount\n",
      "<center>\n",
      "![](files/images/prices.jpg)\n",
      "</center>"
     ]
    },
    {
     "cell_type": "markdown",
     "metadata": {
      "slideshow": {
       "slide_type": "notes"
      }
     },
     "source": [
      "As you assemble your team, you have one big constraint: each player costs a certain amount of money, and you have a limited bankroll. So, to assemble your team, you want to choose the 15 players that will score the most points *given* that they cost less than your bank account."
     ]
    },
    {
     "cell_type": "markdown",
     "metadata": {
      "slideshow": {
       "slide_type": "slide"
      }
     },
     "source": [
      "<center>\n",
      "<h1>That sounds like an optimization problem...</h1>\n",
      "\n",
      "<h2>I bet I could solve that with code</h2>\n",
      "</center>"
     ]
    },
    {
     "cell_type": "markdown",
     "metadata": {
      "slideshow": {
       "slide_type": "notes"
      }
     },
     "source": [
      "At this point, you might think, hey! Instead of picking randomly, I bet I could use my computer to try and pick a good team for me."
     ]
    },
    {
     "cell_type": "markdown",
     "metadata": {
      "slideshow": {
       "slide_type": "slide"
      }
     },
     "source": [
      "# Let's see if we can get the data...\n",
      "\n",
      "<center>\n",
      "![](/files/images/api.png)\n",
      "</center>"
     ]
    },
    {
     "cell_type": "markdown",
     "metadata": {
      "slideshow": {
       "slide_type": "notes"
      }
     },
     "source": [
      "So once you decide it might be nice to use your computer, the first thing you need to do is gather data for all the players in the Premier League. You discover there's no official API, so you open up your trusty Chrome inspector, and what's that you see? An endpoint called /web/api? Well, I don't mind if I do! Let's try some hacking!"
     ]
    },
    {
     "cell_type": "code",
     "collapsed": false,
     "input": [
      "import requests, cPickle, shutil, time\n",
      "\n",
      "all = {}\n",
      "errorout = open(\"errors.log\", \"w\")\n",
      "\n",
      "for i in range(600):\n",
      "    playerurl = \"http://fantasy.premierleague.com/web/api/elements/%s/\"\n",
      "    r = requests.get(playerurl % i)\n",
      "\n",
      "    if r.status_code != 200: continue\n",
      "\n",
      "    if i%10 == 0: print i\n",
      "\n",
      "    try:\n",
      "        all[i] = r.json()\n",
      "    except ValueError:\n",
      "        print \"failed parsing player %s\" % i\n",
      "        errorout.write(\"Failed to parse player %s: %s\\n\" % (i, r.content))\n",
      "\n",
      "cPickle.dump(all, outfile)"
     ],
     "language": "python",
     "metadata": {
      "slideshow": {
       "slide_type": "slide"
      }
     },
     "outputs": []
    },
    {
     "cell_type": "markdown",
     "metadata": {
      "slideshow": {
       "slide_type": "notes"
      }
     },
     "source": [
      "In playing with it, you discover that each player has an ID between 0 and 600, though some IDs are not taken. The endpoint is indeed JSON, so it's easy to download and parse. So you write a little script to get all the data on all the players, stick it in a dictionary, and save it to a file."
     ]
    },
    {
     "cell_type": "markdown",
     "metadata": {
      "slideshow": {
       "slide_type": "slide"
      }
     },
     "source": [
      "<center>![](files/images/nowwhat.gif)</center>"
     ]
    },
    {
     "cell_type": "markdown",
     "metadata": {
      "slideshow": {
       "slide_type": "notes"
      }
     },
     "source": [
      "Well that was easy... but now you've got a bunch of data and no real idea what it looks like. You have a vague idea that you want the computer to generate a team for you, but you don't really know how you intend to accomplish it."
     ]
    },
    {
     "cell_type": "code",
     "collapsed": false,
     "input": [
      "website(\"http://ipython.org/notebook.html\")"
     ],
     "language": "python",
     "metadata": {
      "slideshow": {
       "slide_type": "slide"
      }
     },
     "outputs": [
      {
       "html": [
        "<iframe src=\"http://ipython.org/notebook.html\"  width=\"800\" height=\"450\">"
       ],
       "metadata": {},
       "output_type": "pyout",
       "prompt_number": 3,
       "text": [
        "<IPython.core.display.HTML at 0x103566f90>"
       ]
      }
     ],
     "prompt_number": 3
    },
    {
     "cell_type": "markdown",
     "metadata": {
      "slideshow": {
       "slide_type": "notes"
      }
     },
     "source": [
      "Enter: ipython notebook. Although it's reasonably new, ipython notebook has rapidly become my go-to tool for exploring data, generating graphs, and running experiments."
     ]
    },
    {
     "cell_type": "code",
     "collapsed": false,
     "input": [
      "import cPickle\n",
      "players = cPickle.load(open(\"players.data.pickle\"))\n",
      "players[1]"
     ],
     "language": "python",
     "metadata": {
      "slideshow": {
       "slide_type": "slide"
      }
     },
     "outputs": [
      {
       "metadata": {},
       "output_type": "pyout",
       "prompt_number": 4,
       "text": [
        "{u'added': u'2013-07-15T13:21:12 UTC+0000',\n",
        " u'code': 37096,\n",
        " u'current_fixture': u'Crystal Palace (H)',\n",
        " u'element_type_id': 1,\n",
        " u'event_cost': 42,\n",
        " u'event_explain': [[u'Minutes played', 0, 0]],\n",
        " u'event_points': 0,\n",
        " u'event_total': 0,\n",
        " u'first_name': u'Lukasz',\n",
        " u'fixture_history': {u'all': [[u'17 Aug 15:00',\n",
        "    1,\n",
        "    u'AVL(H) 1-3',\n",
        "    0,\n",
        "    0,\n",
        "    0,\n",
        "    0,\n",
        "    0,\n",
        "    0,\n",
        "    0,\n",
        "    0,\n",
        "    0,\n",
        "    0,\n",
        "    0,\n",
        "    0,\n",
        "    0,\n",
        "    0,\n",
        "    0,\n",
        "    45,\n",
        "    0],\n",
        "   [u'24 Aug 12:45',\n",
        "    2,\n",
        "    u'FUL(A) 3-1',\n",
        "    0,\n",
        "    0,\n",
        "    0,\n",
        "    0,\n",
        "    0,\n",
        "    0,\n",
        "    0,\n",
        "    0,\n",
        "    0,\n",
        "    0,\n",
        "    0,\n",
        "    0,\n",
        "    0,\n",
        "    0,\n",
        "    -1322,\n",
        "    45,\n",
        "    0],\n",
        "   [u'01 Sep 16:00',\n",
        "    3,\n",
        "    u'TOT(H) 1-0',\n",
        "    0,\n",
        "    0,\n",
        "    0,\n",
        "    0,\n",
        "    0,\n",
        "    0,\n",
        "    0,\n",
        "    0,\n",
        "    0,\n",
        "    0,\n",
        "    0,\n",
        "    0,\n",
        "    0,\n",
        "    0,\n",
        "    -1350,\n",
        "    45,\n",
        "    0],\n",
        "   [u'14 Sep 15:00',\n",
        "    4,\n",
        "    u'SUN(A) 3-1',\n",
        "    0,\n",
        "    0,\n",
        "    0,\n",
        "    0,\n",
        "    0,\n",
        "    0,\n",
        "    0,\n",
        "    0,\n",
        "    0,\n",
        "    0,\n",
        "    0,\n",
        "    0,\n",
        "    0,\n",
        "    0,\n",
        "    -1259,\n",
        "    44,\n",
        "    0],\n",
        "   [u'22 Sep 13:30',\n",
        "    5,\n",
        "    u'STK(H) 3-1',\n",
        "    0,\n",
        "    0,\n",
        "    0,\n",
        "    0,\n",
        "    0,\n",
        "    0,\n",
        "    0,\n",
        "    0,\n",
        "    0,\n",
        "    0,\n",
        "    0,\n",
        "    0,\n",
        "    0,\n",
        "    0,\n",
        "    -1091,\n",
        "    44,\n",
        "    0],\n",
        "   [u'28 Sep 17:30',\n",
        "    6,\n",
        "    u'SWA(A) 2-1',\n",
        "    0,\n",
        "    0,\n",
        "    0,\n",
        "    0,\n",
        "    0,\n",
        "    0,\n",
        "    0,\n",
        "    0,\n",
        "    0,\n",
        "    0,\n",
        "    0,\n",
        "    0,\n",
        "    0,\n",
        "    0,\n",
        "    -852,\n",
        "    44,\n",
        "    0],\n",
        "   [u'06 Oct 16:00',\n",
        "    7,\n",
        "    u'WBA(A) 1-1',\n",
        "    0,\n",
        "    0,\n",
        "    0,\n",
        "    0,\n",
        "    0,\n",
        "    0,\n",
        "    0,\n",
        "    0,\n",
        "    0,\n",
        "    0,\n",
        "    0,\n",
        "    0,\n",
        "    0,\n",
        "    0,\n",
        "    -712,\n",
        "    44,\n",
        "    0],\n",
        "   [u'19 Oct 15:00',\n",
        "    8,\n",
        "    u'NOR(H) 4-1',\n",
        "    0,\n",
        "    0,\n",
        "    0,\n",
        "    0,\n",
        "    0,\n",
        "    0,\n",
        "    0,\n",
        "    0,\n",
        "    0,\n",
        "    0,\n",
        "    0,\n",
        "    0,\n",
        "    0,\n",
        "    0,\n",
        "    -388,\n",
        "    44,\n",
        "    0],\n",
        "   [u'26 Oct 12:45',\n",
        "    9,\n",
        "    u'CRY(A) 2-0',\n",
        "    0,\n",
        "    0,\n",
        "    0,\n",
        "    0,\n",
        "    0,\n",
        "    0,\n",
        "    0,\n",
        "    0,\n",
        "    0,\n",
        "    0,\n",
        "    0,\n",
        "    0,\n",
        "    0,\n",
        "    0,\n",
        "    -343,\n",
        "    43,\n",
        "    0],\n",
        "   [u'02 Nov 17:30',\n",
        "    10,\n",
        "    u'LIV(H) 2-0',\n",
        "    0,\n",
        "    0,\n",
        "    0,\n",
        "    0,\n",
        "    0,\n",
        "    0,\n",
        "    0,\n",
        "    0,\n",
        "    0,\n",
        "    0,\n",
        "    0,\n",
        "    0,\n",
        "    0,\n",
        "    0,\n",
        "    -218,\n",
        "    43,\n",
        "    0],\n",
        "   [u'10 Nov 16:10',\n",
        "    11,\n",
        "    u'MUN(A) 0-1',\n",
        "    0,\n",
        "    0,\n",
        "    0,\n",
        "    0,\n",
        "    0,\n",
        "    0,\n",
        "    0,\n",
        "    0,\n",
        "    0,\n",
        "    0,\n",
        "    0,\n",
        "    0,\n",
        "    0,\n",
        "    0,\n",
        "    -247,\n",
        "    43,\n",
        "    0],\n",
        "   [u'23 Nov 15:00',\n",
        "    12,\n",
        "    u'SOU(H) 2-0',\n",
        "    0,\n",
        "    0,\n",
        "    0,\n",
        "    0,\n",
        "    0,\n",
        "    0,\n",
        "    0,\n",
        "    0,\n",
        "    0,\n",
        "    0,\n",
        "    0,\n",
        "    0,\n",
        "    0,\n",
        "    0,\n",
        "    -221,\n",
        "    43,\n",
        "    0],\n",
        "   [u'30 Nov 15:00',\n",
        "    13,\n",
        "    u'CAR(A) 3-0',\n",
        "    0,\n",
        "    0,\n",
        "    0,\n",
        "    0,\n",
        "    0,\n",
        "    0,\n",
        "    0,\n",
        "    0,\n",
        "    0,\n",
        "    0,\n",
        "    0,\n",
        "    0,\n",
        "    0,\n",
        "    0,\n",
        "    -257,\n",
        "    43,\n",
        "    0],\n",
        "   [u'04 Dec 19:45',\n",
        "    14,\n",
        "    u'HUL(H) 2-0',\n",
        "    0,\n",
        "    0,\n",
        "    0,\n",
        "    0,\n",
        "    0,\n",
        "    0,\n",
        "    0,\n",
        "    0,\n",
        "    0,\n",
        "    0,\n",
        "    0,\n",
        "    0,\n",
        "    0,\n",
        "    0,\n",
        "    -283,\n",
        "    43,\n",
        "    0],\n",
        "   [u'08 Dec 16:00',\n",
        "    15,\n",
        "    u'EVE(H) 1-1',\n",
        "    0,\n",
        "    0,\n",
        "    0,\n",
        "    0,\n",
        "    0,\n",
        "    0,\n",
        "    0,\n",
        "    0,\n",
        "    0,\n",
        "    0,\n",
        "    0,\n",
        "    0,\n",
        "    0,\n",
        "    0,\n",
        "    -251,\n",
        "    43,\n",
        "    0],\n",
        "   [u'14 Dec 12:45',\n",
        "    16,\n",
        "    u'MCI(A) 3-6',\n",
        "    0,\n",
        "    0,\n",
        "    0,\n",
        "    0,\n",
        "    0,\n",
        "    0,\n",
        "    0,\n",
        "    0,\n",
        "    0,\n",
        "    0,\n",
        "    0,\n",
        "    0,\n",
        "    0,\n",
        "    0,\n",
        "    -213,\n",
        "    42,\n",
        "    0],\n",
        "   [u'23 Dec 20:00',\n",
        "    17,\n",
        "    u'CHE(H) 0-0',\n",
        "    0,\n",
        "    0,\n",
        "    0,\n",
        "    0,\n",
        "    0,\n",
        "    0,\n",
        "    0,\n",
        "    0,\n",
        "    0,\n",
        "    0,\n",
        "    0,\n",
        "    0,\n",
        "    0,\n",
        "    0,\n",
        "    -123,\n",
        "    42,\n",
        "    0],\n",
        "   [u'26 Dec 15:00',\n",
        "    18,\n",
        "    u'WHU(A) 3-1',\n",
        "    0,\n",
        "    0,\n",
        "    0,\n",
        "    0,\n",
        "    0,\n",
        "    0,\n",
        "    0,\n",
        "    0,\n",
        "    0,\n",
        "    0,\n",
        "    0,\n",
        "    0,\n",
        "    0,\n",
        "    0,\n",
        "    -105,\n",
        "    42,\n",
        "    0],\n",
        "   [u'29 Dec 13:30',\n",
        "    19,\n",
        "    u'NEW(A) 1-0',\n",
        "    0,\n",
        "    0,\n",
        "    0,\n",
        "    0,\n",
        "    0,\n",
        "    0,\n",
        "    0,\n",
        "    0,\n",
        "    0,\n",
        "    0,\n",
        "    0,\n",
        "    0,\n",
        "    0,\n",
        "    0,\n",
        "    -103,\n",
        "    42,\n",
        "    0],\n",
        "   [u'01 Jan 15:00',\n",
        "    20,\n",
        "    u'CAR(H) 2-0',\n",
        "    0,\n",
        "    0,\n",
        "    0,\n",
        "    0,\n",
        "    0,\n",
        "    0,\n",
        "    0,\n",
        "    0,\n",
        "    0,\n",
        "    0,\n",
        "    0,\n",
        "    0,\n",
        "    0,\n",
        "    0,\n",
        "    -83,\n",
        "    42,\n",
        "    0],\n",
        "   [u'13 Jan 20:00',\n",
        "    21,\n",
        "    u'AVL(A) 2-1',\n",
        "    0,\n",
        "    0,\n",
        "    0,\n",
        "    0,\n",
        "    0,\n",
        "    0,\n",
        "    0,\n",
        "    0,\n",
        "    0,\n",
        "    0,\n",
        "    0,\n",
        "    0,\n",
        "    0,\n",
        "    0,\n",
        "    -17,\n",
        "    42,\n",
        "    0],\n",
        "   [u'18 Jan 15:00',\n",
        "    22,\n",
        "    u'FUL(H) 2-0',\n",
        "    0,\n",
        "    0,\n",
        "    0,\n",
        "    0,\n",
        "    0,\n",
        "    0,\n",
        "    0,\n",
        "    0,\n",
        "    0,\n",
        "    0,\n",
        "    0,\n",
        "    0,\n",
        "    0,\n",
        "    0,\n",
        "    -32,\n",
        "    42,\n",
        "    0],\n",
        "   [u'28 Jan 19:45',\n",
        "    23,\n",
        "    u'SOU(A) 2-2',\n",
        "    0,\n",
        "    0,\n",
        "    0,\n",
        "    0,\n",
        "    0,\n",
        "    0,\n",
        "    0,\n",
        "    0,\n",
        "    0,\n",
        "    0,\n",
        "    0,\n",
        "    0,\n",
        "    0,\n",
        "    0,\n",
        "    -35,\n",
        "    42,\n",
        "    0],\n",
        "   [u'02 Feb 16:00',\n",
        "    24,\n",
        "    u'CRY(H) 2-0',\n",
        "    0,\n",
        "    0,\n",
        "    0,\n",
        "    0,\n",
        "    0,\n",
        "    0,\n",
        "    0,\n",
        "    0,\n",
        "    0,\n",
        "    0,\n",
        "    0,\n",
        "    0,\n",
        "    0,\n",
        "    0,\n",
        "    -6,\n",
        "    42,\n",
        "    0]],\n",
        "  u'summary': [[22, u'FUL (H)', 0], [23, u'SOU (A)', 0], [24, u'CRY (H)', 0]]},\n",
        " u'fixtures': {u'all': [[u'08 Feb 12:45', u'Gameweek 25', u'Liverpool (A)'],\n",
        "   [u'12 Feb 19:45', u'Gameweek 26', u'Man Utd (H)'],\n",
        "   [u'22 Feb 15:00', u'Gameweek 27', u'Sunderland (H)'],\n",
        "   [u'01 Mar 15:00', u'Gameweek 28', u'Stoke City (A)'],\n",
        "   [u'08 Mar 15:00', u'Gameweek 29', u'Swansea (H)'],\n",
        "   [u'16 Mar 16:00', u'Gameweek 30', u'Tottenham (A)'],\n",
        "   [u'22 Mar 12:45', u'Gameweek 31', u'Chelsea (A)'],\n",
        "   [u'29 Mar 17:30', u'Gameweek 32', u'Man City (H)'],\n",
        "   [u'05 Apr 15:00', u'Gameweek 33', u'Everton (A)'],\n",
        "   [u'12 Apr 15:00', u'Gameweek 34', u'West Ham (H)'],\n",
        "   [u'19 Apr 15:00', u'Gameweek 35', u'Hull City (A)'],\n",
        "   [u'26 Apr 15:00', u'Gameweek 36', u'Newcastle (H)'],\n",
        "   [u'03 May 15:00', u'Gameweek 37', u'West Brom (H)'],\n",
        "   [u'11 May 15:00', u'Gameweek 38', u'Norwich (A)']],\n",
        "  u'summary': [[25, u'LIV (A)', u'08 Feb 12:45'],\n",
        "   [26, u'MUN (H)', u'12 Feb 19:45'],\n",
        "   [27, u'SUN (H)', u'22 Feb 15:00']]},\n",
        " u'form': 0.0,\n",
        " u'id': 1,\n",
        " u'in_dreamteam': False,\n",
        " u'last_season_points': 0,\n",
        " u'max_cost': 45,\n",
        " u'min_cost': 42,\n",
        " u'news': u'',\n",
        " u'news_added': None,\n",
        " u'news_return': None,\n",
        " u'news_updated': None,\n",
        " u'next_fixture': u'Liverpool (A)',\n",
        " u'now_cost': 42,\n",
        " u'original_cost': 45,\n",
        " u'photo_mobile_url': u'http://cdn.ismfg.net/static/plfpl/img/shirts/photos/37096.jpg',\n",
        " u'points_per_game': 0.0,\n",
        " u'season_history': [[u'2007/08',\n",
        "   248,\n",
        "   0,\n",
        "   0,\n",
        "   0,\n",
        "   2,\n",
        "   0,\n",
        "   0,\n",
        "   0,\n",
        "   0,\n",
        "   0,\n",
        "   8,\n",
        "   0,\n",
        "   0,\n",
        "   0,\n",
        "   46,\n",
        "   15],\n",
        "  [u'2008/09', 463, 0, 0, 0, 10, 0, 0, 0, 0, 0, 18, 0, 0, 0, 46, 20],\n",
        "  [u'2009/10', 360, 0, 0, 0, 5, 0, 0, 0, 1, 0, 11, 0, 0, 0, 49, 15],\n",
        "  [u'2010/11', 1260, 0, 1, 5, 14, 0, 0, 0, 0, 0, 33, 2, 0, 0, 45, 55],\n",
        "  [u'2011/12', 0, 0, 0, 0, 0, 0, 0, 0, 0, 0, 0, 0, 0, 0, 53, 0],\n",
        "  [u'2012/13', 360, 0, 0, 1, 3, 0, 0, 0, 0, 0, 7, 0, 57, 0, 42, 13]],\n",
        " u'second_name': u'Fabianski',\n",
        " u'selected': 17295,\n",
        " u'selected_by': u'0.5',\n",
        " u'shirt_image_url': u'http://cdn.ismfg.net/static/plfpl/img/shirts/shirt_1_1.png',\n",
        " u'shirt_mobile_image_url': u'http://cdn.ismfg.net/static/plfpl/img/shirts/mobile/shirt_1_1.png',\n",
        " u'squad_number': None,\n",
        " u'status': u'a',\n",
        " u'team_code': 37096,\n",
        " u'team_id': 1,\n",
        " u'team_name': u'Arsenal',\n",
        " u'total_points': 0,\n",
        " u'transfers_in': 4112,\n",
        " u'transfers_in_event': 31,\n",
        " u'transfers_out': 13666,\n",
        " u'transfers_out_event': 74,\n",
        " u'type_name': u'Goalkeeper',\n",
        " u'web_name': u'Fabianski'}"
       ]
      }
     ],
     "prompt_number": 4
    },
    {
     "cell_type": "markdown",
     "metadata": {
      "slideshow": {
       "slide_type": "notes"
      }
     },
     "source": [
      "Using ipython notebook, you load up your data and start playing with it. You see that `players` is a big dictionary, keyed on the id of the player, and each value is a big JSON object. It looks like `fixture_history` contains the games each player has played so far."
     ]
    },
    {
     "cell_type": "code",
     "collapsed": false,
     "input": [
      "%matplotlib inline\n",
      "figsize(12, 4)\n",
      "#import prettyplotlib as ppl\n",
      "#dir(ppl)"
     ],
     "language": "python",
     "metadata": {
      "slideshow": {
       "slide_type": "skip"
      }
     },
     "outputs": [],
     "prompt_number": 16
    },
    {
     "cell_type": "code",
     "collapsed": false,
     "input": [
      "points = {}\n",
      "for p in players.itervalues():\n",
      "    for game in p['fixture_history']['all']:\n",
      "        if game[3] > 0:\n",
      "            points.setdefault(p['type_name'], []).append(game[19])\n",
      "\n",
      "fig, (ax0, ax1, ax2, ax3) = plt.subplots(ncols=4, sharey=True)\n",
      "#figsize(12,12)\n",
      "#fig, (ax0, ax1, ax2, ax3) = plt.subplots(nrows=4, sharex=True)\n",
      "ax0.hist(points[\"Forward\"])\n",
      "ax0.set_title(\"Forwards\")\n",
      "ax1.hist(points[\"Midfielder\"])\n",
      "ax1.set_title(\"Midfielders\")\n",
      "ax2.hist(points[\"Defender\"])\n",
      "ax2.set_title(\"Defenders\")\n",
      "ax3.hist(points[\"Goalkeeper\"])\n",
      "ax3.set_title(\"Goalkeepers\")\n",
      "fig.show()"
     ],
     "language": "python",
     "metadata": {
      "slideshow": {
       "slide_type": "slide"
      }
     },
     "outputs": [
      {
       "metadata": {},
       "output_type": "display_data",
       "png": "[encoded data removed]",
       "text": [
        "<matplotlib.figure.Figure at 0x1072d13d0>"
       ]
      }
     ],
     "prompt_number": 19
    },
    {
     "cell_type": "markdown",
     "metadata": {
      "slideshow": {
       "slide_type": "notes"
      }
     },
     "source": [
      "You decide to do your first experiment: how many points are scored by each position? "
     ]
    },
    {
     "cell_type": "code",
     "collapsed": false,
     "input": [
      "%run talktools"
     ],
     "language": "python",
     "metadata": {
      "slideshow": {
       "slide_type": "skip"
      }
     },
     "outputs": [
      {
       "html": [
        "<style>\n",
        "\n",
        ".rendered_html\n",
        "{\n",
        "  color: #2C5494;\n",
        "  font-family: Ubuntu;\n",
        "  font-size: 140%;\n",
        "  line-height: 1.1;\n",
        "  margin: 0.5em 0;\n",
        "  }\n",
        "\n",
        ".title\n",
        "{\n",
        "  color: #498AF3;\n",
        "  font-size: 250%;\n",
        "  font-weight:bold;\n",
        "  line-height: 1.2; \n",
        "  margin: 10px 50px 10px;\n",
        "  }\n",
        "\n",
        ".subtitle\n",
        "{\n",
        "  color: #386BBC;\n",
        "  font-size: 180%;\n",
        "  font-weight:bold;\n",
        "  line-height: 1.2; \n",
        "  margin: 20px 50px 20px;\n",
        "  }\n",
        "\n",
        ".slide-header, p.slide-header\n",
        "{\n",
        "  color: #498AF3;\n",
        "  font-size: 200%;\n",
        "  font-weight:bold;\n",
        "  margin: 0px 20px 10px;\n",
        "  page-break-before: always;\n",
        "  text-align: center;\n",
        "  }\n",
        "\n",
        ".rendered_html h1\n",
        "{\n",
        "  color: #498AF3;\n",
        "  line-height: 1.2; \n",
        "  margin: 0.15em 0em 0.5em;\n",
        "  page-break-before: always;\n",
        "  text-align: center;\n",
        "  }\n",
        "\n",
        "\n",
        ".rendered_html h2\n",
        "{ \n",
        "  color: #386BBC;\n",
        "  line-height: 1.2;\n",
        "  margin: 1.1em 0em 0.5em;\n",
        "  }\n",
        "\n",
        ".rendered_html h3\n",
        "{ \n",
        "  font-size: 100%;\n",
        "  line-height: 1.2;\n",
        "  margin: 1.1em 0em 0.5em;\n",
        "  }\n",
        "\n",
        ".rendered_html li\n",
        "{\n",
        "  line-height: 1.8;\n",
        "  }\n",
        "\n",
        ".input_prompt, .CodeMirror-lines, .output_area\n",
        "{\n",
        "  font-family: Consolas;\n",
        "  font-size: 120%;\n",
        "  }\n",
        "\n",
        ".gap-above\n",
        "{\n",
        "  padding-top: 200px;\n",
        "  }\n",
        "\n",
        ".gap01\n",
        "{\n",
        "  padding-top: 10px;\n",
        "  }\n",
        "\n",
        ".gap05\n",
        "{\n",
        "  padding-top: 50px;\n",
        "  }\n",
        "\n",
        ".gap1\n",
        "{\n",
        "  padding-top: 100px;\n",
        "  }\n",
        "\n",
        ".gap2\n",
        "{\n",
        "  padding-top: 200px;\n",
        "  }\n",
        "\n",
        ".gap3\n",
        "{\n",
        "  padding-top: 300px;\n",
        "  }\n",
        "\n",
        ".emph\n",
        "{\n",
        "  color: #386BBC;\n",
        "  }\n",
        "\n",
        ".warn\n",
        "{\n",
        "  color: red;\n",
        "  }\n",
        "\n",
        ".center\n",
        "{\n",
        "  text-align: center;\n",
        "  }\n",
        "\n",
        ".nb_link\n",
        "{\n",
        "    padding-bottom: 0.5em;\n",
        "}\n",
        "\n",
        "</style>\n"
       ],
       "metadata": {},
       "output_type": "display_data",
       "text": [
        "<IPython.core.display.HTML at 0x1036b0510>"
       ]
      }
     ],
     "prompt_number": 2
    },
    {
     "cell_type": "code",
     "collapsed": false,
     "input": [],
     "language": "python",
     "metadata": {},
     "outputs": []
    }
   ],
   "metadata": {}
  }
 ]
}