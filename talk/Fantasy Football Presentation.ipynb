{
 "metadata": {
  "name": ""
 },
 "nbformat": 3,
 "nbformat_minor": 0,
 "worksheets": [
  {
   "cells": [
    {
     "cell_type": "markdown",
     "metadata": {
      "slideshow": {
       "slide_type": "slide"
      }
     },
     "source": [
      "<p class=\"title\">Choosing a Fantasy Football Team</p>\n",
      "\n",
      "<p class=\"subtitle\">co-starring: IPython Notebook, requests, scipy, and lpsolve</p>\n",
      "\n",
      "<center>\n",
      "\n",
      "<p class=\"gap05\"<p>\n",
      "<h3>Bill Mill</h3>\n",
      "<h4>[billmill.org](http://billmill.org)</h4>\n",
      "<h4>[@llimllib](http://twitter.com/llimllib)</h4>\n",
      "\n",
      "<p class=\"gap2\"<p>\n",
      "</center>"
     ]
    },
    {
     "cell_type": "markdown",
     "metadata": {
      "slideshow": {
       "slide_type": "notes"
      }
     },
     "source": [
      "Hello, and thanks for coming. My name's Bill Mill, and I'm here to talk to you about choosing a fantasy football team with IPython, requests, scip, and lpsolve."
     ]
    },
    {
     "cell_type": "markdown",
     "metadata": {
      "slideshow": {
       "slide_type": "slide"
      }
     },
     "source": [
      "# Let's say you play Fantasy Football\n",
      "\n",
      "![](files/images/benat.jpg) **not** ![](files/images/lynch.jpg)"
     ]
    },
    {
     "cell_type": "markdown",
     "metadata": {
      "slideshow": {
       "slide_type": "notes"
      }
     },
     "source": [
      "Imagine that your friend has just suckered you into playing Fantasy Football... the type with round balls, rather than oblong ones. Imagine furthermore that you don't know what the heck you're doing, but you're determined that you can do well. In that case, you'd want to start by figuring out how the heck this game works."
     ]
    },
    {
     "cell_type": "markdown",
     "metadata": {
      "slideshow": {
       "slide_type": "slide"
      }
     },
     "source": [
      "# You Have a Team\n",
      "<center>\n",
      "![](files/images/screen.png)\n",
      "</center>"
     ]
    },
    {
     "cell_type": "markdown",
     "metadata": {
      "slideshow": {
       "slide_type": "notes"
      }
     },
     "source": [
      "In Fantasy Football, you have a team of 15 players. You have 11 starters and 4 subs for each gameweek. You score points based on how well your players do: goals, assists, and preventing the other team from scoring all gain you points."
     ]
    },
    {
     "cell_type": "markdown",
     "metadata": {
      "slideshow": {
       "slide_type": "slide"
      }
     },
     "source": [
      "# You have a limited budget\n",
      "<center>\n",
      "![](files/images/bank.jpg)\n",
      "</center>\n",
      "    \n",
      "# And each player costs a certain amount\n",
      "<center>\n",
      "![](files/images/prices.jpg)\n",
      "</center>"
     ]
    },
    {
     "cell_type": "markdown",
     "metadata": {
      "slideshow": {
       "slide_type": "notes"
      }
     },
     "source": [
      "As you assemble your team, you have one big constraint: each player costs a certain amount of money, and you have a limited bankroll. So, to assemble your team, you want to choose the 15 players that will score the most points *given* that they cost less than your bank account."
     ]
    },
    {
     "cell_type": "markdown",
     "metadata": {
      "slideshow": {
       "slide_type": "slide"
      }
     },
     "source": [
      "<center>\n",
      "<h1>That sounds like an optimization problem...</h1>\n",
      "\n",
      "<h2>I bet I could solve that with code</h2>\n",
      "</center>"
     ]
    },
    {
     "cell_type": "markdown",
     "metadata": {
      "slideshow": {
       "slide_type": "notes"
      }
     },
     "source": [
      "At this point, you might think, hey! Instead of picking randomly, I bet I could use my computer to try and pick a good team for me."
     ]
    },
    {
     "cell_type": "markdown",
     "metadata": {
      "slideshow": {
       "slide_type": "slide"
      }
     },
     "source": [
      "# Let's see if we can get the data...\n",
      "\n",
      "<center>\n",
      "![](files/images/api.png)\n",
      "</center>"
     ]
    },
    {
     "cell_type": "markdown",
     "metadata": {
      "slideshow": {
       "slide_type": "notes"
      }
     },
     "source": [
      "So once you decide it might be nice to use your computer, the first thing you need to do is gather data for all the players in the Premier League. You discover there's no official API, so you open up your trusty Chrome inspector, and what's that you see? An endpoint called /web/api? Well, I don't mind if I do! Let's try some hacking!"
     ]
    },
    {
     "cell_type": "code",
     "collapsed": false,
     "input": [
      "import requests, cPickle, shutil, time\n",
      "\n",
      "all = {}\n",
      "errorout = open(\"errors.log\", \"w\")\n",
      "\n",
      "for i in range(600):\n",
      "    playerurl = \"http://fantasy.premierleague.com/web/api/elements/%s/\"\n",
      "    r = requests.get(playerurl % i)\n",
      "\n",
      "    if r.status_code != 200: continue\n",
      "\n",
      "    if i%10 == 0: print i\n",
      "\n",
      "    try:\n",
      "        all[i] = r.json()\n",
      "    except ValueError:\n",
      "        print \"failed parsing player %s\" % i\n",
      "        errorout.write(\"Failed to parse player %s: %s\\n\" % (i, r.content))\n",
      "\n",
      "cPickle.dump(all, outfile)"
     ],
     "language": "python",
     "metadata": {
      "slideshow": {
       "slide_type": "slide"
      }
     },
     "outputs": []
    },
    {
     "cell_type": "markdown",
     "metadata": {
      "slideshow": {
       "slide_type": "notes"
      }
     },
     "source": [
      "In playing with it, you discover that each player has an ID between 0 and 600, though some IDs are not taken. The endpoint is indeed JSON, so it's easy to download and parse. So you write a little script to get all the data on all the players, stick it in a dictionary, and save it to a file."
     ]
    },
    {
     "cell_type": "markdown",
     "metadata": {
      "slideshow": {
       "slide_type": "slide"
      }
     },
     "source": [
      "<center>![](files/images/nowwhat.gif)</center>"
     ]
    },
    {
     "cell_type": "markdown",
     "metadata": {
      "slideshow": {
       "slide_type": "notes"
      }
     },
     "source": [
      "Well that was easy... but now you've got a bunch of data and no real idea what it looks like. You have a vague idea that you want the computer to generate a team for you, but you don't really know how you intend to accomplish it."
     ]
    },
    {
     "cell_type": "code",
     "collapsed": false,
     "input": [
      "website(\"http://ipython.org/notebook.html\")"
     ],
     "language": "python",
     "metadata": {
      "slideshow": {
       "slide_type": "slide"
      }
     },
     "outputs": [
      {
       "html": [
        "<iframe src=\"http://ipython.org/notebook.html\"  width=\"800\" height=\"450\"></iframe>"
       ],
       "metadata": {},
       "output_type": "pyout",
       "prompt_number": 63,
       "text": [
        "<IPython.core.display.HTML at 0x1072c3450>"
       ]
      }
     ],
     "prompt_number": 63
    },
    {
     "cell_type": "markdown",
     "metadata": {
      "slideshow": {
       "slide_type": "notes"
      }
     },
     "source": [
      "Enter: ipython notebook. Although it's reasonably new, ipython notebook has rapidly become my go-to tool for exploring data, generating graphs, and running experiments."
     ]
    },
    {
     "cell_type": "code",
     "collapsed": false,
     "input": [
      "import cPickle\n",
      "players = cPickle.load(open(\"players.data.pickle\"))\n",
      "players[1]"
     ],
     "language": "python",
     "metadata": {
      "slideshow": {
       "slide_type": "slide"
      }
     },
     "outputs": [
      {
       "metadata": {},
       "output_type": "pyout",
       "prompt_number": 4,
       "text": [
        "{u'added': u'2013-07-15T13:21:12 UTC+0000',\n",
        " u'code': 37096,\n",
        " u'current_fixture': u'Crystal Palace (H)',\n",
        " u'element_type_id': 1,\n",
        " u'event_cost': 42,\n",
        " u'event_explain': [[u'Minutes played', 0, 0]],\n",
        " u'event_points': 0,\n",
        " u'event_total': 0,\n",
        " u'first_name': u'Lukasz',\n",
        " u'fixture_history': {u'all': [[u'17 Aug 15:00',\n",
        "    1,\n",
        "    u'AVL(H) 1-3',\n",
        "    0,\n",
        "    0,\n",
        "    0,\n",
        "    0,\n",
        "    0,\n",
        "    0,\n",
        "    0,\n",
        "    0,\n",
        "    0,\n",
        "    0,\n",
        "    0,\n",
        "    0,\n",
        "    0,\n",
        "    0,\n",
        "    0,\n",
        "    45,\n",
        "    0],\n",
        "   [u'24 Aug 12:45',\n",
        "    2,\n",
        "    u'FUL(A) 3-1',\n",
        "    0,\n",
        "    0,\n",
        "    0,\n",
        "    0,\n",
        "    0,\n",
        "    0,\n",
        "    0,\n",
        "    0,\n",
        "    0,\n",
        "    0,\n",
        "    0,\n",
        "    0,\n",
        "    0,\n",
        "    0,\n",
        "    -1322,\n",
        "    45,\n",
        "    0],\n",
        "   [u'01 Sep 16:00',\n",
        "    3,\n",
        "    u'TOT(H) 1-0',\n",
        "    0,\n",
        "    0,\n",
        "    0,\n",
        "    0,\n",
        "    0,\n",
        "    0,\n",
        "    0,\n",
        "    0,\n",
        "    0,\n",
        "    0,\n",
        "    0,\n",
        "    0,\n",
        "    0,\n",
        "    0,\n",
        "    -1350,\n",
        "    45,\n",
        "    0],\n",
        "   [u'14 Sep 15:00',\n",
        "    4,\n",
        "    u'SUN(A) 3-1',\n",
        "    0,\n",
        "    0,\n",
        "    0,\n",
        "    0,\n",
        "    0,\n",
        "    0,\n",
        "    0,\n",
        "    0,\n",
        "    0,\n",
        "    0,\n",
        "    0,\n",
        "    0,\n",
        "    0,\n",
        "    0,\n",
        "    -1259,\n",
        "    44,\n",
        "    0],\n",
        "   [u'22 Sep 13:30',\n",
        "    5,\n",
        "    u'STK(H) 3-1',\n",
        "    0,\n",
        "    0,\n",
        "    0,\n",
        "    0,\n",
        "    0,\n",
        "    0,\n",
        "    0,\n",
        "    0,\n",
        "    0,\n",
        "    0,\n",
        "    0,\n",
        "    0,\n",
        "    0,\n",
        "    0,\n",
        "    -1091,\n",
        "    44,\n",
        "    0],\n",
        "   [u'28 Sep 17:30',\n",
        "    6,\n",
        "    u'SWA(A) 2-1',\n",
        "    0,\n",
        "    0,\n",
        "    0,\n",
        "    0,\n",
        "    0,\n",
        "    0,\n",
        "    0,\n",
        "    0,\n",
        "    0,\n",
        "    0,\n",
        "    0,\n",
        "    0,\n",
        "    0,\n",
        "    0,\n",
        "    -852,\n",
        "    44,\n",
        "    0],\n",
        "   [u'06 Oct 16:00',\n",
        "    7,\n",
        "    u'WBA(A) 1-1',\n",
        "    0,\n",
        "    0,\n",
        "    0,\n",
        "    0,\n",
        "    0,\n",
        "    0,\n",
        "    0,\n",
        "    0,\n",
        "    0,\n",
        "    0,\n",
        "    0,\n",
        "    0,\n",
        "    0,\n",
        "    0,\n",
        "    -712,\n",
        "    44,\n",
        "    0],\n",
        "   [u'19 Oct 15:00',\n",
        "    8,\n",
        "    u'NOR(H) 4-1',\n",
        "    0,\n",
        "    0,\n",
        "    0,\n",
        "    0,\n",
        "    0,\n",
        "    0,\n",
        "    0,\n",
        "    0,\n",
        "    0,\n",
        "    0,\n",
        "    0,\n",
        "    0,\n",
        "    0,\n",
        "    0,\n",
        "    -388,\n",
        "    44,\n",
        "    0],\n",
        "   [u'26 Oct 12:45',\n",
        "    9,\n",
        "    u'CRY(A) 2-0',\n",
        "    0,\n",
        "    0,\n",
        "    0,\n",
        "    0,\n",
        "    0,\n",
        "    0,\n",
        "    0,\n",
        "    0,\n",
        "    0,\n",
        "    0,\n",
        "    0,\n",
        "    0,\n",
        "    0,\n",
        "    0,\n",
        "    -343,\n",
        "    43,\n",
        "    0],\n",
        "   [u'02 Nov 17:30',\n",
        "    10,\n",
        "    u'LIV(H) 2-0',\n",
        "    0,\n",
        "    0,\n",
        "    0,\n",
        "    0,\n",
        "    0,\n",
        "    0,\n",
        "    0,\n",
        "    0,\n",
        "    0,\n",
        "    0,\n",
        "    0,\n",
        "    0,\n",
        "    0,\n",
        "    0,\n",
        "    -218,\n",
        "    43,\n",
        "    0],\n",
        "   [u'10 Nov 16:10',\n",
        "    11,\n",
        "    u'MUN(A) 0-1',\n",
        "    0,\n",
        "    0,\n",
        "    0,\n",
        "    0,\n",
        "    0,\n",
        "    0,\n",
        "    0,\n",
        "    0,\n",
        "    0,\n",
        "    0,\n",
        "    0,\n",
        "    0,\n",
        "    0,\n",
        "    0,\n",
        "    -247,\n",
        "    43,\n",
        "    0],\n",
        "   [u'23 Nov 15:00',\n",
        "    12,\n",
        "    u'SOU(H) 2-0',\n",
        "    0,\n",
        "    0,\n",
        "    0,\n",
        "    0,\n",
        "    0,\n",
        "    0,\n",
        "    0,\n",
        "    0,\n",
        "    0,\n",
        "    0,\n",
        "    0,\n",
        "    0,\n",
        "    0,\n",
        "    0,\n",
        "    -221,\n",
        "    43,\n",
        "    0],\n",
        "   [u'30 Nov 15:00',\n",
        "    13,\n",
        "    u'CAR(A) 3-0',\n",
        "    0,\n",
        "    0,\n",
        "    0,\n",
        "    0,\n",
        "    0,\n",
        "    0,\n",
        "    0,\n",
        "    0,\n",
        "    0,\n",
        "    0,\n",
        "    0,\n",
        "    0,\n",
        "    0,\n",
        "    0,\n",
        "    -257,\n",
        "    43,\n",
        "    0],\n",
        "   [u'04 Dec 19:45',\n",
        "    14,\n",
        "    u'HUL(H) 2-0',\n",
        "    0,\n",
        "    0,\n",
        "    0,\n",
        "    0,\n",
        "    0,\n",
        "    0,\n",
        "    0,\n",
        "    0,\n",
        "    0,\n",
        "    0,\n",
        "    0,\n",
        "    0,\n",
        "    0,\n",
        "    0,\n",
        "    -283,\n",
        "    43,\n",
        "    0],\n",
        "   [u'08 Dec 16:00',\n",
        "    15,\n",
        "    u'EVE(H) 1-1',\n",
        "    0,\n",
        "    0,\n",
        "    0,\n",
        "    0,\n",
        "    0,\n",
        "    0,\n",
        "    0,\n",
        "    0,\n",
        "    0,\n",
        "    0,\n",
        "    0,\n",
        "    0,\n",
        "    0,\n",
        "    0,\n",
        "    -251,\n",
        "    43,\n",
        "    0],\n",
        "   [u'14 Dec 12:45',\n",
        "    16,\n",
        "    u'MCI(A) 3-6',\n",
        "    0,\n",
        "    0,\n",
        "    0,\n",
        "    0,\n",
        "    0,\n",
        "    0,\n",
        "    0,\n",
        "    0,\n",
        "    0,\n",
        "    0,\n",
        "    0,\n",
        "    0,\n",
        "    0,\n",
        "    0,\n",
        "    -213,\n",
        "    42,\n",
        "    0],\n",
        "   [u'23 Dec 20:00',\n",
        "    17,\n",
        "    u'CHE(H) 0-0',\n",
        "    0,\n",
        "    0,\n",
        "    0,\n",
        "    0,\n",
        "    0,\n",
        "    0,\n",
        "    0,\n",
        "    0,\n",
        "    0,\n",
        "    0,\n",
        "    0,\n",
        "    0,\n",
        "    0,\n",
        "    0,\n",
        "    -123,\n",
        "    42,\n",
        "    0],\n",
        "   [u'26 Dec 15:00',\n",
        "    18,\n",
        "    u'WHU(A) 3-1',\n",
        "    0,\n",
        "    0,\n",
        "    0,\n",
        "    0,\n",
        "    0,\n",
        "    0,\n",
        "    0,\n",
        "    0,\n",
        "    0,\n",
        "    0,\n",
        "    0,\n",
        "    0,\n",
        "    0,\n",
        "    0,\n",
        "    -105,\n",
        "    42,\n",
        "    0],\n",
        "   [u'29 Dec 13:30',\n",
        "    19,\n",
        "    u'NEW(A) 1-0',\n",
        "    0,\n",
        "    0,\n",
        "    0,\n",
        "    0,\n",
        "    0,\n",
        "    0,\n",
        "    0,\n",
        "    0,\n",
        "    0,\n",
        "    0,\n",
        "    0,\n",
        "    0,\n",
        "    0,\n",
        "    0,\n",
        "    -103,\n",
        "    42,\n",
        "    0],\n",
        "   [u'01 Jan 15:00',\n",
        "    20,\n",
        "    u'CAR(H) 2-0',\n",
        "    0,\n",
        "    0,\n",
        "    0,\n",
        "    0,\n",
        "    0,\n",
        "    0,\n",
        "    0,\n",
        "    0,\n",
        "    0,\n",
        "    0,\n",
        "    0,\n",
        "    0,\n",
        "    0,\n",
        "    0,\n",
        "    -83,\n",
        "    42,\n",
        "    0],\n",
        "   [u'13 Jan 20:00',\n",
        "    21,\n",
        "    u'AVL(A) 2-1',\n",
        "    0,\n",
        "    0,\n",
        "    0,\n",
        "    0,\n",
        "    0,\n",
        "    0,\n",
        "    0,\n",
        "    0,\n",
        "    0,\n",
        "    0,\n",
        "    0,\n",
        "    0,\n",
        "    0,\n",
        "    0,\n",
        "    -17,\n",
        "    42,\n",
        "    0],\n",
        "   [u'18 Jan 15:00',\n",
        "    22,\n",
        "    u'FUL(H) 2-0',\n",
        "    0,\n",
        "    0,\n",
        "    0,\n",
        "    0,\n",
        "    0,\n",
        "    0,\n",
        "    0,\n",
        "    0,\n",
        "    0,\n",
        "    0,\n",
        "    0,\n",
        "    0,\n",
        "    0,\n",
        "    0,\n",
        "    -32,\n",
        "    42,\n",
        "    0],\n",
        "   [u'28 Jan 19:45',\n",
        "    23,\n",
        "    u'SOU(A) 2-2',\n",
        "    0,\n",
        "    0,\n",
        "    0,\n",
        "    0,\n",
        "    0,\n",
        "    0,\n",
        "    0,\n",
        "    0,\n",
        "    0,\n",
        "    0,\n",
        "    0,\n",
        "    0,\n",
        "    0,\n",
        "    0,\n",
        "    -35,\n",
        "    42,\n",
        "    0],\n",
        "   [u'02 Feb 16:00',\n",
        "    24,\n",
        "    u'CRY(H) 2-0',\n",
        "    0,\n",
        "    0,\n",
        "    0,\n",
        "    0,\n",
        "    0,\n",
        "    0,\n",
        "    0,\n",
        "    0,\n",
        "    0,\n",
        "    0,\n",
        "    0,\n",
        "    0,\n",
        "    0,\n",
        "    0,\n",
        "    -6,\n",
        "    42,\n",
        "    0]],\n",
        "  u'summary': [[22, u'FUL (H)', 0], [23, u'SOU (A)', 0], [24, u'CRY (H)', 0]]},\n",
        " u'fixtures': {u'all': [[u'08 Feb 12:45', u'Gameweek 25', u'Liverpool (A)'],\n",
        "   [u'12 Feb 19:45', u'Gameweek 26', u'Man Utd (H)'],\n",
        "   [u'22 Feb 15:00', u'Gameweek 27', u'Sunderland (H)'],\n",
        "   [u'01 Mar 15:00', u'Gameweek 28', u'Stoke City (A)'],\n",
        "   [u'08 Mar 15:00', u'Gameweek 29', u'Swansea (H)'],\n",
        "   [u'16 Mar 16:00', u'Gameweek 30', u'Tottenham (A)'],\n",
        "   [u'22 Mar 12:45', u'Gameweek 31', u'Chelsea (A)'],\n",
        "   [u'29 Mar 17:30', u'Gameweek 32', u'Man City (H)'],\n",
        "   [u'05 Apr 15:00', u'Gameweek 33', u'Everton (A)'],\n",
        "   [u'12 Apr 15:00', u'Gameweek 34', u'West Ham (H)'],\n",
        "   [u'19 Apr 15:00', u'Gameweek 35', u'Hull City (A)'],\n",
        "   [u'26 Apr 15:00', u'Gameweek 36', u'Newcastle (H)'],\n",
        "   [u'03 May 15:00', u'Gameweek 37', u'West Brom (H)'],\n",
        "   [u'11 May 15:00', u'Gameweek 38', u'Norwich (A)']],\n",
        "  u'summary': [[25, u'LIV (A)', u'08 Feb 12:45'],\n",
        "   [26, u'MUN (H)', u'12 Feb 19:45'],\n",
        "   [27, u'SUN (H)', u'22 Feb 15:00']]},\n",
        " u'form': 0.0,\n",
        " u'id': 1,\n",
        " u'in_dreamteam': False,\n",
        " u'last_season_points': 0,\n",
        " u'max_cost': 45,\n",
        " u'min_cost': 42,\n",
        " u'news': u'',\n",
        " u'news_added': None,\n",
        " u'news_return': None,\n",
        " u'news_updated': None,\n",
        " u'next_fixture': u'Liverpool (A)',\n",
        " u'now_cost': 42,\n",
        " u'original_cost': 45,\n",
        " u'photo_mobile_url': u'http://cdn.ismfg.net/static/plfpl/img/shirts/photos/37096.jpg',\n",
        " u'points_per_game': 0.0,\n",
        " u'season_history': [[u'2007/08',\n",
        "   248,\n",
        "   0,\n",
        "   0,\n",
        "   0,\n",
        "   2,\n",
        "   0,\n",
        "   0,\n",
        "   0,\n",
        "   0,\n",
        "   0,\n",
        "   8,\n",
        "   0,\n",
        "   0,\n",
        "   0,\n",
        "   46,\n",
        "   15],\n",
        "  [u'2008/09', 463, 0, 0, 0, 10, 0, 0, 0, 0, 0, 18, 0, 0, 0, 46, 20],\n",
        "  [u'2009/10', 360, 0, 0, 0, 5, 0, 0, 0, 1, 0, 11, 0, 0, 0, 49, 15],\n",
        "  [u'2010/11', 1260, 0, 1, 5, 14, 0, 0, 0, 0, 0, 33, 2, 0, 0, 45, 55],\n",
        "  [u'2011/12', 0, 0, 0, 0, 0, 0, 0, 0, 0, 0, 0, 0, 0, 0, 53, 0],\n",
        "  [u'2012/13', 360, 0, 0, 1, 3, 0, 0, 0, 0, 0, 7, 0, 57, 0, 42, 13]],\n",
        " u'second_name': u'Fabianski',\n",
        " u'selected': 17295,\n",
        " u'selected_by': u'0.5',\n",
        " u'shirt_image_url': u'http://cdn.ismfg.net/static/plfpl/img/shirts/shirt_1_1.png',\n",
        " u'shirt_mobile_image_url': u'http://cdn.ismfg.net/static/plfpl/img/shirts/mobile/shirt_1_1.png',\n",
        " u'squad_number': None,\n",
        " u'status': u'a',\n",
        " u'team_code': 37096,\n",
        " u'team_id': 1,\n",
        " u'team_name': u'Arsenal',\n",
        " u'total_points': 0,\n",
        " u'transfers_in': 4112,\n",
        " u'transfers_in_event': 31,\n",
        " u'transfers_out': 13666,\n",
        " u'transfers_out_event': 74,\n",
        " u'type_name': u'Goalkeeper',\n",
        " u'web_name': u'Fabianski'}"
       ]
      }
     ],
     "prompt_number": 4
    },
    {
     "cell_type": "markdown",
     "metadata": {
      "slideshow": {
       "slide_type": "notes"
      }
     },
     "source": [
      "Using ipython notebook, you load up your data and start playing with it. You see that `players` is a big dictionary, keyed on the id of the player, and each value is a big JSON object. It looks like `fixture_history` contains the games each player has played so far."
     ]
    },
    {
     "cell_type": "code",
     "collapsed": false,
     "input": [
      "%matplotlib inline\n",
      "figsize(12, 4)\n",
      "#import prettyplotlib as ppl\n",
      "#dir(ppl)"
     ],
     "language": "python",
     "metadata": {
      "slideshow": {
       "slide_type": "skip"
      }
     },
     "outputs": [],
     "prompt_number": 16
    },
    {
     "cell_type": "code",
     "collapsed": false,
     "input": [
      "points = {}\n",
      "for p in players.itervalues():\n",
      "    for game in p['fixture_history']['all']:\n",
      "        if game[3] > 0:\n",
      "            points.setdefault(p['type_name'], []).append(game[19])\n",
      "\n",
      "def poshist(axis, position):\n",
      "    axis.hist(points[position])\n",
      "    axis.set_title(position)\n",
      "    return axis\n",
      "\n",
      "fig, (ax0, ax1, ax2, ax3) = plt.subplots(ncols=4, sharey=True, figsize=(18,4))\n",
      "poshist(ax0, \"Forward\")\n",
      "poshist(ax1, \"Midfielder\")\n",
      "poshist(ax2, \"Defender\")\n",
      "poshist(ax3, \"Goalkeeper\")\n",
      "fig.show()"
     ],
     "language": "python",
     "metadata": {
      "slideshow": {
       "slide_type": "slide"
      }
     },
     "outputs": [
      {
       "metadata": {},
       "output_type": "display_data",
       "png": "[encoded data removed]",
       "text": [
        "<matplotlib.figure.Figure at 0x10710b4d0>"
       ]
      }
     ],
     "prompt_number": 28
    },
    {
     "cell_type": "markdown",
     "metadata": {
      "slideshow": {
       "slide_type": "notes"
      }
     },
     "source": [
      "You decide to do your first experiment: how many points are scored by each position? Immediately, we can see a few things:\n",
      "\n",
      "* Forwards tend to have the very highest scoring games\n",
      "* There are lots of midfilders, and they range pretty broadly from low to high scoring games\n",
      "* Defenders tend to score either 0, 2 or 6 points, but rarely more\n",
      "* Goalkeepers tend to score 0, 2, or 6.\n",
      "\n",
      "I could take the time to come up with stories explaining why those are plausible results due to the scoring rules, but let's just accept it for now.\n",
      "\n",
      "The point is that, with a very small amount of code, weyou've been able to run an experiment, make graphs, and draw conclusions about our data."
     ]
    },
    {
     "cell_type": "code",
     "collapsed": false,
     "input": [
      "opponents = {}\n",
      "for player in players.itervalues():\n",
      "    for game in player[\"fixture_history\"][\"all\"]:\n",
      "        #skip games where the player played 0 minutes\n",
      "        if game[3] == 0: continue\n",
      "        opp = game[2][:3]\n",
      "        pts = game[19]\n",
      "        opponents.setdefault(opp, [0,0])[0] += pts\n",
      "        opponents[opp][1] += 1\n",
      "\n",
      "from collections import OrderedDict\n",
      "avgs = {}\n",
      "for opponent, (score, n) in opponents.iteritems():\n",
      "    avgs[opponent] = score/float(n)\n",
      "\n",
      "sorted_avgs = OrderedDict(sorted(avgs.items(), key=lambda t: t[1]))\n",
      "\n",
      "fig, ax = plt.subplots(figsize=(18,4))\n",
      "x_pos = np.arange(0, len(sorted_avgs.keys()))\n",
      "ax.set_xticks(x_pos+.4)\n",
      "ax.set_xticklabels(sorted_avgs.keys(), rotation=45)\n",
      "ax.bar(x_pos, sorted_avgs.values())\n",
      "fig.show()"
     ],
     "language": "python",
     "metadata": {
      "slideshow": {
       "slide_type": "slide"
      }
     },
     "outputs": [
      {
       "metadata": {},
       "output_type": "display_data",
       "png": "[encoded data removed]",
       "text": [
        "<matplotlib.figure.Figure at 0x10719cf10>"
       ]
      }
     ],
     "prompt_number": 60
    },
    {
     "cell_type": "markdown",
     "metadata": {
      "slideshow": {
       "slide_type": "notes"
      }
     },
     "source": [
      "You might ask another question: How many points does each team allow their opponents, on average?\n",
      "\n",
      "* Here we learn that the most generous team, Fulham, gives up nearly twice the points to their opponents that the stingiest, Liverpool, does"
     ]
    },
    {
     "cell_type": "code",
     "collapsed": false,
     "input": [
      "class Game(object):\n",
      "    def __init__(self, game_json):\n",
      "        self.opp = game_json[2][:3]\n",
      "        self.loc = game_json[2][4] # \"A\" for away, \"H\" for home\n",
      "        self.points = game_json[19]\n",
      "        self.minutes = game_json[3]\n",
      "    \n",
      "    def __repr__(self):\n",
      "        return \"Game vs. %s %s: %s pts\" % (self.opp, self.loc, self.points)\n",
      "\n",
      "team_abbreviations = {\n",
      "    'Norwich': 'NOR',\n",
      "    'Cardiff City': 'CAR',\n",
      "    'Man City': 'MCI',\n",
      "    'Newcastle': 'NEW',\n",
      "    'West Brom': 'WBA',\n",
      "    'West Ham': 'WHU',\n",
      "    'Southampton': 'SOU',\n",
      "    'Sunderland': 'SUN',\n",
      "    'Stoke City': 'STK',\n",
      "    'Crystal Palace': 'CRY',\n",
      "    'Arsenal': 'ARS',\n",
      "    'Swansea': 'SWA',\n",
      "    'Liverpool': 'LIV',\n",
      "    'Hull City': 'HUL',\n",
      "    'Man Utd': 'MUN',\n",
      "    'Everton': 'EVE',\n",
      "    'Fulham': 'FUL',\n",
      "    'Tottenham': 'TOT',\n",
      "    'Aston Villa': 'AVL',\n",
      "    'Chelsea': 'CHE',\n",
      "}\n",
      "    \n",
      "class Player(object):\n",
      "    def __init__(self, player_json):\n",
      "        self.games = [Game(g) for g in player_json[\"fixture_history\"][\"all\"]]\n",
      "        self.name = u\"{first_name} {second_name}\".format(**player_json)\n",
      "        self.cost = player_json[\"event_cost\"]\n",
      "        self.position = player_json[\"type_name\"]\n",
      "        self.pos = self.shortname(self.position)\n",
      "        self.upcoming = self.get_upcoming_fixtures(player_json[\"fixtures\"][\"all\"])\n",
      "        self.raw = player_json\n",
      "        self.team = team_abbreviations[player_json[\"team_name\"]]\n",
      "        self.idn = player_json[\"id\"]\n",
      "        self.news = player_json[\"news\"]\n",
      "        self.news_return = player_json[\"news_return\"]\n",
      "    \n",
      "    def get_upcoming_fixtures(self, fixtures):\n",
      "        upcoming = []\n",
      "        for _, gameweek, opponent in fixtures:\n",
      "            week = int(gameweek.split()[-1])\n",
      "            opp, loc = opponent.split('(')\n",
      "            opp = team_abbreviations[opp.strip()]\n",
      "            loc = loc[0]\n",
      "            upcoming.append((week, opp, loc))\n",
      "        return upcoming\n",
      "    \n",
      "    def shortname(self, position):\n",
      "        pos_abbreviations = {\n",
      "            \"Goalkeeper\": \"gk\",\n",
      "            \"Defender\": \"d\",\n",
      "            \"Midfielder\": \"m\",\n",
      "            \"Forward\": \"f\"\n",
      "        }\n",
      "        \n",
      "        return pos_abbreviations[position]\n",
      "    \n",
      "    def __repr__(self):\n",
      "        return \"#%s %s %s $%s %s\" % (self.idn, self.team, self.name.encode(\"ascii\", \"ignore\"), self.cost, self.pos)\n",
      "\n",
      "    def __unicode__(self):\n",
      "        return \"#%s %s $%s %s\" % (self.idn, self.name, self.cost, self.pos)\n",
      "\n",
      "        return u\"Player: %s %s\" % (self.name, self.cost)"
     ],
     "language": "python",
     "metadata": {
      "slideshow": {
       "slide_type": "slide"
      }
     },
     "outputs": [],
     "prompt_number": 61
    },
    {
     "cell_type": "code",
     "collapsed": false,
     "input": [],
     "language": "python",
     "metadata": {
      "slideshow": {
       "slide_type": "notes"
      }
     },
     "outputs": []
    },
    {
     "cell_type": "code",
     "collapsed": false,
     "input": [
      "%run talktools"
     ],
     "language": "python",
     "metadata": {
      "slideshow": {
       "slide_type": "skip"
      }
     },
     "outputs": [
      {
       "html": [
        "<style>\n",
        "\n",
        ".rendered_html\n",
        "{\n",
        "  color: #2C5494;\n",
        "  font-family: Ubuntu;\n",
        "  font-size: 140%;\n",
        "  line-height: 1.1;\n",
        "  margin: 0.5em 0;\n",
        "  }\n",
        "\n",
        ".title\n",
        "{\n",
        "  color: #498AF3;\n",
        "  font-size: 250%;\n",
        "  font-weight:bold;\n",
        "  line-height: 1.2; \n",
        "  margin: 10px 50px 10px;\n",
        "  }\n",
        "\n",
        ".subtitle\n",
        "{\n",
        "  color: #386BBC;\n",
        "  font-size: 180%;\n",
        "  font-weight:bold;\n",
        "  line-height: 1.2; \n",
        "  margin: 20px 50px 20px;\n",
        "  }\n",
        "\n",
        ".slide-header, p.slide-header\n",
        "{\n",
        "  color: #498AF3;\n",
        "  font-size: 200%;\n",
        "  font-weight:bold;\n",
        "  margin: 0px 20px 10px;\n",
        "  page-break-before: always;\n",
        "  text-align: center;\n",
        "  }\n",
        "\n",
        ".rendered_html h1\n",
        "{\n",
        "  color: #498AF3;\n",
        "  line-height: 1.2; \n",
        "  margin: 0.15em 0em 0.5em;\n",
        "  page-break-before: always;\n",
        "  text-align: center;\n",
        "  }\n",
        "\n",
        "\n",
        ".rendered_html h2\n",
        "{ \n",
        "  color: #386BBC;\n",
        "  line-height: 1.2;\n",
        "  margin: 1.1em 0em 0.5em;\n",
        "  }\n",
        "\n",
        ".rendered_html h3\n",
        "{ \n",
        "  font-size: 100%;\n",
        "  line-height: 1.2;\n",
        "  margin: 1.1em 0em 0.5em;\n",
        "  }\n",
        "\n",
        ".rendered_html li\n",
        "{\n",
        "  line-height: 1.8;\n",
        "  }\n",
        "\n",
        ".input_prompt, .CodeMirror-lines, .output_area\n",
        "{\n",
        "  font-family: Consolas;\n",
        "  font-size: 120%;\n",
        "  }\n",
        "\n",
        ".gap-above\n",
        "{\n",
        "  padding-top: 200px;\n",
        "  }\n",
        "\n",
        ".gap01\n",
        "{\n",
        "  padding-top: 10px;\n",
        "  }\n",
        "\n",
        ".gap05\n",
        "{\n",
        "  padding-top: 50px;\n",
        "  }\n",
        "\n",
        ".gap1\n",
        "{\n",
        "  padding-top: 100px;\n",
        "  }\n",
        "\n",
        ".gap2\n",
        "{\n",
        "  padding-top: 200px;\n",
        "  }\n",
        "\n",
        ".gap3\n",
        "{\n",
        "  padding-top: 300px;\n",
        "  }\n",
        "\n",
        ".emph\n",
        "{\n",
        "  color: #386BBC;\n",
        "  }\n",
        "\n",
        ".warn\n",
        "{\n",
        "  color: red;\n",
        "  }\n",
        "\n",
        ".center\n",
        "{\n",
        "  text-align: center;\n",
        "  }\n",
        "\n",
        ".nb_link\n",
        "{\n",
        "    padding-bottom: 0.5em;\n",
        "}\n",
        "\n",
        "</style>\n"
       ],
       "metadata": {},
       "output_type": "display_data",
       "text": [
        "<IPython.core.display.HTML at 0x10719c050>"
       ]
      }
     ],
     "prompt_number": 62
    },
    {
     "cell_type": "code",
     "collapsed": false,
     "input": [],
     "language": "python",
     "metadata": {},
     "outputs": []
    }
   ],
   "metadata": {}
  }
 ]
}